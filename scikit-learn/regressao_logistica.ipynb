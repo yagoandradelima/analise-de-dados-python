{
 "cells": [
  {
   "cell_type": "code",
   "execution_count": 25,
   "metadata": {},
   "outputs": [],
   "source": [
    "import numpy as np\n",
    "import pandas as pd\n",
    "import matplotlib.pyplot as plt\n",
    "from sklearn.linear_model import LogisticRegression\n",
    "from sklearn.datasets import load_iris\n",
    "\n",
    "X, y = load_iris(return_X_y=True, as_frame=True)"
   ]
  },
  {
   "cell_type": "code",
   "execution_count": 26,
   "metadata": {},
   "outputs": [],
   "source": [
    "# Selecionando apenas petal width (cm) e pegando apenas os dados de target 0 e 1\n",
    "# Esse filtro é para se adaptar aos parâmetros da regressão logística\n",
    "\n",
    "X = X.loc[y.isin([0, 1]), 'petal width (cm)'].values\n",
    "\n",
    "y = y[y.isin([0, 1])].values"
   ]
  },
  {
   "cell_type": "code",
   "execution_count": 27,
   "metadata": {},
   "outputs": [],
   "source": [
    "from sklearn.model_selection import train_test_split\n",
    "\n",
    "X_train, X_test, y_train, y_test = train_test_split(X, y, test_size=0.33, random_state=42)"
   ]
  },
  {
   "cell_type": "code",
   "execution_count": 28,
   "metadata": {},
   "outputs": [
    {
     "data": {
      "image/png": "[encoded data removed]",
      "text/plain": [
       "<Figure size 640x480 with 1 Axes>"
      ]
     },
     "metadata": {},
     "output_type": "display_data"
    }
   ],
   "source": [
    "fig, ax = plt.subplots()\n",
    "\n",
    "ax.scatter(X_train, y_train)\n",
    "ax.set(yticks=[0, 1], xticks=[0, 0.3, 0.6, 0.9, 1.2, 1.5])\n",
    "plt.show()"
   ]
  },
  {
   "cell_type": "code",
   "execution_count": 29,
   "metadata": {},
   "outputs": [],
   "source": [
    "# Realizando Regressão com treino dando reshape nos dados\n",
    "clf = LogisticRegression(random_state=0).fit(X_train.reshape(-1, 1), y_train)"
   ]
  },
  {
   "cell_type": "code",
   "execution_count": 34,
   "metadata": {},
   "outputs": [],
   "source": [
    "# Armazenando o coeficiente angular para gerar o y do expit\n",
    "# o [0][0] é porquê o coef_ fica dentro de uma lista dentro de outra lista\n",
    "w1 = clf.coef_[0][0]"
   ]
  },
  {
   "cell_type": "code",
   "execution_count": 35,
   "metadata": {},
   "outputs": [],
   "source": [
    "# Armazenando o Coeficiente linear para gerar o gráfico do expit\n",
    "# intercept_ só fica dentro de uma lista\n",
    "w0 = clf.intercept_[0] "
   ]
  },
  {
   "cell_type": "code",
   "execution_count": 36,
   "metadata": {},
   "outputs": [
    {
     "data": {
      "text/plain": [
       "array([0.1       , 0.11515152, 0.13030303, 0.14545455, 0.16060606,\n",
       "       0.17575758, 0.19090909, 0.20606061, 0.22121212, 0.23636364,\n",
       "       0.25151515, 0.26666667, 0.28181818, 0.2969697 , 0.31212121,\n",
       "       0.32727273, 0.34242424, 0.35757576, 0.37272727, 0.38787879,\n",
       "       0.4030303 , 0.41818182, 0.43333333, 0.44848485, 0.46363636,\n",
       "       0.47878788, 0.49393939, 0.50909091, 0.52424242, 0.53939394,\n",
       "       0.55454545, 0.56969697, 0.58484848, 0.6       , 0.61515152,\n",
       "       0.63030303, 0.64545455, 0.66060606, 0.67575758, 0.69090909,\n",
       "       0.70606061, 0.72121212, 0.73636364, 0.75151515, 0.76666667,\n",
       "       0.78181818, 0.7969697 , 0.81212121, 0.82727273, 0.84242424,\n",
       "       0.85757576, 0.87272727, 0.88787879, 0.9030303 , 0.91818182,\n",
       "       0.93333333, 0.94848485, 0.96363636, 0.97878788, 0.99393939,\n",
       "       1.00909091, 1.02424242, 1.03939394, 1.05454545, 1.06969697,\n",
       "       1.08484848, 1.1       , 1.11515152, 1.13030303, 1.14545455,\n",
       "       1.16060606, 1.17575758, 1.19090909, 1.20606061, 1.22121212,\n",
       "       1.23636364, 1.25151515, 1.26666667, 1.28181818, 1.2969697 ,\n",
       "       1.31212121, 1.32727273, 1.34242424, 1.35757576, 1.37272727,\n",
       "       1.38787879, 1.4030303 , 1.41818182, 1.43333333, 1.44848485,\n",
       "       1.46363636, 1.47878788, 1.49393939, 1.50909091, 1.52424242,\n",
       "       1.53939394, 1.55454545, 1.56969697, 1.58484848, 1.6       ])"
      ]
     },
     "execution_count": 36,
     "metadata": {},
     "output_type": "execute_result"
    }
   ],
   "source": [
    "# importando a função que gera o gráfico da curva da regressão logística\n",
    "from scipy.special import expit\n",
    "\n",
    "# gerando pontos lineares equivalentes para imprimir no expit\n",
    "valores_x = np.linspace(X_train.min(), X_train.max(), 100)\n",
    "valores_x"
   ]
  },
  {
   "cell_type": "code",
   "execution_count": 42,
   "metadata": {},
   "outputs": [],
   "source": [
    "# Valores para gerar a curva do gráfico\n",
    "valores_y = expit(w1 * valores_x + w0)\n",
    "valores_y_treino = expit(w1 * X_train + w0)"
   ]
  },
  {
   "cell_type": "code",
   "execution_count": 43,
   "metadata": {},
   "outputs": [
    {
     "data": {
      "image/png": "[encoded data removed]",
      "text/plain": [
       "<Figure size 640x480 with 1 Axes>"
      ]
     },
     "metadata": {},
     "output_type": "display_data"
    }
   ],
   "source": [
    "# O linspace acima foi puramente visual e esse gráfico é pra comrpeender o visual da regressão\n",
    "fig, ax = plt.subplots()\n",
    "\n",
    "ax.scatter(X_train, y_train)\n",
    "ax.set(yticks=[0, 1], xticks=[0, 0.3, 0.6, 0.9, 1.2, 1.5])\n",
    "ax.plot(valores_x, valores_y)\n",
    "ax.scatter(X_train, valores_y_treino)\n",
    "plt.show()"
   ]
  },
  {
   "cell_type": "markdown",
   "metadata": {},
   "source": [
    "# Compreensão do Gráfico\n",
    "Apesar de ser um pouco complicado de compreender, o gráfico da regressão logística é bem simples. Em azul, temos os pontos reais do target e em laranja sua posição equivalente na curva da regressão logística.\n",
    "\n",
    "### Mas o que esse ponto laranja faz?\n",
    "Basicamente a distância entre o ponto azul e seu equivalente alaranjado na mesma posição em relação ao eixo X do gráfico é a probabilidade dele ser ou não um determinado valor. Por exemplo, digamos que quando X é 0.3 o ponto laranja esteja há 0.73469089 de distância para quando y é igual a 1 e há uma distância de 0.26530911 para quando y é igual a 0. O que esses números significam?\n",
    "\n",
    "-  Quando X = 0.3 existe uma probabilidade de 73,47% do valor ser 0\n",
    "-  Quando X = 0.3 existe uma probabilidade de 26,53% do valor ser 1\n",
    "\n",
    "As distâncias do ponto laranja para os valores de y, indicam a probabilidade de um determinado valor ser ele ou não. É assim que a regressão logística trabalha.\n",
    "\n",
    "**Esses pontos laranjas afinal, são o quê?**\n",
    "\n",
    "Eles na verdade são os valores de y após você aplicar a função matemática `expit()` em X_train. A função de `expit()` realiza o cálculo de uma curva que é a base da regressão logística (para mais informações, é bom visitar a documentação do `scipy.special.expit`).\n",
    "\n",
    "Os pontos laranja são o posicionamento dos dados com relação a y quando você passa o X_train para o gráfico\n",
    "\n",
    "> Atenção! Para uso em predições de probabilidade temos que usar o X_test! É que esse gráfico é um exemplo prátivo de como a regressão lotgística funciona."
   ]
  },
  {
   "cell_type": "code",
   "execution_count": 46,
   "metadata": {},
   "outputs": [
    {
     "data": {
      "text/plain": [
       "array([[0.88718204, 0.11281796],\n",
       "       [0.26530911, 0.73469089],\n",
       "       [0.78449692, 0.21550308],\n",
       "       [0.05001742, 0.94998258],\n",
       "       [0.07182627, 0.92817373]])"
      ]
     },
     "execution_count": 46,
     "metadata": {},
     "output_type": "execute_result"
    }
   ],
   "source": [
    "clf.predict_proba(X_train.reshape(-1, 1))[0:5]"
   ]
  },
  {
   "cell_type": "code",
   "execution_count": 47,
   "metadata": {},
   "outputs": [
    {
     "data": {
      "text/plain": [
       "array([[19,  0],\n",
       "       [ 0, 14]], dtype=int64)"
      ]
     },
     "execution_count": 47,
     "metadata": {},
     "output_type": "execute_result"
    }
   ],
   "source": [
    "from sklearn.metrics import confusion_matrix, classification_report\n",
    "\n",
    "y_pred = clf.predict(X_test.reshape(-1, 1))\n",
    "\n",
    "confusion_matrix(y_true=y_test, y_pred=y_pred)"
   ]
  },
  {
   "cell_type": "code",
   "execution_count": 48,
   "metadata": {},
   "outputs": [
    {
     "name": "stdout",
     "output_type": "stream",
     "text": [
      "              precision    recall  f1-score   support\n",
      "\n",
      "           0       1.00      1.00      1.00        19\n",
      "           1       1.00      1.00      1.00        14\n",
      "\n",
      "    accuracy                           1.00        33\n",
      "   macro avg       1.00      1.00      1.00        33\n",
      "weighted avg       1.00      1.00      1.00        33\n",
      "\n"
     ]
    }
   ],
   "source": [
    "print(classification_report(y_true=y_test, y_pred=y_pred))"
   ]
  },
  {
   "cell_type": "code",
   "execution_count": null,
   "metadata": {},
   "outputs": [],
   "source": []
  }
 ],
 "metadata": {
  "kernelspec": {
   "display_name": "base",
   "language": "python",
   "name": "python3"
  },
  "language_info": {
   "codemirror_mode": {
    "name": "ipython",
    "version": 3
   },
   "file_extension": ".py",
   "mimetype": "text/x-python",
   "name": "python",
   "nbconvert_exporter": "python",
   "pygments_lexer": "ipython3",
   "version": "3.11.5"
  }
 },
 "nbformat": 4,
 "nbformat_minor": 2
}
