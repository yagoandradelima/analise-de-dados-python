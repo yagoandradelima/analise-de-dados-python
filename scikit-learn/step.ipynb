{
 "cells": [
  {
   "cell_type": "code",
   "execution_count": 20,
   "metadata": {},
   "outputs": [
    {
     "data": {
      "text/plain": [
       "array([8])"
      ]
     },
     "execution_count": 20,
     "metadata": {},
     "output_type": "execute_result"
    }
   ],
   "source": [
    "from sklearn import datasets\n",
    "from sklearn import svm\n",
    "\n",
    "iris = datasets.load_iris()\n",
    "digits = datasets.load_digits()\n",
    "\n",
    "# Dá para referenciar qualquer instância dataset seja images, target ou até data\n",
    "digits.images[0]\n",
    "\n",
    "clf = svm.SVC(gamma=0.001, C=100.)\n",
    "\n",
    "# Parâmetro .fit é onde eu coloco os dados que serão utilizados para treino do algoritmo\n",
    "# Nesse código ele vai pegar todos os exemplos de data e target menos o último, para treinar\n",
    "clf.fit(digits.data[:-1], digits.target[:-1])\n",
    "\n",
    "# Algoritmo realiza uma previsão visando criar o último item da coluna\n",
    "clf.predict(digits.data[-1:])\n",
    "\n",
    "# A resposta em imagem do algoritmo está na documentação"
   ]
  }
 ],
 "metadata": {
  "kernelspec": {
   "display_name": "base",
   "language": "python",
   "name": "python3"
  },
  "language_info": {
   "codemirror_mode": {
    "name": "ipython",
    "version": 3
   },
   "file_extension": ".py",
   "mimetype": "text/x-python",
   "name": "python",
   "nbconvert_exporter": "python",
   "pygments_lexer": "ipython3",
   "version": "3.10.9"
  }
 },
 "nbformat": 4,
 "nbformat_minor": 2
}
