{
 "cells": [
  {
   "cell_type": "code",
   "execution_count": 1,
   "metadata": {},
   "outputs": [],
   "source": [
    "import numpy as np\n",
    "import pandas as pd \n",
    "import matplotlib as mp"
   ]
  },
  {
   "cell_type": "code",
   "execution_count": 5,
   "metadata": {},
   "outputs": [
    {
     "name": "stdout",
     "output_type": "stream",
     "text": [
      "  index,Name Platform Year_of_Release Genre  Publisher  NA_Sales EU_Sales  \\\n",
      "0       0,53       76              51     8      322.0  Nintendo        E   \n",
      "1       1,24      NaN             NaN   NaN        NaN       NaN      NaN   \n",
      "\n",
      "   JP_Sales  Other_Sales  Global_Sales  Critic_Score  Critic_Count  \\\n",
      "0       NaN          NaN           NaN           NaN           NaN   \n",
      "1       NaN          NaN           NaN           NaN           NaN   \n",
      "\n",
      "   User_Score  User_Count  Developer  Rating  Unnamed: 16  Unnamed: 17  \n",
      "0         NaN         NaN        NaN     NaN          NaN          NaN  \n",
      "1         NaN         NaN        NaN     NaN          NaN          NaN  \n"
     ]
    }
   ],
   "source": [
    "df = pd.read_csv('./video-game-sales/video_games_sales.csv')\n",
    "print(df.head(2))"
   ]
  }
 ],
 "metadata": {
  "kernelspec": {
   "display_name": "base",
   "language": "python",
   "name": "python3"
  },
  "language_info": {
   "codemirror_mode": {
    "name": "ipython",
    "version": 3
   },
   "file_extension": ".py",
   "mimetype": "text/x-python",
   "name": "python",
   "nbconvert_exporter": "python",
   "pygments_lexer": "ipython3",
   "version": "3.10.9"
  }
 },
 "nbformat": 4,
 "nbformat_minor": 2
}
