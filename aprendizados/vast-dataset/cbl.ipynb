{
 "cells": [
  {
   "cell_type": "code",
   "execution_count": 35,
   "metadata": {},
   "outputs": [
    {
     "data": {
      "text/plain": [
       "Index(['gameid', 'datacompleteness', 'url', 'league', 'year', 'split',\n",
       "       'playoffs', 'date', 'game', 'patch',\n",
       "       ...\n",
       "       'opp_csat15', 'golddiffat15', 'xpdiffat15', 'csdiffat15', 'killsat15',\n",
       "       'assistsat15', 'deathsat15', 'opp_killsat15', 'opp_assistsat15',\n",
       "       'opp_deathsat15'],\n",
       "      dtype='object', length=123)"
      ]
     },
     "execution_count": 35,
     "metadata": {},
     "output_type": "execute_result"
    }
   ],
   "source": [
    "import numpy as np\n",
    "import pandas as pd\n",
    "import plotly.express as px\n",
    "\n",
    "df = pd.read_csv('cbl-dataset.csv')\n",
    "\n",
    "# Criando um DataFrame provisório para filtrar apenas ligas majors\n",
    "df_ml = df.loc[df['league'].isin(['LCS', 'CBLOL', 'LEC', 'LPL', 'LCK'])]\n",
    "\n",
    "df_ml.columns"
   ]
  }
 ],
 "metadata": {
  "kernelspec": {
   "display_name": "base",
   "language": "python",
   "name": "python3"
  },
  "language_info": {
   "codemirror_mode": {
    "name": "ipython",
    "version": 3
   },
   "file_extension": ".py",
   "mimetype": "text/x-python",
   "name": "python",
   "nbconvert_exporter": "python",
   "pygments_lexer": "ipython3",
   "version": "3.10.9"
  }
 },
 "nbformat": 4,
 "nbformat_minor": 2
}
