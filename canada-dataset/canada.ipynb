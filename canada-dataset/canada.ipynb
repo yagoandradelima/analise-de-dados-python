{
 "cells": [
  {
   "cell_type": "code",
   "execution_count": 9,
   "metadata": {},
   "outputs": [
    {
     "data": {
      "application/vnd.plotly.v1+json": {
       "config": {
        "plotlyServerURL": "https://plot.ly"
       },
       "data": [
        {
         "alignmentgroup": "True",
         "hovertemplate": "Country of Citizenship=%{x}<br>2015=%{y}<extra></extra>",
         "legendgroup": "",
         "marker": {
          "color": "#636efa",
          "pattern": {
           "shape": ""
          }
         },
         "name": "",
         "offsetgroup": "",
         "orientation": "v",
         "showlegend": false,
         "textposition": "auto",
         "type": "bar",
         "x": [
          "Afghanistan",
          "Albania",
          "Algeria",
          "Andorra",
          "Angola",
          "Anguilla",
          "Antigua and Barbuda",
          "Argentina",
          "Armenia",
          "Aruba",
          "Australia",
          "Austria",
          "Azerbaijan",
          "Bahama Islands, The",
          "Bahrain",
          "Bangladesh",
          "Barbados",
          "Belarus",
          "Belgium",
          "Belize",
          "Benin, Republic of",
          "Bermuda",
          "Bhutan",
          "Bolivia",
          "Bonaire, Sin Eustatius And Saba",
          "Bosnia-Herzegovina",
          "Botswana, Republic of",
          "Brazil",
          "Brunei",
          "Bulgaria",
          "Burkina-Faso",
          "Burundi",
          "Cambodia",
          "Cameroon, Federal Republic of",
          "Cape Verde Islands",
          "Cayman Islands",
          "Central African Republic",
          "Chad, Republic of",
          "Chile",
          "China, People's Republic of",
          "Colombia",
          "Comoros",
          "Congo, Democratic Republic of the",
          "Congo, People's Republic of the",
          "Costa Rica",
          "Croatia",
          "Cuba",
          "Curacao",
          "Cyprus",
          "Czech Republic",
          "Denmark",
          "Djibouti, Republic of",
          "Dominica",
          "Dominican Republic",
          "East Timor, Democratic Republic of",
          "Ecuador",
          "Egypt",
          "El Salvador",
          "Equatorial Guinea, Republic of",
          "Eritrea",
          "Estonia",
          "Ethiopia",
          "Fiji",
          "Finland",
          "France",
          "French Guiana",
          "French Polynesia",
          "Gabon Republic",
          "Gambia",
          "Georgia",
          "Germany",
          "Ghana",
          "Greece",
          "Grenada",
          "Guadeloupe",
          "Guatemala",
          "Guinea, Republic of",
          "Guinea-Bissau",
          "Guyana",
          "Haiti",
          "Holy See",
          "Honduras",
          "Hong Kong SAR",
          "Hungary",
          "Iceland",
          "India",
          "Indonesia, Republic of",
          "Iran",
          "Iraq",
          "Ireland, Republic of",
          "Israel",
          "Italy",
          "Ivory Coast, Republic of",
          "Jamaica",
          "Japan",
          "Jordan",
          "Kazakhstan",
          "Kenya",
          "Korea, People's Democratic Republic of",
          "Korea, Republic of",
          "Kosovo, Republic of",
          "Kuwait",
          "Kyrgyzstan",
          "Laos",
          "Latvia",
          "Lebanon",
          "Lesotho",
          "Liberia",
          "Libya",
          "Liechtenstein",
          "Lithuania",
          "Luxembourg",
          "Macau SAR",
          "Macedonia",
          "Madagascar",
          "Malawi",
          "Malaysia",
          "Maldives, Republic of",
          "Mali, Republic of",
          "Malta",
          "Marshall Islands, Republic of the",
          "Martinique",
          "Mauritania",
          "Mauritius",
          "Mexico",
          "Micronesia, Federated States of",
          "Moldova",
          "Monaco",
          "Mongolia, People's Republic of",
          "Montenegro, Republic of",
          "Morocco",
          "Mozambique",
          "Myanmar (Burma)",
          "Namibia",
          "Nepal",
          "Netherlands Antilles, The",
          "Netherlands, The",
          "New Caledonia",
          "New Zealand",
          "Nicaragua",
          "Niger, Republic of the",
          "Nigeria",
          "Norway",
          "Oman",
          "Other",
          "Pakistan",
          "Palau, Republic of",
          "Palestinian Authority (Gaza/West Bank)",
          "Panama, Republic of",
          "Papua New Guinea",
          "Paraguay",
          "Peru",
          "Philippines",
          "Poland",
          "Portugal",
          "Qatar",
          "Reunion",
          "Romania",
          "Russia",
          "Rwanda",
          "Saint-Martin",
          "Samoa, Independent State of",
          "San Marino",
          "Sao Tome and Principe",
          "Saudi Arabia",
          "Senegal",
          "Serbia, Republic of",
          "Seychelles",
          "Sierra Leone",
          "Singapore",
          "Sint-Maarten",
          "Slovak Republic",
          "Slovenia",
          "Solomon Islands",
          "Somalia, Democratic Republic of",
          "South Africa, Republic of",
          "South Sudan, Republic of",
          "Spain",
          "Sri Lanka",
          "St. Kitts-Nevis",
          "St. Lucia",
          "St. Vincent and the Grenadines",
          "Stateless",
          "Sudan, Democratic Republic of",
          "Surinam",
          "Swaziland",
          "Sweden",
          "Switzerland",
          "Syria",
          "Taiwan",
          "Tajikistan",
          "Tanzania, United Republic of",
          "Thailand",
          "Togo, Republic of",
          "Tonga",
          "Trinidad and Tobago, Republic of",
          "Tunisia",
          "Turkey",
          "Turkmenistan",
          "Turks and Caicos Islands",
          "Tuvalu",
          "Uganda",
          "Ukraine",
          "United Arab Emirates",
          "United Kingdom and Overseas Territories",
          "United States Minor Outlying Islands",
          "United States of America",
          "Uruguay",
          "Uzbekistan",
          "Vanuatu",
          "Venezuela",
          "Vietnam",
          "Virgin Islands, British",
          "Western Sahara",
          "Yemen",
          "Zambia",
          "Zimbabwe"
         ],
         "xaxis": "x",
         "y": [
          95,
          115,
          1060,
          0,
          65,
          0,
          60,
          160,
          20,
          0,
          480,
          110,
          70,
          445,
          25,
          1400,
          190,
          45,
          315,
          60,
          420,
          0,
          5,
          50,
          0,
          15,
          50,
          6625,
          0,
          35,
          365,
          140,
          135,
          1100,
          0,
          0,
          25,
          55,
          360,
          68350,
          1380,
          0,
          470,
          170,
          80,
          100,
          75,
          0,
          10,
          115,
          100,
          25,
          5,
          170,
          0,
          410,
          830,
          180,
          0,
          85,
          15,
          145,
          5,
          95,
          12125,
          0,
          0,
          80,
          50,
          10,
          2060,
          810,
          140,
          25,
          0,
          50,
          190,
          0,
          120,
          375,
          0,
          75,
          2180,
          110,
          40,
          32465,
          775,
          2405,
          120,
          230,
          395,
          1025,
          665,
          1380,
          6300,
          295,
          495,
          440,
          0,
          15870,
          40,
          140,
          10,
          5,
          25,
          420,
          0,
          5,
          1480,
          0,
          45,
          30,
          195,
          10,
          120,
          10,
          625,
          0,
          380,
          0,
          0,
          0,
          35,
          390,
          4325,
          0,
          50,
          5,
          120,
          5,
          1510,
          5,
          25,
          10,
          150,
          0,
          280,
          5,
          110,
          10,
          110,
          6610,
          165,
          85,
          25,
          2420,
          0,
          85,
          110,
          0,
          5,
          295,
          1950,
          185,
          270,
          15,
          0,
          125,
          1605,
          230,
          0,
          0,
          0,
          0,
          8165,
          775,
          95,
          0,
          15,
          320,
          0,
          130,
          20,
          0,
          20,
          300,
          0,
          1110,
          300,
          35,
          90,
          30,
          75,
          75,
          10,
          0,
          205,
          460,
          220,
          2410,
          0,
          315,
          835,
          295,
          0,
          220,
          1075,
          1665,
          5,
          0,
          0,
          170,
          1555,
          55,
          2060,
          0,
          5815,
          10,
          25,
          0,
          1695,
          2980,
          0,
          0,
          175,
          120,
          335
         ],
         "yaxis": "y"
        }
       ],
       "layout": {
        "barmode": "relative",
        "legend": {
         "tracegroupgap": 0
        },
        "margin": {
         "t": 60
        },
        "template": {
         "data": {
          "bar": [
           {
            "error_x": {
             "color": "#2a3f5f"
            },
            "error_y": {
             "color": "#2a3f5f"
            },
            "marker": {
             "line": {
              "color": "#E5ECF6",
              "width": 0.5
             },
             "pattern": {
              "fillmode": "overlay",
              "size": 10,
              "solidity": 0.2
             }
            },
            "type": "bar"
           }
          ],
          "barpolar": [
           {
            "marker": {
             "line": {
              "color": "#E5ECF6",
              "width": 0.5
             },
             "pattern": {
              "fillmode": "overlay",
              "size": 10,
              "solidity": 0.2
             }
            },
            "type": "barpolar"
           }
          ],
          "carpet": [
           {
            "aaxis": {
             "endlinecolor": "#2a3f5f",
             "gridcolor": "white",
             "linecolor": "white",
             "minorgridcolor": "white",
             "startlinecolor": "#2a3f5f"
            },
            "baxis": {
             "endlinecolor": "#2a3f5f",
             "gridcolor": "white",
             "linecolor": "white",
             "minorgridcolor": "white",
             "startlinecolor": "#2a3f5f"
            },
            "type": "carpet"
           }
          ],
          "choropleth": [
           {
            "colorbar": {
             "outlinewidth": 0,
             "ticks": ""
            },
            "type": "choropleth"
           }
          ],
          "contour": [
           {
            "colorbar": {
             "outlinewidth": 0,
             "ticks": ""
            },
            "colorscale": [
             [
              0,
              "#0d0887"
             ],
             [
              0.1111111111111111,
              "#46039f"
             ],
             [
              0.2222222222222222,
              "#7201a8"
             ],
             [
              0.3333333333333333,
              "#9c179e"
             ],
             [
              0.4444444444444444,
              "#bd3786"
             ],
             [
              0.5555555555555556,
              "#d8576b"
             ],
             [
              0.6666666666666666,
              "#ed7953"
             ],
             [
              0.7777777777777778,
              "#fb9f3a"
             ],
             [
              0.8888888888888888,
              "#fdca26"
             ],
             [
              1,
              "#f0f921"
             ]
            ],
            "type": "contour"
           }
          ],
          "contourcarpet": [
           {
            "colorbar": {
             "outlinewidth": 0,
             "ticks": ""
            },
            "type": "contourcarpet"
           }
          ],
          "heatmap": [
           {
            "colorbar": {
             "outlinewidth": 0,
             "ticks": ""
            },
            "colorscale": [
             [
              0,
              "#0d0887"
             ],
             [
              0.1111111111111111,
              "#46039f"
             ],
             [
              0.2222222222222222,
              "#7201a8"
             ],
             [
              0.3333333333333333,
              "#9c179e"
             ],
             [
              0.4444444444444444,
              "#bd3786"
             ],
             [
              0.5555555555555556,
              "#d8576b"
             ],
             [
              0.6666666666666666,
              "#ed7953"
             ],
             [
              0.7777777777777778,
              "#fb9f3a"
             ],
             [
              0.8888888888888888,
              "#fdca26"
             ],
             [
              1,
              "#f0f921"
             ]
            ],
            "type": "heatmap"
           }
          ],
          "heatmapgl": [
           {
            "colorbar": {
             "outlinewidth": 0,
             "ticks": ""
            },
            "colorscale": [
             [
              0,
              "#0d0887"
             ],
             [
              0.1111111111111111,
              "#46039f"
             ],
             [
              0.2222222222222222,
              "#7201a8"
             ],
             [
              0.3333333333333333,
              "#9c179e"
             ],
             [
              0.4444444444444444,
              "#bd3786"
             ],
             [
              0.5555555555555556,
              "#d8576b"
             ],
             [
              0.6666666666666666,
              "#ed7953"
             ],
             [
              0.7777777777777778,
              "#fb9f3a"
             ],
             [
              0.8888888888888888,
              "#fdca26"
             ],
             [
              1,
              "#f0f921"
             ]
            ],
            "type": "heatmapgl"
           }
          ],
          "histogram": [
           {
            "marker": {
             "pattern": {
              "fillmode": "overlay",
              "size": 10,
              "solidity": 0.2
             }
            },
            "type": "histogram"
           }
          ],
          "histogram2d": [
           {
            "colorbar": {
             "outlinewidth": 0,
             "ticks": ""
            },
            "colorscale": [
             [
              0,
              "#0d0887"
             ],
             [
              0.1111111111111111,
              "#46039f"
             ],
             [
              0.2222222222222222,
              "#7201a8"
             ],
             [
              0.3333333333333333,
              "#9c179e"
             ],
             [
              0.4444444444444444,
              "#bd3786"
             ],
             [
              0.5555555555555556,
              "#d8576b"
             ],
             [
              0.6666666666666666,
              "#ed7953"
             ],
             [
              0.7777777777777778,
              "#fb9f3a"
             ],
             [
              0.8888888888888888,
              "#fdca26"
             ],
             [
              1,
              "#f0f921"
             ]
            ],
            "type": "histogram2d"
           }
          ],
          "histogram2dcontour": [
           {
            "colorbar": {
             "outlinewidth": 0,
             "ticks": ""
            },
            "colorscale": [
             [
              0,
              "#0d0887"
             ],
             [
              0.1111111111111111,
              "#46039f"
             ],
             [
              0.2222222222222222,
              "#7201a8"
             ],
             [
              0.3333333333333333,
              "#9c179e"
             ],
             [
              0.4444444444444444,
              "#bd3786"
             ],
             [
              0.5555555555555556,
              "#d8576b"
             ],
             [
              0.6666666666666666,
              "#ed7953"
             ],
             [
              0.7777777777777778,
              "#fb9f3a"
             ],
             [
              0.8888888888888888,
              "#fdca26"
             ],
             [
              1,
              "#f0f921"
             ]
            ],
            "type": "histogram2dcontour"
           }
          ],
          "mesh3d": [
           {
            "colorbar": {
             "outlinewidth": 0,
             "ticks": ""
            },
            "type": "mesh3d"
           }
          ],
          "parcoords": [
           {
            "line": {
             "colorbar": {
              "outlinewidth": 0,
              "ticks": ""
             }
            },
            "type": "parcoords"
           }
          ],
          "pie": [
           {
            "automargin": true,
            "type": "pie"
           }
          ],
          "scatter": [
           {
            "fillpattern": {
             "fillmode": "overlay",
             "size": 10,
             "solidity": 0.2
            },
            "type": "scatter"
           }
          ],
          "scatter3d": [
           {
            "line": {
             "colorbar": {
              "outlinewidth": 0,
              "ticks": ""
             }
            },
            "marker": {
             "colorbar": {
              "outlinewidth": 0,
              "ticks": ""
             }
            },
            "type": "scatter3d"
           }
          ],
          "scattercarpet": [
           {
            "marker": {
             "colorbar": {
              "outlinewidth": 0,
              "ticks": ""
             }
            },
            "type": "scattercarpet"
           }
          ],
          "scattergeo": [
           {
            "marker": {
             "colorbar": {
              "outlinewidth": 0,
              "ticks": ""
             }
            },
            "type": "scattergeo"
           }
          ],
          "scattergl": [
           {
            "marker": {
             "colorbar": {
              "outlinewidth": 0,
              "ticks": ""
             }
            },
            "type": "scattergl"
           }
          ],
          "scattermapbox": [
           {
            "marker": {
             "colorbar": {
              "outlinewidth": 0,
              "ticks": ""
             }
            },
            "type": "scattermapbox"
           }
          ],
          "scatterpolar": [
           {
            "marker": {
             "colorbar": {
              "outlinewidth": 0,
              "ticks": ""
             }
            },
            "type": "scatterpolar"
           }
          ],
          "scatterpolargl": [
           {
            "marker": {
             "colorbar": {
              "outlinewidth": 0,
              "ticks": ""
             }
            },
            "type": "scatterpolargl"
           }
          ],
          "scatterternary": [
           {
            "marker": {
             "colorbar": {
              "outlinewidth": 0,
              "ticks": ""
             }
            },
            "type": "scatterternary"
           }
          ],
          "surface": [
           {
            "colorbar": {
             "outlinewidth": 0,
             "ticks": ""
            },
            "colorscale": [
             [
              0,
              "#0d0887"
             ],
             [
              0.1111111111111111,
              "#46039f"
             ],
             [
              0.2222222222222222,
              "#7201a8"
             ],
             [
              0.3333333333333333,
              "#9c179e"
             ],
             [
              0.4444444444444444,
              "#bd3786"
             ],
             [
              0.5555555555555556,
              "#d8576b"
             ],
             [
              0.6666666666666666,
              "#ed7953"
             ],
             [
              0.7777777777777778,
              "#fb9f3a"
             ],
             [
              0.8888888888888888,
              "#fdca26"
             ],
             [
              1,
              "#f0f921"
             ]
            ],
            "type": "surface"
           }
          ],
          "table": [
           {
            "cells": {
             "fill": {
              "color": "#EBF0F8"
             },
             "line": {
              "color": "white"
             }
            },
            "header": {
             "fill": {
              "color": "#C8D4E3"
             },
             "line": {
              "color": "white"
             }
            },
            "type": "table"
           }
          ]
         },
         "layout": {
          "annotationdefaults": {
           "arrowcolor": "#2a3f5f",
           "arrowhead": 0,
           "arrowwidth": 1
          },
          "autotypenumbers": "strict",
          "coloraxis": {
           "colorbar": {
            "outlinewidth": 0,
            "ticks": ""
           }
          },
          "colorscale": {
           "diverging": [
            [
             0,
             "#8e0152"
            ],
            [
             0.1,
             "#c51b7d"
            ],
            [
             0.2,
             "#de77ae"
            ],
            [
             0.3,
             "#f1b6da"
            ],
            [
             0.4,
             "#fde0ef"
            ],
            [
             0.5,
             "#f7f7f7"
            ],
            [
             0.6,
             "#e6f5d0"
            ],
            [
             0.7,
             "#b8e186"
            ],
            [
             0.8,
             "#7fbc41"
            ],
            [
             0.9,
             "#4d9221"
            ],
            [
             1,
             "#276419"
            ]
           ],
           "sequential": [
            [
             0,
             "#0d0887"
            ],
            [
             0.1111111111111111,
             "#46039f"
            ],
            [
             0.2222222222222222,
             "#7201a8"
            ],
            [
             0.3333333333333333,
             "#9c179e"
            ],
            [
             0.4444444444444444,
             "#bd3786"
            ],
            [
             0.5555555555555556,
             "#d8576b"
            ],
            [
             0.6666666666666666,
             "#ed7953"
            ],
            [
             0.7777777777777778,
             "#fb9f3a"
            ],
            [
             0.8888888888888888,
             "#fdca26"
            ],
            [
             1,
             "#f0f921"
            ]
           ],
           "sequentialminus": [
            [
             0,
             "#0d0887"
            ],
            [
             0.1111111111111111,
             "#46039f"
            ],
            [
             0.2222222222222222,
             "#7201a8"
            ],
            [
             0.3333333333333333,
             "#9c179e"
            ],
            [
             0.4444444444444444,
             "#bd3786"
            ],
            [
             0.5555555555555556,
             "#d8576b"
            ],
            [
             0.6666666666666666,
             "#ed7953"
            ],
            [
             0.7777777777777778,
             "#fb9f3a"
            ],
            [
             0.8888888888888888,
             "#fdca26"
            ],
            [
             1,
             "#f0f921"
            ]
           ]
          },
          "colorway": [
           "#636efa",
           "#EF553B",
           "#00cc96",
           "#ab63fa",
           "#FFA15A",
           "#19d3f3",
           "#FF6692",
           "#B6E880",
           "#FF97FF",
           "#FECB52"
          ],
          "font": {
           "color": "#2a3f5f"
          },
          "geo": {
           "bgcolor": "white",
           "lakecolor": "white",
           "landcolor": "#E5ECF6",
           "showlakes": true,
           "showland": true,
           "subunitcolor": "white"
          },
          "hoverlabel": {
           "align": "left"
          },
          "hovermode": "closest",
          "mapbox": {
           "style": "light"
          },
          "paper_bgcolor": "white",
          "plot_bgcolor": "#E5ECF6",
          "polar": {
           "angularaxis": {
            "gridcolor": "white",
            "linecolor": "white",
            "ticks": ""
           },
           "bgcolor": "#E5ECF6",
           "radialaxis": {
            "gridcolor": "white",
            "linecolor": "white",
            "ticks": ""
           }
          },
          "scene": {
           "xaxis": {
            "backgroundcolor": "#E5ECF6",
            "gridcolor": "white",
            "gridwidth": 2,
            "linecolor": "white",
            "showbackground": true,
            "ticks": "",
            "zerolinecolor": "white"
           },
           "yaxis": {
            "backgroundcolor": "#E5ECF6",
            "gridcolor": "white",
            "gridwidth": 2,
            "linecolor": "white",
            "showbackground": true,
            "ticks": "",
            "zerolinecolor": "white"
           },
           "zaxis": {
            "backgroundcolor": "#E5ECF6",
            "gridcolor": "white",
            "gridwidth": 2,
            "linecolor": "white",
            "showbackground": true,
            "ticks": "",
            "zerolinecolor": "white"
           }
          },
          "shapedefaults": {
           "line": {
            "color": "#2a3f5f"
           }
          },
          "ternary": {
           "aaxis": {
            "gridcolor": "white",
            "linecolor": "white",
            "ticks": ""
           },
           "baxis": {
            "gridcolor": "white",
            "linecolor": "white",
            "ticks": ""
           },
           "bgcolor": "#E5ECF6",
           "caxis": {
            "gridcolor": "white",
            "linecolor": "white",
            "ticks": ""
           }
          },
          "title": {
           "x": 0.05
          },
          "xaxis": {
           "automargin": true,
           "gridcolor": "white",
           "linecolor": "white",
           "ticks": "",
           "title": {
            "standoff": 15
           },
           "zerolinecolor": "white",
           "zerolinewidth": 2
          },
          "yaxis": {
           "automargin": true,
           "gridcolor": "white",
           "linecolor": "white",
           "ticks": "",
           "title": {
            "standoff": 15
           },
           "zerolinecolor": "white",
           "zerolinewidth": 2
          }
         }
        },
        "title": {
         "text": "Imigrantes estudantis - Canadá"
        },
        "xaxis": {
         "anchor": "y",
         "domain": [
          0,
          1
         ],
         "title": {
          "text": "Cidade de Nascimento"
         }
        },
        "yaxis": {
         "anchor": "x",
         "domain": [
          0,
          1
         ],
         "title": {
          "text": "Ano"
         }
        }
       }
      }
     },
     "metadata": {},
     "output_type": "display_data"
    },
    {
     "data": {
      "text/plain": [
       "['2015', '2016', '2017', '2018', '2019', '2020', '2021', '2022', '2023']"
      ]
     },
     "execution_count": 9,
     "metadata": {},
     "output_type": "execute_result"
    }
   ],
   "source": [
    "import plotly.express as px\n",
    "import pandas as pd\n",
    "import seaborn as sns\n",
    "\n",
    "df = pd.read_csv('canada.csv')\n",
    "\n",
    "fig = px.bar(df, x='Country of Citizenship', y='2015')\n",
    "\n",
    "fig.update_layout(\n",
    "    title='Imigrantes estudantis - Canadá',\n",
    "    xaxis_title='Cidade de Nascimento',\n",
    "    yaxis_title='Ano'\n",
    ")\n",
    "\n",
    "fig.show()\n",
    "\n",
    "list(df.columns[1:])"
   ]
  },
  {
   "cell_type": "code",
   "execution_count": 10,
   "metadata": {},
   "outputs": [],
   "source": [
    "df = pd.melt(\n",
    "    df,\n",
    "    id_vars=['Country of Citizenship'],\n",
    "    value_vars=list(df.columns),\n",
    "    var_name='Ano',\n",
    "    value_name='Imigrantes'\n",
    ")"
   ]
  },
  {
   "cell_type": "code",
   "execution_count": 11,
   "metadata": {},
   "outputs": [
    {
     "data": {
      "application/vnd.plotly.v1+json": {
       "config": {
        "plotlyServerURL": "https://plot.ly"
       },
       "data": [
        {
         "hovertemplate": "Country of Citizenship=Afghanistan<br>Ano=%{x}<br>Imigrantes=%{y}<extra></extra>",
         "legendgroup": "Afghanistan",
         "line": {
          "color": "#636efa",
          "dash": "solid"
         },
         "marker": {
          "symbol": "circle"
         },
         "mode": "lines",
         "name": "Afghanistan",
         "showlegend": true,
         "type": "scattergl",
         "x": [
          "2015",
          "2016",
          "2017",
          "2018",
          "2019",
          "2020",
          "2021",
          "2022",
          "2023"
         ],
         "xaxis": "x",
         "y": [
          95,
          115,
          95,
          80,
          95,
          90,
          80,
          170,
          140
         ],
         "yaxis": "y"
        },
        {
         "hovertemplate": "Country of Citizenship=Albania<br>Ano=%{x}<br>Imigrantes=%{y}<extra></extra>",
         "legendgroup": "Albania",
         "line": {
          "color": "#EF553B",
          "dash": "solid"
         },
         "marker": {
          "symbol": "circle"
         },
         "mode": "lines",
         "name": "Albania",
         "showlegend": true,
         "type": "scattergl",
         "x": [
          "2015",
          "2016",
          "2017",
          "2018",
          "2019",
          "2020",
          "2021",
          "2022",
          "2023"
         ],
         "xaxis": "x",
         "y": [
          115,
          165,
          185,
          245,
          375,
          250,
          305,
          345,
          545
         ],
         "yaxis": "y"
        },
        {
         "hovertemplate": "Country of Citizenship=Algeria<br>Ano=%{x}<br>Imigrantes=%{y}<extra></extra>",
         "legendgroup": "Algeria",
         "line": {
          "color": "#00cc96",
          "dash": "solid"
         },
         "marker": {
          "symbol": "circle"
         },
         "mode": "lines",
         "name": "Algeria",
         "showlegend": true,
         "type": "scattergl",
         "x": [
          "2015",
          "2016",
          "2017",
          "2018",
          "2019",
          "2020",
          "2021",
          "2022",
          "2023"
         ],
         "xaxis": "x",
         "y": [
          1060,
          845,
          1020,
          1490,
          2690,
          2170,
          3165,
          5360,
          7180
         ],
         "yaxis": "y"
        },
        {
         "hovertemplate": "Country of Citizenship=Andorra<br>Ano=%{x}<br>Imigrantes=%{y}<extra></extra>",
         "legendgroup": "Andorra",
         "line": {
          "color": "#ab63fa",
          "dash": "solid"
         },
         "marker": {
          "symbol": "circle"
         },
         "mode": "lines",
         "name": "Andorra",
         "showlegend": true,
         "type": "scattergl",
         "x": [
          "2015",
          "2016",
          "2017",
          "2018",
          "2019",
          "2020",
          "2021",
          "2022",
          "2023"
         ],
         "xaxis": "x",
         "y": [
          0,
          0,
          0,
          0,
          0,
          0,
          10,
          5,
          0
         ],
         "yaxis": "y"
        },
        {
         "hovertemplate": "Country of Citizenship=Angola<br>Ano=%{x}<br>Imigrantes=%{y}<extra></extra>",
         "legendgroup": "Angola",
         "line": {
          "color": "#FFA15A",
          "dash": "solid"
         },
         "marker": {
          "symbol": "circle"
         },
         "mode": "lines",
         "name": "Angola",
         "showlegend": true,
         "type": "scattergl",
         "x": [
          "2015",
          "2016",
          "2017",
          "2018",
          "2019",
          "2020",
          "2021",
          "2022",
          "2023"
         ],
         "xaxis": "x",
         "y": [
          65,
          80,
          40,
          25,
          120,
          30,
          50,
          75,
          65
         ],
         "yaxis": "y"
        },
        {
         "hovertemplate": "Country of Citizenship=Anguilla<br>Ano=%{x}<br>Imigrantes=%{y}<extra></extra>",
         "legendgroup": "Anguilla",
         "line": {
          "color": "#19d3f3",
          "dash": "solid"
         },
         "marker": {
          "symbol": "circle"
         },
         "mode": "lines",
         "name": "Anguilla",
         "showlegend": true,
         "type": "scattergl",
         "x": [
          "2015",
          "2016",
          "2017",
          "2018",
          "2019",
          "2020",
          "2021",
          "2022",
          "2023"
         ],
         "xaxis": "x",
         "y": [
          0,
          0,
          0,
          0,
          0,
          0,
          0,
          0,
          0
         ],
         "yaxis": "y"
        },
        {
         "hovertemplate": "Country of Citizenship=Antigua and Barbuda<br>Ano=%{x}<br>Imigrantes=%{y}<extra></extra>",
         "legendgroup": "Antigua and Barbuda",
         "line": {
          "color": "#FF6692",
          "dash": "solid"
         },
         "marker": {
          "symbol": "circle"
         },
         "mode": "lines",
         "name": "Antigua and Barbuda",
         "showlegend": true,
         "type": "scattergl",
         "x": [
          "2015",
          "2016",
          "2017",
          "2018",
          "2019",
          "2020",
          "2021",
          "2022",
          "2023"
         ],
         "xaxis": "x",
         "y": [
          60,
          80,
          100,
          85,
          80,
          55,
          85,
          75,
          80
         ],
         "yaxis": "y"
        },
        {
         "hovertemplate": "Country of Citizenship=Argentina<br>Ano=%{x}<br>Imigrantes=%{y}<extra></extra>",
         "legendgroup": "Argentina",
         "line": {
          "color": "#B6E880",
          "dash": "solid"
         },
         "marker": {
          "symbol": "circle"
         },
         "mode": "lines",
         "name": "Argentina",
         "showlegend": true,
         "type": "scattergl",
         "x": [
          "2015",
          "2016",
          "2017",
          "2018",
          "2019",
          "2020",
          "2021",
          "2022",
          "2023"
         ],
         "xaxis": "x",
         "y": [
          160,
          180,
          200,
          230,
          275,
          190,
          585,
          620,
          530
         ],
         "yaxis": "y"
        },
        {
         "hovertemplate": "Country of Citizenship=Armenia<br>Ano=%{x}<br>Imigrantes=%{y}<extra></extra>",
         "legendgroup": "Armenia",
         "line": {
          "color": "#FF97FF",
          "dash": "solid"
         },
         "marker": {
          "symbol": "circle"
         },
         "mode": "lines",
         "name": "Armenia",
         "showlegend": true,
         "type": "scattergl",
         "x": [
          "2015",
          "2016",
          "2017",
          "2018",
          "2019",
          "2020",
          "2021",
          "2022",
          "2023"
         ],
         "xaxis": "x",
         "y": [
          20,
          25,
          15,
          15,
          15,
          5,
          55,
          60,
          65
         ],
         "yaxis": "y"
        },
        {
         "hovertemplate": "Country of Citizenship=Aruba<br>Ano=%{x}<br>Imigrantes=%{y}<extra></extra>",
         "legendgroup": "Aruba",
         "line": {
          "color": "#FECB52",
          "dash": "solid"
         },
         "marker": {
          "symbol": "circle"
         },
         "mode": "lines",
         "name": "Aruba",
         "showlegend": true,
         "type": "scattergl",
         "x": [
          "2015",
          "2016",
          "2017",
          "2018",
          "2019",
          "2020",
          "2021",
          "2022",
          "2023"
         ],
         "xaxis": "x",
         "y": [
          0,
          0,
          0,
          0,
          0,
          0,
          0,
          0,
          0
         ],
         "yaxis": "y"
        },
        {
         "hovertemplate": "Country of Citizenship=Australia<br>Ano=%{x}<br>Imigrantes=%{y}<extra></extra>",
         "legendgroup": "Australia",
         "line": {
          "color": "#636efa",
          "dash": "solid"
         },
         "marker": {
          "symbol": "circle"
         },
         "mode": "lines",
         "name": "Australia",
         "showlegend": true,
         "type": "scattergl",
         "x": [
          "2015",
          "2016",
          "2017",
          "2018",
          "2019",
          "2020",
          "2021",
          "2022",
          "2023"
         ],
         "xaxis": "x",
         "y": [
          480,
          490,
          490,
          470,
          415,
          260,
          360,
          360,
          395
         ],
         "yaxis": "y"
        },
        {
         "hovertemplate": "Country of Citizenship=Austria<br>Ano=%{x}<br>Imigrantes=%{y}<extra></extra>",
         "legendgroup": "Austria",
         "line": {
          "color": "#EF553B",
          "dash": "solid"
         },
         "marker": {
          "symbol": "circle"
         },
         "mode": "lines",
         "name": "Austria",
         "showlegend": true,
         "type": "scattergl",
         "x": [
          "2015",
          "2016",
          "2017",
          "2018",
          "2019",
          "2020",
          "2021",
          "2022",
          "2023"
         ],
         "xaxis": "x",
         "y": [
          110,
          150,
          120,
          145,
          135,
          60,
          300,
          235,
          110
         ],
         "yaxis": "y"
        },
        {
         "hovertemplate": "Country of Citizenship=Azerbaijan<br>Ano=%{x}<br>Imigrantes=%{y}<extra></extra>",
         "legendgroup": "Azerbaijan",
         "line": {
          "color": "#00cc96",
          "dash": "solid"
         },
         "marker": {
          "symbol": "circle"
         },
         "mode": "lines",
         "name": "Azerbaijan",
         "showlegend": true,
         "type": "scattergl",
         "x": [
          "2015",
          "2016",
          "2017",
          "2018",
          "2019",
          "2020",
          "2021",
          "2022",
          "2023"
         ],
         "xaxis": "x",
         "y": [
          70,
          115,
          125,
          130,
          160,
          110,
          220,
          180,
          300
         ],
         "yaxis": "y"
        },
        {
         "hovertemplate": "Country of Citizenship=Bahama Islands, The<br>Ano=%{x}<br>Imigrantes=%{y}<extra></extra>",
         "legendgroup": "Bahama Islands, The",
         "line": {
          "color": "#ab63fa",
          "dash": "solid"
         },
         "marker": {
          "symbol": "circle"
         },
         "mode": "lines",
         "name": "Bahama Islands, The",
         "showlegend": true,
         "type": "scattergl",
         "x": [
          "2015",
          "2016",
          "2017",
          "2018",
          "2019",
          "2020",
          "2021",
          "2022",
          "2023"
         ],
         "xaxis": "x",
         "y": [
          445,
          685,
          785,
          820,
          865,
          525,
          810,
          780,
          725
         ],
         "yaxis": "y"
        },
        {
         "hovertemplate": "Country of Citizenship=Bahrain<br>Ano=%{x}<br>Imigrantes=%{y}<extra></extra>",
         "legendgroup": "Bahrain",
         "line": {
          "color": "#FFA15A",
          "dash": "solid"
         },
         "marker": {
          "symbol": "circle"
         },
         "mode": "lines",
         "name": "Bahrain",
         "showlegend": true,
         "type": "scattergl",
         "x": [
          "2015",
          "2016",
          "2017",
          "2018",
          "2019",
          "2020",
          "2021",
          "2022",
          "2023"
         ],
         "xaxis": "x",
         "y": [
          25,
          45,
          45,
          30,
          30,
          20,
          50,
          45,
          40
         ],
         "yaxis": "y"
        },
        {
         "hovertemplate": "Country of Citizenship=Bangladesh<br>Ano=%{x}<br>Imigrantes=%{y}<extra></extra>",
         "legendgroup": "Bangladesh",
         "line": {
          "color": "#19d3f3",
          "dash": "solid"
         },
         "marker": {
          "symbol": "circle"
         },
         "mode": "lines",
         "name": "Bangladesh",
         "showlegend": true,
         "type": "scattergl",
         "x": [
          "2015",
          "2016",
          "2017",
          "2018",
          "2019",
          "2020",
          "2021",
          "2022",
          "2023"
         ],
         "xaxis": "x",
         "y": [
          1400,
          1875,
          2945,
          4335,
          5080,
          3430,
          6860,
          7640,
          8830
         ],
         "yaxis": "y"
        },
        {
         "hovertemplate": "Country of Citizenship=Barbados<br>Ano=%{x}<br>Imigrantes=%{y}<extra></extra>",
         "legendgroup": "Barbados",
         "line": {
          "color": "#FF6692",
          "dash": "solid"
         },
         "marker": {
          "symbol": "circle"
         },
         "mode": "lines",
         "name": "Barbados",
         "showlegend": true,
         "type": "scattergl",
         "x": [
          "2015",
          "2016",
          "2017",
          "2018",
          "2019",
          "2020",
          "2021",
          "2022",
          "2023"
         ],
         "xaxis": "x",
         "y": [
          190,
          235,
          240,
          265,
          300,
          180,
          365,
          315,
          340
         ],
         "yaxis": "y"
        },
        {
         "hovertemplate": "Country of Citizenship=Belarus<br>Ano=%{x}<br>Imigrantes=%{y}<extra></extra>",
         "legendgroup": "Belarus",
         "line": {
          "color": "#B6E880",
          "dash": "solid"
         },
         "marker": {
          "symbol": "circle"
         },
         "mode": "lines",
         "name": "Belarus",
         "showlegend": true,
         "type": "scattergl",
         "x": [
          "2015",
          "2016",
          "2017",
          "2018",
          "2019",
          "2020",
          "2021",
          "2022",
          "2023"
         ],
         "xaxis": "x",
         "y": [
          45,
          60,
          40,
          55,
          70,
          40,
          70,
          80,
          100
         ],
         "yaxis": "y"
        },
        {
         "hovertemplate": "Country of Citizenship=Belgium<br>Ano=%{x}<br>Imigrantes=%{y}<extra></extra>",
         "legendgroup": "Belgium",
         "line": {
          "color": "#FF97FF",
          "dash": "solid"
         },
         "marker": {
          "symbol": "circle"
         },
         "mode": "lines",
         "name": "Belgium",
         "showlegend": true,
         "type": "scattergl",
         "x": [
          "2015",
          "2016",
          "2017",
          "2018",
          "2019",
          "2020",
          "2021",
          "2022",
          "2023"
         ],
         "xaxis": "x",
         "y": [
          315,
          420,
          425,
          400,
          555,
          315,
          1200,
          790,
          680
         ],
         "yaxis": "y"
        },
        {
         "hovertemplate": "Country of Citizenship=Belize<br>Ano=%{x}<br>Imigrantes=%{y}<extra></extra>",
         "legendgroup": "Belize",
         "line": {
          "color": "#FECB52",
          "dash": "solid"
         },
         "marker": {
          "symbol": "circle"
         },
         "mode": "lines",
         "name": "Belize",
         "showlegend": true,
         "type": "scattergl",
         "x": [
          "2015",
          "2016",
          "2017",
          "2018",
          "2019",
          "2020",
          "2021",
          "2022",
          "2023"
         ],
         "xaxis": "x",
         "y": [
          60,
          90,
          85,
          80,
          75,
          50,
          75,
          75,
          85
         ],
         "yaxis": "y"
        },
        {
         "hovertemplate": "Country of Citizenship=Benin, Republic of<br>Ano=%{x}<br>Imigrantes=%{y}<extra></extra>",
         "legendgroup": "Benin, Republic of",
         "line": {
          "color": "#636efa",
          "dash": "solid"
         },
         "marker": {
          "symbol": "circle"
         },
         "mode": "lines",
         "name": "Benin, Republic of",
         "showlegend": true,
         "type": "scattergl",
         "x": [
          "2015",
          "2016",
          "2017",
          "2018",
          "2019",
          "2020",
          "2021",
          "2022",
          "2023"
         ],
         "xaxis": "x",
         "y": [
          420,
          405,
          370,
          390,
          515,
          350,
          470,
          640,
          1260
         ],
         "yaxis": "y"
        },
        {
         "hovertemplate": "Country of Citizenship=Bermuda<br>Ano=%{x}<br>Imigrantes=%{y}<extra></extra>",
         "legendgroup": "Bermuda",
         "line": {
          "color": "#EF553B",
          "dash": "solid"
         },
         "marker": {
          "symbol": "circle"
         },
         "mode": "lines",
         "name": "Bermuda",
         "showlegend": true,
         "type": "scattergl",
         "x": [
          "2015",
          "2016",
          "2017",
          "2018",
          "2019",
          "2020",
          "2021",
          "2022",
          "2023"
         ],
         "xaxis": "x",
         "y": [
          0,
          0,
          0,
          0,
          50,
          10,
          60,
          15,
          20
         ],
         "yaxis": "y"
        },
        {
         "hovertemplate": "Country of Citizenship=Bhutan<br>Ano=%{x}<br>Imigrantes=%{y}<extra></extra>",
         "legendgroup": "Bhutan",
         "line": {
          "color": "#00cc96",
          "dash": "solid"
         },
         "marker": {
          "symbol": "circle"
         },
         "mode": "lines",
         "name": "Bhutan",
         "showlegend": true,
         "type": "scattergl",
         "x": [
          "2015",
          "2016",
          "2017",
          "2018",
          "2019",
          "2020",
          "2021",
          "2022",
          "2023"
         ],
         "xaxis": "x",
         "y": [
          5,
          15,
          30,
          20,
          105,
          95,
          180,
          310,
          690
         ],
         "yaxis": "y"
        },
        {
         "hovertemplate": "Country of Citizenship=Bolivia<br>Ano=%{x}<br>Imigrantes=%{y}<extra></extra>",
         "legendgroup": "Bolivia",
         "line": {
          "color": "#ab63fa",
          "dash": "solid"
         },
         "marker": {
          "symbol": "circle"
         },
         "mode": "lines",
         "name": "Bolivia",
         "showlegend": true,
         "type": "scattergl",
         "x": [
          "2015",
          "2016",
          "2017",
          "2018",
          "2019",
          "2020",
          "2021",
          "2022",
          "2023"
         ],
         "xaxis": "x",
         "y": [
          50,
          55,
          55,
          95,
          85,
          55,
          210,
          260,
          280
         ],
         "yaxis": "y"
        },
        {
         "hovertemplate": "Country of Citizenship=Bonaire, Sin Eustatius And Saba<br>Ano=%{x}<br>Imigrantes=%{y}<extra></extra>",
         "legendgroup": "Bonaire, Sin Eustatius And Saba",
         "line": {
          "color": "#FFA15A",
          "dash": "solid"
         },
         "marker": {
          "symbol": "circle"
         },
         "mode": "lines",
         "name": "Bonaire, Sin Eustatius And Saba",
         "showlegend": true,
         "type": "scattergl",
         "x": [
          "2015",
          "2016",
          "2017",
          "2018",
          "2019",
          "2020",
          "2021",
          "2022",
          "2023"
         ],
         "xaxis": "x",
         "y": [
          0,
          0,
          0,
          0,
          0,
          0,
          0,
          0,
          0
         ],
         "yaxis": "y"
        },
        {
         "hovertemplate": "Country of Citizenship=Bosnia-Herzegovina<br>Ano=%{x}<br>Imigrantes=%{y}<extra></extra>",
         "legendgroup": "Bosnia-Herzegovina",
         "line": {
          "color": "#19d3f3",
          "dash": "solid"
         },
         "marker": {
          "symbol": "circle"
         },
         "mode": "lines",
         "name": "Bosnia-Herzegovina",
         "showlegend": true,
         "type": "scattergl",
         "x": [
          "2015",
          "2016",
          "2017",
          "2018",
          "2019",
          "2020",
          "2021",
          "2022",
          "2023"
         ],
         "xaxis": "x",
         "y": [
          15,
          25,
          10,
          20,
          35,
          20,
          75,
          65,
          65
         ],
         "yaxis": "y"
        },
        {
         "hovertemplate": "Country of Citizenship=Botswana, Republic of<br>Ano=%{x}<br>Imigrantes=%{y}<extra></extra>",
         "legendgroup": "Botswana, Republic of",
         "line": {
          "color": "#FF6692",
          "dash": "solid"
         },
         "marker": {
          "symbol": "circle"
         },
         "mode": "lines",
         "name": "Botswana, Republic of",
         "showlegend": true,
         "type": "scattergl",
         "x": [
          "2015",
          "2016",
          "2017",
          "2018",
          "2019",
          "2020",
          "2021",
          "2022",
          "2023"
         ],
         "xaxis": "x",
         "y": [
          50,
          65,
          65,
          45,
          60,
          60,
          40,
          55,
          65
         ],
         "yaxis": "y"
        },
        {
         "hovertemplate": "Country of Citizenship=Brazil<br>Ano=%{x}<br>Imigrantes=%{y}<extra></extra>",
         "legendgroup": "Brazil",
         "line": {
          "color": "#B6E880",
          "dash": "solid"
         },
         "marker": {
          "symbol": "circle"
         },
         "mode": "lines",
         "name": "Brazil",
         "showlegend": true,
         "type": "scattergl",
         "x": [
          "2015",
          "2016",
          "2017",
          "2018",
          "2019",
          "2020",
          "2021",
          "2022",
          "2023"
         ],
         "xaxis": "x",
         "y": [
          6625,
          7735,
          9565,
          10950,
          10835,
          6520,
          8780,
          10680,
          9705
         ],
         "yaxis": "y"
        },
        {
         "hovertemplate": "Country of Citizenship=Brunei<br>Ano=%{x}<br>Imigrantes=%{y}<extra></extra>",
         "legendgroup": "Brunei",
         "line": {
          "color": "#FF97FF",
          "dash": "solid"
         },
         "marker": {
          "symbol": "circle"
         },
         "mode": "lines",
         "name": "Brunei",
         "showlegend": true,
         "type": "scattergl",
         "x": [
          "2015",
          "2016",
          "2017",
          "2018",
          "2019",
          "2020",
          "2021",
          "2022",
          "2023"
         ],
         "xaxis": "x",
         "y": [
          0,
          5,
          10,
          10,
          10,
          0,
          10,
          15,
          20
         ],
         "yaxis": "y"
        },
        {
         "hovertemplate": "Country of Citizenship=Bulgaria<br>Ano=%{x}<br>Imigrantes=%{y}<extra></extra>",
         "legendgroup": "Bulgaria",
         "line": {
          "color": "#FECB52",
          "dash": "solid"
         },
         "marker": {
          "symbol": "circle"
         },
         "mode": "lines",
         "name": "Bulgaria",
         "showlegend": true,
         "type": "scattergl",
         "x": [
          "2015",
          "2016",
          "2017",
          "2018",
          "2019",
          "2020",
          "2021",
          "2022",
          "2023"
         ],
         "xaxis": "x",
         "y": [
          35,
          55,
          40,
          60,
          65,
          40,
          70,
          35,
          40
         ],
         "yaxis": "y"
        },
        {
         "hovertemplate": "Country of Citizenship=Burkina-Faso<br>Ano=%{x}<br>Imigrantes=%{y}<extra></extra>",
         "legendgroup": "Burkina-Faso",
         "line": {
          "color": "#636efa",
          "dash": "solid"
         },
         "marker": {
          "symbol": "circle"
         },
         "mode": "lines",
         "name": "Burkina-Faso",
         "showlegend": true,
         "type": "scattergl",
         "x": [
          "2015",
          "2016",
          "2017",
          "2018",
          "2019",
          "2020",
          "2021",
          "2022",
          "2023"
         ],
         "xaxis": "x",
         "y": [
          365,
          365,
          385,
          425,
          590,
          470,
          685,
          775,
          970
         ],
         "yaxis": "y"
        },
        {
         "hovertemplate": "Country of Citizenship=Burundi<br>Ano=%{x}<br>Imigrantes=%{y}<extra></extra>",
         "legendgroup": "Burundi",
         "line": {
          "color": "#EF553B",
          "dash": "solid"
         },
         "marker": {
          "symbol": "circle"
         },
         "mode": "lines",
         "name": "Burundi",
         "showlegend": true,
         "type": "scattergl",
         "x": [
          "2015",
          "2016",
          "2017",
          "2018",
          "2019",
          "2020",
          "2021",
          "2022",
          "2023"
         ],
         "xaxis": "x",
         "y": [
          140,
          265,
          255,
          340,
          280,
          200,
          265,
          355,
          655
         ],
         "yaxis": "y"
        },
        {
         "hovertemplate": "Country of Citizenship=Cambodia<br>Ano=%{x}<br>Imigrantes=%{y}<extra></extra>",
         "legendgroup": "Cambodia",
         "line": {
          "color": "#00cc96",
          "dash": "solid"
         },
         "marker": {
          "symbol": "circle"
         },
         "mode": "lines",
         "name": "Cambodia",
         "showlegend": true,
         "type": "scattergl",
         "x": [
          "2015",
          "2016",
          "2017",
          "2018",
          "2019",
          "2020",
          "2021",
          "2022",
          "2023"
         ],
         "xaxis": "x",
         "y": [
          135,
          110,
          70,
          90,
          135,
          80,
          110,
          145,
          195
         ],
         "yaxis": "y"
        },
        {
         "hovertemplate": "Country of Citizenship=Cameroon, Federal Republic of<br>Ano=%{x}<br>Imigrantes=%{y}<extra></extra>",
         "legendgroup": "Cameroon, Federal Republic of",
         "line": {
          "color": "#ab63fa",
          "dash": "solid"
         },
         "marker": {
          "symbol": "circle"
         },
         "mode": "lines",
         "name": "Cameroon, Federal Republic of",
         "showlegend": true,
         "type": "scattergl",
         "x": [
          "2015",
          "2016",
          "2017",
          "2018",
          "2019",
          "2020",
          "2021",
          "2022",
          "2023"
         ],
         "xaxis": "x",
         "y": [
          1100,
          1165,
          1070,
          1320,
          1640,
          1145,
          1860,
          3085,
          5230
         ],
         "yaxis": "y"
        },
        {
         "hovertemplate": "Country of Citizenship=Cape Verde Islands<br>Ano=%{x}<br>Imigrantes=%{y}<extra></extra>",
         "legendgroup": "Cape Verde Islands",
         "line": {
          "color": "#FFA15A",
          "dash": "solid"
         },
         "marker": {
          "symbol": "circle"
         },
         "mode": "lines",
         "name": "Cape Verde Islands",
         "showlegend": true,
         "type": "scattergl",
         "x": [
          "2015",
          "2016",
          "2017",
          "2018",
          "2019",
          "2020",
          "2021",
          "2022",
          "2023"
         ],
         "xaxis": "x",
         "y": [
          0,
          0,
          0,
          0,
          0,
          0,
          0,
          0,
          0
         ],
         "yaxis": "y"
        },
        {
         "hovertemplate": "Country of Citizenship=Cayman Islands<br>Ano=%{x}<br>Imigrantes=%{y}<extra></extra>",
         "legendgroup": "Cayman Islands",
         "line": {
          "color": "#19d3f3",
          "dash": "solid"
         },
         "marker": {
          "symbol": "circle"
         },
         "mode": "lines",
         "name": "Cayman Islands",
         "showlegend": true,
         "type": "scattergl",
         "x": [
          "2015",
          "2016",
          "2017",
          "2018",
          "2019",
          "2020",
          "2021",
          "2022",
          "2023"
         ],
         "xaxis": "x",
         "y": [
          0,
          0,
          0,
          0,
          0,
          0,
          0,
          0,
          5
         ],
         "yaxis": "y"
        },
        {
         "hovertemplate": "Country of Citizenship=Central African Republic<br>Ano=%{x}<br>Imigrantes=%{y}<extra></extra>",
         "legendgroup": "Central African Republic",
         "line": {
          "color": "#FF6692",
          "dash": "solid"
         },
         "marker": {
          "symbol": "circle"
         },
         "mode": "lines",
         "name": "Central African Republic",
         "showlegend": true,
         "type": "scattergl",
         "x": [
          "2015",
          "2016",
          "2017",
          "2018",
          "2019",
          "2020",
          "2021",
          "2022",
          "2023"
         ],
         "xaxis": "x",
         "y": [
          25,
          25,
          40,
          25,
          35,
          10,
          20,
          20,
          45
         ],
         "yaxis": "y"
        },
        {
         "hovertemplate": "Country of Citizenship=Chad, Republic of<br>Ano=%{x}<br>Imigrantes=%{y}<extra></extra>",
         "legendgroup": "Chad, Republic of",
         "line": {
          "color": "#B6E880",
          "dash": "solid"
         },
         "marker": {
          "symbol": "circle"
         },
         "mode": "lines",
         "name": "Chad, Republic of",
         "showlegend": true,
         "type": "scattergl",
         "x": [
          "2015",
          "2016",
          "2017",
          "2018",
          "2019",
          "2020",
          "2021",
          "2022",
          "2023"
         ],
         "xaxis": "x",
         "y": [
          55,
          85,
          45,
          75,
          90,
          55,
          110,
          150,
          185
         ],
         "yaxis": "y"
        },
        {
         "hovertemplate": "Country of Citizenship=Chile<br>Ano=%{x}<br>Imigrantes=%{y}<extra></extra>",
         "legendgroup": "Chile",
         "line": {
          "color": "#FF97FF",
          "dash": "solid"
         },
         "marker": {
          "symbol": "circle"
         },
         "mode": "lines",
         "name": "Chile",
         "showlegend": true,
         "type": "scattergl",
         "x": [
          "2015",
          "2016",
          "2017",
          "2018",
          "2019",
          "2020",
          "2021",
          "2022",
          "2023"
         ],
         "xaxis": "x",
         "y": [
          360,
          440,
          490,
          555,
          575,
          475,
          1425,
          1445,
          1400
         ],
         "yaxis": "y"
        },
        {
         "hovertemplate": "Country of Citizenship=China, People's Republic of<br>Ano=%{x}<br>Imigrantes=%{y}<extra></extra>",
         "legendgroup": "China, People's Republic of",
         "line": {
          "color": "#FECB52",
          "dash": "solid"
         },
         "marker": {
          "symbol": "circle"
         },
         "mode": "lines",
         "name": "China, People's Republic of",
         "showlegend": true,
         "type": "scattergl",
         "x": [
          "2015",
          "2016",
          "2017",
          "2018",
          "2019",
          "2020",
          "2021",
          "2022",
          "2023"
         ],
         "xaxis": "x",
         "y": [
          68350,
          80525,
          87290,
          89200,
          87675,
          61010,
          58380,
          54160,
          57440
         ],
         "yaxis": "y"
        },
        {
         "hovertemplate": "Country of Citizenship=Colombia<br>Ano=%{x}<br>Imigrantes=%{y}<extra></extra>",
         "legendgroup": "Colombia",
         "line": {
          "color": "#636efa",
          "dash": "solid"
         },
         "marker": {
          "symbol": "circle"
         },
         "mode": "lines",
         "name": "Colombia",
         "showlegend": true,
         "type": "scattergl",
         "x": [
          "2015",
          "2016",
          "2017",
          "2018",
          "2019",
          "2020",
          "2021",
          "2022",
          "2023"
         ],
         "xaxis": "x",
         "y": [
          1380,
          1785,
          2570,
          3540,
          4695,
          3370,
          7180,
          10650,
          9945
         ],
         "yaxis": "y"
        },
        {
         "hovertemplate": "Country of Citizenship=Comoros<br>Ano=%{x}<br>Imigrantes=%{y}<extra></extra>",
         "legendgroup": "Comoros",
         "line": {
          "color": "#EF553B",
          "dash": "solid"
         },
         "marker": {
          "symbol": "circle"
         },
         "mode": "lines",
         "name": "Comoros",
         "showlegend": true,
         "type": "scattergl",
         "x": [
          "2015",
          "2016",
          "2017",
          "2018",
          "2019",
          "2020",
          "2021",
          "2022",
          "2023"
         ],
         "xaxis": "x",
         "y": [
          0,
          5,
          0,
          10,
          10,
          0,
          10,
          20,
          40
         ],
         "yaxis": "y"
        },
        {
         "hovertemplate": "Country of Citizenship=Congo, Democratic Republic of the<br>Ano=%{x}<br>Imigrantes=%{y}<extra></extra>",
         "legendgroup": "Congo, Democratic Republic of the",
         "line": {
          "color": "#00cc96",
          "dash": "solid"
         },
         "marker": {
          "symbol": "circle"
         },
         "mode": "lines",
         "name": "Congo, Democratic Republic of the",
         "showlegend": true,
         "type": "scattergl",
         "x": [
          "2015",
          "2016",
          "2017",
          "2018",
          "2019",
          "2020",
          "2021",
          "2022",
          "2023"
         ],
         "xaxis": "x",
         "y": [
          470,
          575,
          475,
          850,
          1330,
          845,
          1740,
          2675,
          3670
         ],
         "yaxis": "y"
        },
        {
         "hovertemplate": "Country of Citizenship=Congo, People's Republic of the<br>Ano=%{x}<br>Imigrantes=%{y}<extra></extra>",
         "legendgroup": "Congo, People's Republic of the",
         "line": {
          "color": "#ab63fa",
          "dash": "solid"
         },
         "marker": {
          "symbol": "circle"
         },
         "mode": "lines",
         "name": "Congo, People's Republic of the",
         "showlegend": true,
         "type": "scattergl",
         "x": [
          "2015",
          "2016",
          "2017",
          "2018",
          "2019",
          "2020",
          "2021",
          "2022",
          "2023"
         ],
         "xaxis": "x",
         "y": [
          170,
          165,
          135,
          160,
          175,
          120,
          215,
          225,
          250
         ],
         "yaxis": "y"
        },
        {
         "hovertemplate": "Country of Citizenship=Costa Rica<br>Ano=%{x}<br>Imigrantes=%{y}<extra></extra>",
         "legendgroup": "Costa Rica",
         "line": {
          "color": "#FFA15A",
          "dash": "solid"
         },
         "marker": {
          "symbol": "circle"
         },
         "mode": "lines",
         "name": "Costa Rica",
         "showlegend": true,
         "type": "scattergl",
         "x": [
          "2015",
          "2016",
          "2017",
          "2018",
          "2019",
          "2020",
          "2021",
          "2022",
          "2023"
         ],
         "xaxis": "x",
         "y": [
          80,
          90,
          120,
          115,
          120,
          85,
          185,
          205,
          215
         ],
         "yaxis": "y"
        },
        {
         "hovertemplate": "Country of Citizenship=Croatia<br>Ano=%{x}<br>Imigrantes=%{y}<extra></extra>",
         "legendgroup": "Croatia",
         "line": {
          "color": "#19d3f3",
          "dash": "solid"
         },
         "marker": {
          "symbol": "circle"
         },
         "mode": "lines",
         "name": "Croatia",
         "showlegend": true,
         "type": "scattergl",
         "x": [
          "2015",
          "2016",
          "2017",
          "2018",
          "2019",
          "2020",
          "2021",
          "2022",
          "2023"
         ],
         "xaxis": "x",
         "y": [
          100,
          85,
          65,
          60,
          45,
          35,
          35,
          45,
          30
         ],
         "yaxis": "y"
        },
        {
         "hovertemplate": "Country of Citizenship=Cuba<br>Ano=%{x}<br>Imigrantes=%{y}<extra></extra>",
         "legendgroup": "Cuba",
         "line": {
          "color": "#FF6692",
          "dash": "solid"
         },
         "marker": {
          "symbol": "circle"
         },
         "mode": "lines",
         "name": "Cuba",
         "showlegend": true,
         "type": "scattergl",
         "x": [
          "2015",
          "2016",
          "2017",
          "2018",
          "2019",
          "2020",
          "2021",
          "2022",
          "2023"
         ],
         "xaxis": "x",
         "y": [
          75,
          80,
          75,
          95,
          95,
          80,
          180,
          190,
          220
         ],
         "yaxis": "y"
        },
        {
         "hovertemplate": "Country of Citizenship=Curacao<br>Ano=%{x}<br>Imigrantes=%{y}<extra></extra>",
         "legendgroup": "Curacao",
         "line": {
          "color": "#B6E880",
          "dash": "solid"
         },
         "marker": {
          "symbol": "circle"
         },
         "mode": "lines",
         "name": "Curacao",
         "showlegend": true,
         "type": "scattergl",
         "x": [
          "2015",
          "2016",
          "2017",
          "2018",
          "2019",
          "2020",
          "2021",
          "2022",
          "2023"
         ],
         "xaxis": "x",
         "y": [
          0,
          0,
          0,
          0,
          0,
          0,
          0,
          0,
          0
         ],
         "yaxis": "y"
        },
        {
         "hovertemplate": "Country of Citizenship=Cyprus<br>Ano=%{x}<br>Imigrantes=%{y}<extra></extra>",
         "legendgroup": "Cyprus",
         "line": {
          "color": "#FF97FF",
          "dash": "solid"
         },
         "marker": {
          "symbol": "circle"
         },
         "mode": "lines",
         "name": "Cyprus",
         "showlegend": true,
         "type": "scattergl",
         "x": [
          "2015",
          "2016",
          "2017",
          "2018",
          "2019",
          "2020",
          "2021",
          "2022",
          "2023"
         ],
         "xaxis": "x",
         "y": [
          10,
          5,
          5,
          5,
          20,
          0,
          20,
          5,
          10
         ],
         "yaxis": "y"
        },
        {
         "hovertemplate": "Country of Citizenship=Czech Republic<br>Ano=%{x}<br>Imigrantes=%{y}<extra></extra>",
         "legendgroup": "Czech Republic",
         "line": {
          "color": "#FECB52",
          "dash": "solid"
         },
         "marker": {
          "symbol": "circle"
         },
         "mode": "lines",
         "name": "Czech Republic",
         "showlegend": true,
         "type": "scattergl",
         "x": [
          "2015",
          "2016",
          "2017",
          "2018",
          "2019",
          "2020",
          "2021",
          "2022",
          "2023"
         ],
         "xaxis": "x",
         "y": [
          115,
          140,
          155,
          160,
          155,
          85,
          260,
          160,
          140
         ],
         "yaxis": "y"
        },
        {
         "hovertemplate": "Country of Citizenship=Denmark<br>Ano=%{x}<br>Imigrantes=%{y}<extra></extra>",
         "legendgroup": "Denmark",
         "line": {
          "color": "#636efa",
          "dash": "solid"
         },
         "marker": {
          "symbol": "circle"
         },
         "mode": "lines",
         "name": "Denmark",
         "showlegend": true,
         "type": "scattergl",
         "x": [
          "2015",
          "2016",
          "2017",
          "2018",
          "2019",
          "2020",
          "2021",
          "2022",
          "2023"
         ],
         "xaxis": "x",
         "y": [
          100,
          105,
          105,
          110,
          100,
          40,
          285,
          145,
          105
         ],
         "yaxis": "y"
        },
        {
         "hovertemplate": "Country of Citizenship=Djibouti, Republic of<br>Ano=%{x}<br>Imigrantes=%{y}<extra></extra>",
         "legendgroup": "Djibouti, Republic of",
         "line": {
          "color": "#EF553B",
          "dash": "solid"
         },
         "marker": {
          "symbol": "circle"
         },
         "mode": "lines",
         "name": "Djibouti, Republic of",
         "showlegend": true,
         "type": "scattergl",
         "x": [
          "2015",
          "2016",
          "2017",
          "2018",
          "2019",
          "2020",
          "2021",
          "2022",
          "2023"
         ],
         "xaxis": "x",
         "y": [
          25,
          40,
          35,
          55,
          50,
          20,
          40,
          55,
          95
         ],
         "yaxis": "y"
        },
        {
         "hovertemplate": "Country of Citizenship=Dominica<br>Ano=%{x}<br>Imigrantes=%{y}<extra></extra>",
         "legendgroup": "Dominica",
         "line": {
          "color": "#00cc96",
          "dash": "solid"
         },
         "marker": {
          "symbol": "circle"
         },
         "mode": "lines",
         "name": "Dominica",
         "showlegend": true,
         "type": "scattergl",
         "x": [
          "2015",
          "2016",
          "2017",
          "2018",
          "2019",
          "2020",
          "2021",
          "2022",
          "2023"
         ],
         "xaxis": "x",
         "y": [
          5,
          20,
          30,
          60,
          45,
          30,
          55,
          65,
          75
         ],
         "yaxis": "y"
        },
        {
         "hovertemplate": "Country of Citizenship=Dominican Republic<br>Ano=%{x}<br>Imigrantes=%{y}<extra></extra>",
         "legendgroup": "Dominican Republic",
         "line": {
          "color": "#ab63fa",
          "dash": "solid"
         },
         "marker": {
          "symbol": "circle"
         },
         "mode": "lines",
         "name": "Dominican Republic",
         "showlegend": true,
         "type": "scattergl",
         "x": [
          "2015",
          "2016",
          "2017",
          "2018",
          "2019",
          "2020",
          "2021",
          "2022",
          "2023"
         ],
         "xaxis": "x",
         "y": [
          170,
          235,
          235,
          305,
          295,
          215,
          545,
          670,
          780
         ],
         "yaxis": "y"
        },
        {
         "hovertemplate": "Country of Citizenship=East Timor, Democratic Republic of<br>Ano=%{x}<br>Imigrantes=%{y}<extra></extra>",
         "legendgroup": "East Timor, Democratic Republic of",
         "line": {
          "color": "#FFA15A",
          "dash": "solid"
         },
         "marker": {
          "symbol": "circle"
         },
         "mode": "lines",
         "name": "East Timor, Democratic Republic of",
         "showlegend": true,
         "type": "scattergl",
         "x": [
          "2015",
          "2016",
          "2017",
          "2018",
          "2019",
          "2020",
          "2021",
          "2022",
          "2023"
         ],
         "xaxis": "x",
         "y": [
          0,
          0,
          0,
          0,
          0,
          0,
          0,
          0,
          0
         ],
         "yaxis": "y"
        },
        {
         "hovertemplate": "Country of Citizenship=Ecuador<br>Ano=%{x}<br>Imigrantes=%{y}<extra></extra>",
         "legendgroup": "Ecuador",
         "line": {
          "color": "#19d3f3",
          "dash": "solid"
         },
         "marker": {
          "symbol": "circle"
         },
         "mode": "lines",
         "name": "Ecuador",
         "showlegend": true,
         "type": "scattergl",
         "x": [
          "2015",
          "2016",
          "2017",
          "2018",
          "2019",
          "2020",
          "2021",
          "2022",
          "2023"
         ],
         "xaxis": "x",
         "y": [
          410,
          545,
          665,
          785,
          895,
          630,
          1645,
          1900,
          2360
         ],
         "yaxis": "y"
        },
        {
         "hovertemplate": "Country of Citizenship=Egypt<br>Ano=%{x}<br>Imigrantes=%{y}<extra></extra>",
         "legendgroup": "Egypt",
         "line": {
          "color": "#FF6692",
          "dash": "solid"
         },
         "marker": {
          "symbol": "circle"
         },
         "mode": "lines",
         "name": "Egypt",
         "showlegend": true,
         "type": "scattergl",
         "x": [
          "2015",
          "2016",
          "2017",
          "2018",
          "2019",
          "2020",
          "2021",
          "2022",
          "2023"
         ],
         "xaxis": "x",
         "y": [
          830,
          1060,
          1285,
          1345,
          1600,
          1055,
          1935,
          1710,
          1655
         ],
         "yaxis": "y"
        },
        {
         "hovertemplate": "Country of Citizenship=El Salvador<br>Ano=%{x}<br>Imigrantes=%{y}<extra></extra>",
         "legendgroup": "El Salvador",
         "line": {
          "color": "#B6E880",
          "dash": "solid"
         },
         "marker": {
          "symbol": "circle"
         },
         "mode": "lines",
         "name": "El Salvador",
         "showlegend": true,
         "type": "scattergl",
         "x": [
          "2015",
          "2016",
          "2017",
          "2018",
          "2019",
          "2020",
          "2021",
          "2022",
          "2023"
         ],
         "xaxis": "x",
         "y": [
          180,
          225,
          280,
          290,
          275,
          195,
          270,
          405,
          360
         ],
         "yaxis": "y"
        },
        {
         "hovertemplate": "Country of Citizenship=Equatorial Guinea, Republic of<br>Ano=%{x}<br>Imigrantes=%{y}<extra></extra>",
         "legendgroup": "Equatorial Guinea, Republic of",
         "line": {
          "color": "#FF97FF",
          "dash": "solid"
         },
         "marker": {
          "symbol": "circle"
         },
         "mode": "lines",
         "name": "Equatorial Guinea, Republic of",
         "showlegend": true,
         "type": "scattergl",
         "x": [
          "2015",
          "2016",
          "2017",
          "2018",
          "2019",
          "2020",
          "2021",
          "2022",
          "2023"
         ],
         "xaxis": "x",
         "y": [
          0,
          0,
          20,
          5,
          20,
          0,
          0,
          5,
          5
         ],
         "yaxis": "y"
        },
        {
         "hovertemplate": "Country of Citizenship=Eritrea<br>Ano=%{x}<br>Imigrantes=%{y}<extra></extra>",
         "legendgroup": "Eritrea",
         "line": {
          "color": "#FECB52",
          "dash": "solid"
         },
         "marker": {
          "symbol": "circle"
         },
         "mode": "lines",
         "name": "Eritrea",
         "showlegend": true,
         "type": "scattergl",
         "x": [
          "2015",
          "2016",
          "2017",
          "2018",
          "2019",
          "2020",
          "2021",
          "2022",
          "2023"
         ],
         "xaxis": "x",
         "y": [
          85,
          110,
          225,
          155,
          85,
          65,
          40,
          35,
          35
         ],
         "yaxis": "y"
        },
        {
         "hovertemplate": "Country of Citizenship=Estonia<br>Ano=%{x}<br>Imigrantes=%{y}<extra></extra>",
         "legendgroup": "Estonia",
         "line": {
          "color": "#636efa",
          "dash": "solid"
         },
         "marker": {
          "symbol": "circle"
         },
         "mode": "lines",
         "name": "Estonia",
         "showlegend": true,
         "type": "scattergl",
         "x": [
          "2015",
          "2016",
          "2017",
          "2018",
          "2019",
          "2020",
          "2021",
          "2022",
          "2023"
         ],
         "xaxis": "x",
         "y": [
          15,
          25,
          10,
          20,
          0,
          5,
          15,
          5,
          5
         ],
         "yaxis": "y"
        },
        {
         "hovertemplate": "Country of Citizenship=Ethiopia<br>Ano=%{x}<br>Imigrantes=%{y}<extra></extra>",
         "legendgroup": "Ethiopia",
         "line": {
          "color": "#EF553B",
          "dash": "solid"
         },
         "marker": {
          "symbol": "circle"
         },
         "mode": "lines",
         "name": "Ethiopia",
         "showlegend": true,
         "type": "scattergl",
         "x": [
          "2015",
          "2016",
          "2017",
          "2018",
          "2019",
          "2020",
          "2021",
          "2022",
          "2023"
         ],
         "xaxis": "x",
         "y": [
          145,
          225,
          260,
          325,
          320,
          230,
          325,
          475,
          775
         ],
         "yaxis": "y"
        },
        {
         "hovertemplate": "Country of Citizenship=Fiji<br>Ano=%{x}<br>Imigrantes=%{y}<extra></extra>",
         "legendgroup": "Fiji",
         "line": {
          "color": "#00cc96",
          "dash": "solid"
         },
         "marker": {
          "symbol": "circle"
         },
         "mode": "lines",
         "name": "Fiji",
         "showlegend": true,
         "type": "scattergl",
         "x": [
          "2015",
          "2016",
          "2017",
          "2018",
          "2019",
          "2020",
          "2021",
          "2022",
          "2023"
         ],
         "xaxis": "x",
         "y": [
          5,
          25,
          25,
          10,
          15,
          10,
          30,
          25,
          50
         ],
         "yaxis": "y"
        },
        {
         "hovertemplate": "Country of Citizenship=Finland<br>Ano=%{x}<br>Imigrantes=%{y}<extra></extra>",
         "legendgroup": "Finland",
         "line": {
          "color": "#ab63fa",
          "dash": "solid"
         },
         "marker": {
          "symbol": "circle"
         },
         "mode": "lines",
         "name": "Finland",
         "showlegend": true,
         "type": "scattergl",
         "x": [
          "2015",
          "2016",
          "2017",
          "2018",
          "2019",
          "2020",
          "2021",
          "2022",
          "2023"
         ],
         "xaxis": "x",
         "y": [
          95,
          125,
          125,
          120,
          110,
          50,
          180,
          125,
          75
         ],
         "yaxis": "y"
        },
        {
         "hovertemplate": "Country of Citizenship=France<br>Ano=%{x}<br>Imigrantes=%{y}<extra></extra>",
         "legendgroup": "France",
         "line": {
          "color": "#FFA15A",
          "dash": "solid"
         },
         "marker": {
          "symbol": "circle"
         },
         "mode": "lines",
         "name": "France",
         "showlegend": true,
         "type": "scattergl",
         "x": [
          "2015",
          "2016",
          "2017",
          "2018",
          "2019",
          "2020",
          "2021",
          "2022",
          "2023"
         ],
         "xaxis": "x",
         "y": [
          12125,
          12150,
          13570,
          13690,
          14825,
          8390,
          20630,
          17090,
          15400
         ],
         "yaxis": "y"
        },
        {
         "hovertemplate": "Country of Citizenship=French Guiana<br>Ano=%{x}<br>Imigrantes=%{y}<extra></extra>",
         "legendgroup": "French Guiana",
         "line": {
          "color": "#19d3f3",
          "dash": "solid"
         },
         "marker": {
          "symbol": "circle"
         },
         "mode": "lines",
         "name": "French Guiana",
         "showlegend": true,
         "type": "scattergl",
         "x": [
          "2015",
          "2016",
          "2017",
          "2018",
          "2019",
          "2020",
          "2021",
          "2022",
          "2023"
         ],
         "xaxis": "x",
         "y": [
          0,
          0,
          0,
          0,
          0,
          0,
          0,
          0,
          0
         ],
         "yaxis": "y"
        },
        {
         "hovertemplate": "Country of Citizenship=French Polynesia<br>Ano=%{x}<br>Imigrantes=%{y}<extra></extra>",
         "legendgroup": "French Polynesia",
         "line": {
          "color": "#FF6692",
          "dash": "solid"
         },
         "marker": {
          "symbol": "circle"
         },
         "mode": "lines",
         "name": "French Polynesia",
         "showlegend": true,
         "type": "scattergl",
         "x": [
          "2015",
          "2016",
          "2017",
          "2018",
          "2019",
          "2020",
          "2021",
          "2022",
          "2023"
         ],
         "xaxis": "x",
         "y": [
          0,
          0,
          0,
          0,
          25,
          0,
          30,
          0,
          10
         ],
         "yaxis": "y"
        },
        {
         "hovertemplate": "Country of Citizenship=Gabon Republic<br>Ano=%{x}<br>Imigrantes=%{y}<extra></extra>",
         "legendgroup": "Gabon Republic",
         "line": {
          "color": "#B6E880",
          "dash": "solid"
         },
         "marker": {
          "symbol": "circle"
         },
         "mode": "lines",
         "name": "Gabon Republic",
         "showlegend": true,
         "type": "scattergl",
         "x": [
          "2015",
          "2016",
          "2017",
          "2018",
          "2019",
          "2020",
          "2021",
          "2022",
          "2023"
         ],
         "xaxis": "x",
         "y": [
          80,
          75,
          90,
          90,
          105,
          90,
          135,
          165,
          190
         ],
         "yaxis": "y"
        },
        {
         "hovertemplate": "Country of Citizenship=Gambia<br>Ano=%{x}<br>Imigrantes=%{y}<extra></extra>",
         "legendgroup": "Gambia",
         "line": {
          "color": "#FF97FF",
          "dash": "solid"
         },
         "marker": {
          "symbol": "circle"
         },
         "mode": "lines",
         "name": "Gambia",
         "showlegend": true,
         "type": "scattergl",
         "x": [
          "2015",
          "2016",
          "2017",
          "2018",
          "2019",
          "2020",
          "2021",
          "2022",
          "2023"
         ],
         "xaxis": "x",
         "y": [
          50,
          60,
          55,
          65,
          85,
          50,
          105,
          115,
          180
         ],
         "yaxis": "y"
        },
        {
         "hovertemplate": "Country of Citizenship=Georgia<br>Ano=%{x}<br>Imigrantes=%{y}<extra></extra>",
         "legendgroup": "Georgia",
         "line": {
          "color": "#FECB52",
          "dash": "solid"
         },
         "marker": {
          "symbol": "circle"
         },
         "mode": "lines",
         "name": "Georgia",
         "showlegend": true,
         "type": "scattergl",
         "x": [
          "2015",
          "2016",
          "2017",
          "2018",
          "2019",
          "2020",
          "2021",
          "2022",
          "2023"
         ],
         "xaxis": "x",
         "y": [
          10,
          15,
          10,
          5,
          5,
          0,
          10,
          25,
          60
         ],
         "yaxis": "y"
        },
        {
         "hovertemplate": "Country of Citizenship=Germany<br>Ano=%{x}<br>Imigrantes=%{y}<extra></extra>",
         "legendgroup": "Germany",
         "line": {
          "color": "#636efa",
          "dash": "solid"
         },
         "marker": {
          "symbol": "circle"
         },
         "mode": "lines",
         "name": "Germany",
         "showlegend": true,
         "type": "scattergl",
         "x": [
          "2015",
          "2016",
          "2017",
          "2018",
          "2019",
          "2020",
          "2021",
          "2022",
          "2023"
         ],
         "xaxis": "x",
         "y": [
          2060,
          2265,
          2250,
          2255,
          2305,
          815,
          5240,
          4305,
          2430
         ],
         "yaxis": "y"
        },
        {
         "hovertemplate": "Country of Citizenship=Ghana<br>Ano=%{x}<br>Imigrantes=%{y}<extra></extra>",
         "legendgroup": "Ghana",
         "line": {
          "color": "#EF553B",
          "dash": "solid"
         },
         "marker": {
          "symbol": "circle"
         },
         "mode": "lines",
         "name": "Ghana",
         "showlegend": true,
         "type": "scattergl",
         "x": [
          "2015",
          "2016",
          "2017",
          "2018",
          "2019",
          "2020",
          "2021",
          "2022",
          "2023"
         ],
         "xaxis": "x",
         "y": [
          810,
          895,
          935,
          880,
          1375,
          860,
          1275,
          2750,
          6310
         ],
         "yaxis": "y"
        },
        {
         "hovertemplate": "Country of Citizenship=Greece<br>Ano=%{x}<br>Imigrantes=%{y}<extra></extra>",
         "legendgroup": "Greece",
         "line": {
          "color": "#00cc96",
          "dash": "solid"
         },
         "marker": {
          "symbol": "circle"
         },
         "mode": "lines",
         "name": "Greece",
         "showlegend": true,
         "type": "scattergl",
         "x": [
          "2015",
          "2016",
          "2017",
          "2018",
          "2019",
          "2020",
          "2021",
          "2022",
          "2023"
         ],
         "xaxis": "x",
         "y": [
          140,
          190,
          200,
          175,
          175,
          140,
          195,
          170,
          150
         ],
         "yaxis": "y"
        },
        {
         "hovertemplate": "Country of Citizenship=Grenada<br>Ano=%{x}<br>Imigrantes=%{y}<extra></extra>",
         "legendgroup": "Grenada",
         "line": {
          "color": "#ab63fa",
          "dash": "solid"
         },
         "marker": {
          "symbol": "circle"
         },
         "mode": "lines",
         "name": "Grenada",
         "showlegend": true,
         "type": "scattergl",
         "x": [
          "2015",
          "2016",
          "2017",
          "2018",
          "2019",
          "2020",
          "2021",
          "2022",
          "2023"
         ],
         "xaxis": "x",
         "y": [
          25,
          40,
          40,
          40,
          30,
          40,
          50,
          40,
          35
         ],
         "yaxis": "y"
        },
        {
         "hovertemplate": "Country of Citizenship=Guadeloupe<br>Ano=%{x}<br>Imigrantes=%{y}<extra></extra>",
         "legendgroup": "Guadeloupe",
         "line": {
          "color": "#FFA15A",
          "dash": "solid"
         },
         "marker": {
          "symbol": "circle"
         },
         "mode": "lines",
         "name": "Guadeloupe",
         "showlegend": true,
         "type": "scattergl",
         "x": [
          "2015",
          "2016",
          "2017",
          "2018",
          "2019",
          "2020",
          "2021",
          "2022",
          "2023"
         ],
         "xaxis": "x",
         "y": [
          0,
          0,
          0,
          0,
          0,
          0,
          0,
          0,
          0
         ],
         "yaxis": "y"
        },
        {
         "hovertemplate": "Country of Citizenship=Guatemala<br>Ano=%{x}<br>Imigrantes=%{y}<extra></extra>",
         "legendgroup": "Guatemala",
         "line": {
          "color": "#19d3f3",
          "dash": "solid"
         },
         "marker": {
          "symbol": "circle"
         },
         "mode": "lines",
         "name": "Guatemala",
         "showlegend": true,
         "type": "scattergl",
         "x": [
          "2015",
          "2016",
          "2017",
          "2018",
          "2019",
          "2020",
          "2021",
          "2022",
          "2023"
         ],
         "xaxis": "x",
         "y": [
          50,
          70,
          65,
          75,
          80,
          50,
          135,
          175,
          200
         ],
         "yaxis": "y"
        },
        {
         "hovertemplate": "Country of Citizenship=Guinea, Republic of<br>Ano=%{x}<br>Imigrantes=%{y}<extra></extra>",
         "legendgroup": "Guinea, Republic of",
         "line": {
          "color": "#FF6692",
          "dash": "solid"
         },
         "marker": {
          "symbol": "circle"
         },
         "mode": "lines",
         "name": "Guinea, Republic of",
         "showlegend": true,
         "type": "scattergl",
         "x": [
          "2015",
          "2016",
          "2017",
          "2018",
          "2019",
          "2020",
          "2021",
          "2022",
          "2023"
         ],
         "xaxis": "x",
         "y": [
          190,
          300,
          300,
          365,
          485,
          350,
          775,
          1245,
          3040
         ],
         "yaxis": "y"
        },
        {
         "hovertemplate": "Country of Citizenship=Guinea-Bissau<br>Ano=%{x}<br>Imigrantes=%{y}<extra></extra>",
         "legendgroup": "Guinea-Bissau",
         "line": {
          "color": "#B6E880",
          "dash": "solid"
         },
         "marker": {
          "symbol": "circle"
         },
         "mode": "lines",
         "name": "Guinea-Bissau",
         "showlegend": true,
         "type": "scattergl",
         "x": [
          "2015",
          "2016",
          "2017",
          "2018",
          "2019",
          "2020",
          "2021",
          "2022",
          "2023"
         ],
         "xaxis": "x",
         "y": [
          0,
          0,
          0,
          0,
          0,
          0,
          0,
          0,
          0
         ],
         "yaxis": "y"
        },
        {
         "hovertemplate": "Country of Citizenship=Guyana<br>Ano=%{x}<br>Imigrantes=%{y}<extra></extra>",
         "legendgroup": "Guyana",
         "line": {
          "color": "#FF97FF",
          "dash": "solid"
         },
         "marker": {
          "symbol": "circle"
         },
         "mode": "lines",
         "name": "Guyana",
         "showlegend": true,
         "type": "scattergl",
         "x": [
          "2015",
          "2016",
          "2017",
          "2018",
          "2019",
          "2020",
          "2021",
          "2022",
          "2023"
         ],
         "xaxis": "x",
         "y": [
          120,
          190,
          205,
          265,
          335,
          220,
          335,
          320,
          295
         ],
         "yaxis": "y"
        },
        {
         "hovertemplate": "Country of Citizenship=Haiti<br>Ano=%{x}<br>Imigrantes=%{y}<extra></extra>",
         "legendgroup": "Haiti",
         "line": {
          "color": "#FECB52",
          "dash": "solid"
         },
         "marker": {
          "symbol": "circle"
         },
         "mode": "lines",
         "name": "Haiti",
         "showlegend": true,
         "type": "scattergl",
         "x": [
          "2015",
          "2016",
          "2017",
          "2018",
          "2019",
          "2020",
          "2021",
          "2022",
          "2023"
         ],
         "xaxis": "x",
         "y": [
          375,
          475,
          445,
          495,
          545,
          515,
          980,
          1560,
          2145
         ],
         "yaxis": "y"
        },
        {
         "hovertemplate": "Country of Citizenship=Holy See<br>Ano=%{x}<br>Imigrantes=%{y}<extra></extra>",
         "legendgroup": "Holy See",
         "line": {
          "color": "#636efa",
          "dash": "solid"
         },
         "marker": {
          "symbol": "circle"
         },
         "mode": "lines",
         "name": "Holy See",
         "showlegend": true,
         "type": "scattergl",
         "x": [
          "2015",
          "2016",
          "2017",
          "2018",
          "2019",
          "2020",
          "2021",
          "2022",
          "2023"
         ],
         "xaxis": "x",
         "y": [
          0,
          0,
          0,
          0,
          0,
          0,
          0,
          0,
          0
         ],
         "yaxis": "y"
        },
        {
         "hovertemplate": "Country of Citizenship=Honduras<br>Ano=%{x}<br>Imigrantes=%{y}<extra></extra>",
         "legendgroup": "Honduras",
         "line": {
          "color": "#EF553B",
          "dash": "solid"
         },
         "marker": {
          "symbol": "circle"
         },
         "mode": "lines",
         "name": "Honduras",
         "showlegend": true,
         "type": "scattergl",
         "x": [
          "2015",
          "2016",
          "2017",
          "2018",
          "2019",
          "2020",
          "2021",
          "2022",
          "2023"
         ],
         "xaxis": "x",
         "y": [
          75,
          130,
          145,
          180,
          170,
          120,
          270,
          375,
          375
         ],
         "yaxis": "y"
        },
        {
         "hovertemplate": "Country of Citizenship=Hong Kong SAR<br>Ano=%{x}<br>Imigrantes=%{y}<extra></extra>",
         "legendgroup": "Hong Kong SAR",
         "line": {
          "color": "#00cc96",
          "dash": "solid"
         },
         "marker": {
          "symbol": "circle"
         },
         "mode": "lines",
         "name": "Hong Kong SAR",
         "showlegend": true,
         "type": "scattergl",
         "x": [
          "2015",
          "2016",
          "2017",
          "2018",
          "2019",
          "2020",
          "2021",
          "2022",
          "2023"
         ],
         "xaxis": "x",
         "y": [
          2180,
          2495,
          2555,
          2560,
          2580,
          2735,
          6605,
          9815,
          7545
         ],
         "yaxis": "y"
        },
        {
         "hovertemplate": "Country of Citizenship=Hungary<br>Ano=%{x}<br>Imigrantes=%{y}<extra></extra>",
         "legendgroup": "Hungary",
         "line": {
          "color": "#ab63fa",
          "dash": "solid"
         },
         "marker": {
          "symbol": "circle"
         },
         "mode": "lines",
         "name": "Hungary",
         "showlegend": true,
         "type": "scattergl",
         "x": [
          "2015",
          "2016",
          "2017",
          "2018",
          "2019",
          "2020",
          "2021",
          "2022",
          "2023"
         ],
         "xaxis": "x",
         "y": [
          110,
          120,
          110,
          100,
          105,
          55,
          125,
          110,
          100
         ],
         "yaxis": "y"
        },
        {
         "hovertemplate": "Country of Citizenship=Iceland<br>Ano=%{x}<br>Imigrantes=%{y}<extra></extra>",
         "legendgroup": "Iceland",
         "line": {
          "color": "#FFA15A",
          "dash": "solid"
         },
         "marker": {
          "symbol": "circle"
         },
         "mode": "lines",
         "name": "Iceland",
         "showlegend": true,
         "type": "scattergl",
         "x": [
          "2015",
          "2016",
          "2017",
          "2018",
          "2019",
          "2020",
          "2021",
          "2022",
          "2023"
         ],
         "xaxis": "x",
         "y": [
          40,
          40,
          40,
          30,
          40,
          30,
          25,
          35,
          15
         ],
         "yaxis": "y"
        },
        {
         "hovertemplate": "Country of Citizenship=India<br>Ano=%{x}<br>Imigrantes=%{y}<extra></extra>",
         "legendgroup": "India",
         "line": {
          "color": "#19d3f3",
          "dash": "solid"
         },
         "marker": {
          "symbol": "circle"
         },
         "mode": "lines",
         "name": "India",
         "showlegend": true,
         "type": "scattergl",
         "x": [
          "2015",
          "2016",
          "2017",
          "2018",
          "2019",
          "2020",
          "2021",
          "2022",
          "2023"
         ],
         "xaxis": "x",
         "y": [
          32465,
          53450,
          84290,
          109290,
          140250,
          84590,
          174595,
          232640,
          220035
         ],
         "yaxis": "y"
        },
        {
         "hovertemplate": "Country of Citizenship=Indonesia, Republic of<br>Ano=%{x}<br>Imigrantes=%{y}<extra></extra>",
         "legendgroup": "Indonesia, Republic of",
         "line": {
          "color": "#FF6692",
          "dash": "solid"
         },
         "marker": {
          "symbol": "circle"
         },
         "mode": "lines",
         "name": "Indonesia, Republic of",
         "showlegend": true,
         "type": "scattergl",
         "x": [
          "2015",
          "2016",
          "2017",
          "2018",
          "2019",
          "2020",
          "2021",
          "2022",
          "2023"
         ],
         "xaxis": "x",
         "y": [
          775,
          840,
          990,
          1240,
          1330,
          830,
          1645,
          1720,
          1700
         ],
         "yaxis": "y"
        },
        {
         "hovertemplate": "Country of Citizenship=Iran<br>Ano=%{x}<br>Imigrantes=%{y}<extra></extra>",
         "legendgroup": "Iran",
         "line": {
          "color": "#B6E880",
          "dash": "solid"
         },
         "marker": {
          "symbol": "circle"
         },
         "mode": "lines",
         "name": "Iran",
         "showlegend": true,
         "type": "scattergl",
         "x": [
          "2015",
          "2016",
          "2017",
          "2018",
          "2019",
          "2020",
          "2021",
          "2022",
          "2023"
         ],
         "xaxis": "x",
         "y": [
          2405,
          3095,
          4860,
          7260,
          10060,
          7435,
          12420,
          13890,
          13735
         ],
         "yaxis": "y"
        },
        {
         "hovertemplate": "Country of Citizenship=Iraq<br>Ano=%{x}<br>Imigrantes=%{y}<extra></extra>",
         "legendgroup": "Iraq",
         "line": {
          "color": "#FF97FF",
          "dash": "solid"
         },
         "marker": {
          "symbol": "circle"
         },
         "mode": "lines",
         "name": "Iraq",
         "showlegend": true,
         "type": "scattergl",
         "x": [
          "2015",
          "2016",
          "2017",
          "2018",
          "2019",
          "2020",
          "2021",
          "2022",
          "2023"
         ],
         "xaxis": "x",
         "y": [
          120,
          160,
          150,
          215,
          170,
          140,
          235,
          235,
          275
         ],
         "yaxis": "y"
        },
        {
         "hovertemplate": "Country of Citizenship=Ireland, Republic of<br>Ano=%{x}<br>Imigrantes=%{y}<extra></extra>",
         "legendgroup": "Ireland, Republic of",
         "line": {
          "color": "#FECB52",
          "dash": "solid"
         },
         "marker": {
          "symbol": "circle"
         },
         "mode": "lines",
         "name": "Ireland, Republic of",
         "showlegend": true,
         "type": "scattergl",
         "x": [
          "2015",
          "2016",
          "2017",
          "2018",
          "2019",
          "2020",
          "2021",
          "2022",
          "2023"
         ],
         "xaxis": "x",
         "y": [
          230,
          235,
          210,
          155,
          170,
          115,
          270,
          255,
          185
         ],
         "yaxis": "y"
        },
        {
         "hovertemplate": "Country of Citizenship=Israel<br>Ano=%{x}<br>Imigrantes=%{y}<extra></extra>",
         "legendgroup": "Israel",
         "line": {
          "color": "#636efa",
          "dash": "solid"
         },
         "marker": {
          "symbol": "circle"
         },
         "mode": "lines",
         "name": "Israel",
         "showlegend": true,
         "type": "scattergl",
         "x": [
          "2015",
          "2016",
          "2017",
          "2018",
          "2019",
          "2020",
          "2021",
          "2022",
          "2023"
         ],
         "xaxis": "x",
         "y": [
          395,
          445,
          485,
          450,
          525,
          420,
          630,
          495,
          645
         ],
         "yaxis": "y"
        },
        {
         "hovertemplate": "Country of Citizenship=Italy<br>Ano=%{x}<br>Imigrantes=%{y}<extra></extra>",
         "legendgroup": "Italy",
         "line": {
          "color": "#EF553B",
          "dash": "solid"
         },
         "marker": {
          "symbol": "circle"
         },
         "mode": "lines",
         "name": "Italy",
         "showlegend": true,
         "type": "scattergl",
         "x": [
          "2015",
          "2016",
          "2017",
          "2018",
          "2019",
          "2020",
          "2021",
          "2022",
          "2023"
         ],
         "xaxis": "x",
         "y": [
          1025,
          1430,
          1475,
          1480,
          1490,
          840,
          3025,
          2450,
          1670
         ],
         "yaxis": "y"
        },
        {
         "hovertemplate": "Country of Citizenship=Ivory Coast, Republic of<br>Ano=%{x}<br>Imigrantes=%{y}<extra></extra>",
         "legendgroup": "Ivory Coast, Republic of",
         "line": {
          "color": "#00cc96",
          "dash": "solid"
         },
         "marker": {
          "symbol": "circle"
         },
         "mode": "lines",
         "name": "Ivory Coast, Republic of",
         "showlegend": true,
         "type": "scattergl",
         "x": [
          "2015",
          "2016",
          "2017",
          "2018",
          "2019",
          "2020",
          "2021",
          "2022",
          "2023"
         ],
         "xaxis": "x",
         "y": [
          665,
          715,
          755,
          965,
          1235,
          935,
          2010,
          2185,
          4080
         ],
         "yaxis": "y"
        },
        {
         "hovertemplate": "Country of Citizenship=Jamaica<br>Ano=%{x}<br>Imigrantes=%{y}<extra></extra>",
         "legendgroup": "Jamaica",
         "line": {
          "color": "#ab63fa",
          "dash": "solid"
         },
         "marker": {
          "symbol": "circle"
         },
         "mode": "lines",
         "name": "Jamaica",
         "showlegend": true,
         "type": "scattergl",
         "x": [
          "2015",
          "2016",
          "2017",
          "2018",
          "2019",
          "2020",
          "2021",
          "2022",
          "2023"
         ],
         "xaxis": "x",
         "y": [
          1380,
          1740,
          1575,
          1740,
          2095,
          1330,
          1765,
          1675,
          1895
         ],
         "yaxis": "y"
        },
        {
         "hovertemplate": "Country of Citizenship=Japan<br>Ano=%{x}<br>Imigrantes=%{y}<extra></extra>",
         "legendgroup": "Japan",
         "line": {
          "color": "#FFA15A",
          "dash": "solid"
         },
         "marker": {
          "symbol": "circle"
         },
         "mode": "lines",
         "name": "Japan",
         "showlegend": true,
         "type": "scattergl",
         "x": [
          "2015",
          "2016",
          "2017",
          "2018",
          "2019",
          "2020",
          "2021",
          "2022",
          "2023"
         ],
         "xaxis": "x",
         "y": [
          6300,
          7010,
          6845,
          6975,
          6925,
          3735,
          8155,
          11640,
          8020
         ],
         "yaxis": "y"
        },
        {
         "hovertemplate": "Country of Citizenship=Jordan<br>Ano=%{x}<br>Imigrantes=%{y}<extra></extra>",
         "legendgroup": "Jordan",
         "line": {
          "color": "#19d3f3",
          "dash": "solid"
         },
         "marker": {
          "symbol": "circle"
         },
         "mode": "lines",
         "name": "Jordan",
         "showlegend": true,
         "type": "scattergl",
         "x": [
          "2015",
          "2016",
          "2017",
          "2018",
          "2019",
          "2020",
          "2021",
          "2022",
          "2023"
         ],
         "xaxis": "x",
         "y": [
          295,
          420,
          470,
          645,
          950,
          680,
          1470,
          1850,
          1480
         ],
         "yaxis": "y"
        },
        {
         "hovertemplate": "Country of Citizenship=Kazakhstan<br>Ano=%{x}<br>Imigrantes=%{y}<extra></extra>",
         "legendgroup": "Kazakhstan",
         "line": {
          "color": "#FF6692",
          "dash": "solid"
         },
         "marker": {
          "symbol": "circle"
         },
         "mode": "lines",
         "name": "Kazakhstan",
         "showlegend": true,
         "type": "scattergl",
         "x": [
          "2015",
          "2016",
          "2017",
          "2018",
          "2019",
          "2020",
          "2021",
          "2022",
          "2023"
         ],
         "xaxis": "x",
         "y": [
          495,
          620,
          660,
          720,
          690,
          390,
          740,
          525,
          765
         ],
         "yaxis": "y"
        },
        {
         "hovertemplate": "Country of Citizenship=Kenya<br>Ano=%{x}<br>Imigrantes=%{y}<extra></extra>",
         "legendgroup": "Kenya",
         "line": {
          "color": "#B6E880",
          "dash": "solid"
         },
         "marker": {
          "symbol": "circle"
         },
         "mode": "lines",
         "name": "Kenya",
         "showlegend": true,
         "type": "scattergl",
         "x": [
          "2015",
          "2016",
          "2017",
          "2018",
          "2019",
          "2020",
          "2021",
          "2022",
          "2023"
         ],
         "xaxis": "x",
         "y": [
          440,
          695,
          810,
          1050,
          1085,
          870,
          1230,
          1355,
          1885
         ],
         "yaxis": "y"
        },
        {
         "hovertemplate": "Country of Citizenship=Korea, People's Democratic Republic of<br>Ano=%{x}<br>Imigrantes=%{y}<extra></extra>",
         "legendgroup": "Korea, People's Democratic Republic of",
         "line": {
          "color": "#FF97FF",
          "dash": "solid"
         },
         "marker": {
          "symbol": "circle"
         },
         "mode": "lines",
         "name": "Korea, People's Democratic Republic of",
         "showlegend": true,
         "type": "scattergl",
         "x": [
          "2015",
          "2016",
          "2017",
          "2018",
          "2019",
          "2020",
          "2021",
          "2022",
          "2023"
         ],
         "xaxis": "x",
         "y": [
          0,
          0,
          5,
          0,
          0,
          0,
          0,
          0,
          0
         ],
         "yaxis": "y"
        },
        {
         "hovertemplate": "Country of Citizenship=Korea, Republic of<br>Ano=%{x}<br>Imigrantes=%{y}<extra></extra>",
         "legendgroup": "Korea, Republic of",
         "line": {
          "color": "#FECB52",
          "dash": "solid"
         },
         "marker": {
          "symbol": "circle"
         },
         "mode": "lines",
         "name": "Korea, Republic of",
         "showlegend": true,
         "type": "scattergl",
         "x": [
          "2015",
          "2016",
          "2017",
          "2018",
          "2019",
          "2020",
          "2021",
          "2022",
          "2023"
         ],
         "xaxis": "x",
         "y": [
          15870,
          17230,
          18010,
          18010,
          17915,
          11805,
          11145,
          12095,
          10390
         ],
         "yaxis": "y"
        },
        {
         "hovertemplate": "Country of Citizenship=Kosovo, Republic of<br>Ano=%{x}<br>Imigrantes=%{y}<extra></extra>",
         "legendgroup": "Kosovo, Republic of",
         "line": {
          "color": "#636efa",
          "dash": "solid"
         },
         "marker": {
          "symbol": "circle"
         },
         "mode": "lines",
         "name": "Kosovo, Republic of",
         "showlegend": true,
         "type": "scattergl",
         "x": [
          "2015",
          "2016",
          "2017",
          "2018",
          "2019",
          "2020",
          "2021",
          "2022",
          "2023"
         ],
         "xaxis": "x",
         "y": [
          40,
          45,
          15,
          45,
          30,
          40,
          65,
          50,
          100
         ],
         "yaxis": "y"
        },
        {
         "hovertemplate": "Country of Citizenship=Kuwait<br>Ano=%{x}<br>Imigrantes=%{y}<extra></extra>",
         "legendgroup": "Kuwait",
         "line": {
          "color": "#EF553B",
          "dash": "solid"
         },
         "marker": {
          "symbol": "circle"
         },
         "mode": "lines",
         "name": "Kuwait",
         "showlegend": true,
         "type": "scattergl",
         "x": [
          "2015",
          "2016",
          "2017",
          "2018",
          "2019",
          "2020",
          "2021",
          "2022",
          "2023"
         ],
         "xaxis": "x",
         "y": [
          140,
          150,
          170,
          150,
          170,
          100,
          235,
          265,
          275
         ],
         "yaxis": "y"
        },
        {
         "hovertemplate": "Country of Citizenship=Kyrgyzstan<br>Ano=%{x}<br>Imigrantes=%{y}<extra></extra>",
         "legendgroup": "Kyrgyzstan",
         "line": {
          "color": "#00cc96",
          "dash": "solid"
         },
         "marker": {
          "symbol": "circle"
         },
         "mode": "lines",
         "name": "Kyrgyzstan",
         "showlegend": true,
         "type": "scattergl",
         "x": [
          "2015",
          "2016",
          "2017",
          "2018",
          "2019",
          "2020",
          "2021",
          "2022",
          "2023"
         ],
         "xaxis": "x",
         "y": [
          10,
          35,
          55,
          65,
          70,
          60,
          95,
          90,
          130
         ],
         "yaxis": "y"
        },
        {
         "hovertemplate": "Country of Citizenship=Laos<br>Ano=%{x}<br>Imigrantes=%{y}<extra></extra>",
         "legendgroup": "Laos",
         "line": {
          "color": "#ab63fa",
          "dash": "solid"
         },
         "marker": {
          "symbol": "circle"
         },
         "mode": "lines",
         "name": "Laos",
         "showlegend": true,
         "type": "scattergl",
         "x": [
          "2015",
          "2016",
          "2017",
          "2018",
          "2019",
          "2020",
          "2021",
          "2022",
          "2023"
         ],
         "xaxis": "x",
         "y": [
          5,
          10,
          10,
          5,
          10,
          0,
          10,
          10,
          30
         ],
         "yaxis": "y"
        },
        {
         "hovertemplate": "Country of Citizenship=Latvia<br>Ano=%{x}<br>Imigrantes=%{y}<extra></extra>",
         "legendgroup": "Latvia",
         "line": {
          "color": "#FFA15A",
          "dash": "solid"
         },
         "marker": {
          "symbol": "circle"
         },
         "mode": "lines",
         "name": "Latvia",
         "showlegend": true,
         "type": "scattergl",
         "x": [
          "2015",
          "2016",
          "2017",
          "2018",
          "2019",
          "2020",
          "2021",
          "2022",
          "2023"
         ],
         "xaxis": "x",
         "y": [
          25,
          30,
          30,
          30,
          40,
          15,
          25,
          20,
          20
         ],
         "yaxis": "y"
        },
        {
         "hovertemplate": "Country of Citizenship=Lebanon<br>Ano=%{x}<br>Imigrantes=%{y}<extra></extra>",
         "legendgroup": "Lebanon",
         "line": {
          "color": "#19d3f3",
          "dash": "solid"
         },
         "marker": {
          "symbol": "circle"
         },
         "mode": "lines",
         "name": "Lebanon",
         "showlegend": true,
         "type": "scattergl",
         "x": [
          "2015",
          "2016",
          "2017",
          "2018",
          "2019",
          "2020",
          "2021",
          "2022",
          "2023"
         ],
         "xaxis": "x",
         "y": [
          420,
          500,
          510,
          530,
          585,
          570,
          1370,
          1370,
          1195
         ],
         "yaxis": "y"
        },
        {
         "hovertemplate": "Country of Citizenship=Lesotho<br>Ano=%{x}<br>Imigrantes=%{y}<extra></extra>",
         "legendgroup": "Lesotho",
         "line": {
          "color": "#FF6692",
          "dash": "solid"
         },
         "marker": {
          "symbol": "circle"
         },
         "mode": "lines",
         "name": "Lesotho",
         "showlegend": true,
         "type": "scattergl",
         "x": [
          "2015",
          "2016",
          "2017",
          "2018",
          "2019",
          "2020",
          "2021",
          "2022",
          "2023"
         ],
         "xaxis": "x",
         "y": [
          0,
          0,
          0,
          0,
          0,
          0,
          5,
          0,
          0
         ],
         "yaxis": "y"
        },
        {
         "hovertemplate": "Country of Citizenship=Liberia<br>Ano=%{x}<br>Imigrantes=%{y}<extra></extra>",
         "legendgroup": "Liberia",
         "line": {
          "color": "#B6E880",
          "dash": "solid"
         },
         "marker": {
          "symbol": "circle"
         },
         "mode": "lines",
         "name": "Liberia",
         "showlegend": true,
         "type": "scattergl",
         "x": [
          "2015",
          "2016",
          "2017",
          "2018",
          "2019",
          "2020",
          "2021",
          "2022",
          "2023"
         ],
         "xaxis": "x",
         "y": [
          5,
          5,
          10,
          0,
          10,
          5,
          15,
          35,
          85
         ],
         "yaxis": "y"
        },
        {
         "hovertemplate": "Country of Citizenship=Libya<br>Ano=%{x}<br>Imigrantes=%{y}<extra></extra>",
         "legendgroup": "Libya",
         "line": {
          "color": "#FF97FF",
          "dash": "solid"
         },
         "marker": {
          "symbol": "circle"
         },
         "mode": "lines",
         "name": "Libya",
         "showlegend": true,
         "type": "scattergl",
         "x": [
          "2015",
          "2016",
          "2017",
          "2018",
          "2019",
          "2020",
          "2021",
          "2022",
          "2023"
         ],
         "xaxis": "x",
         "y": [
          1480,
          1030,
          805,
          530,
          540,
          480,
          310,
          340,
          340
         ],
         "yaxis": "y"
        },
        {
         "hovertemplate": "Country of Citizenship=Liechtenstein<br>Ano=%{x}<br>Imigrantes=%{y}<extra></extra>",
         "legendgroup": "Liechtenstein",
         "line": {
          "color": "#FECB52",
          "dash": "solid"
         },
         "marker": {
          "symbol": "circle"
         },
         "mode": "lines",
         "name": "Liechtenstein",
         "showlegend": true,
         "type": "scattergl",
         "x": [
          "2015",
          "2016",
          "2017",
          "2018",
          "2019",
          "2020",
          "2021",
          "2022",
          "2023"
         ],
         "xaxis": "x",
         "y": [
          0,
          0,
          0,
          0,
          0,
          0,
          0,
          0,
          0
         ],
         "yaxis": "y"
        },
        {
         "hovertemplate": "Country of Citizenship=Lithuania<br>Ano=%{x}<br>Imigrantes=%{y}<extra></extra>",
         "legendgroup": "Lithuania",
         "line": {
          "color": "#636efa",
          "dash": "solid"
         },
         "marker": {
          "symbol": "circle"
         },
         "mode": "lines",
         "name": "Lithuania",
         "showlegend": true,
         "type": "scattergl",
         "x": [
          "2015",
          "2016",
          "2017",
          "2018",
          "2019",
          "2020",
          "2021",
          "2022",
          "2023"
         ],
         "xaxis": "x",
         "y": [
          45,
          35,
          50,
          35,
          45,
          25,
          35,
          30,
          20
         ],
         "yaxis": "y"
        },
        {
         "hovertemplate": "Country of Citizenship=Luxembourg<br>Ano=%{x}<br>Imigrantes=%{y}<extra></extra>",
         "legendgroup": "Luxembourg",
         "line": {
          "color": "#EF553B",
          "dash": "solid"
         },
         "marker": {
          "symbol": "circle"
         },
         "mode": "lines",
         "name": "Luxembourg",
         "showlegend": true,
         "type": "scattergl",
         "x": [
          "2015",
          "2016",
          "2017",
          "2018",
          "2019",
          "2020",
          "2021",
          "2022",
          "2023"
         ],
         "xaxis": "x",
         "y": [
          30,
          30,
          30,
          15,
          30,
          15,
          60,
          40,
          50
         ],
         "yaxis": "y"
        },
        {
         "hovertemplate": "Country of Citizenship=Macau SAR<br>Ano=%{x}<br>Imigrantes=%{y}<extra></extra>",
         "legendgroup": "Macau SAR",
         "line": {
          "color": "#00cc96",
          "dash": "solid"
         },
         "marker": {
          "symbol": "circle"
         },
         "mode": "lines",
         "name": "Macau SAR",
         "showlegend": true,
         "type": "scattergl",
         "x": [
          "2015",
          "2016",
          "2017",
          "2018",
          "2019",
          "2020",
          "2021",
          "2022",
          "2023"
         ],
         "xaxis": "x",
         "y": [
          195,
          195,
          200,
          225,
          195,
          150,
          115,
          145,
          145
         ],
         "yaxis": "y"
        },
        {
         "hovertemplate": "Country of Citizenship=Macedonia<br>Ano=%{x}<br>Imigrantes=%{y}<extra></extra>",
         "legendgroup": "Macedonia",
         "line": {
          "color": "#ab63fa",
          "dash": "solid"
         },
         "marker": {
          "symbol": "circle"
         },
         "mode": "lines",
         "name": "Macedonia",
         "showlegend": true,
         "type": "scattergl",
         "x": [
          "2015",
          "2016",
          "2017",
          "2018",
          "2019",
          "2020",
          "2021",
          "2022",
          "2023"
         ],
         "xaxis": "x",
         "y": [
          10,
          30,
          10,
          10,
          5,
          10,
          35,
          50,
          35
         ],
         "yaxis": "y"
        },
        {
         "hovertemplate": "Country of Citizenship=Madagascar<br>Ano=%{x}<br>Imigrantes=%{y}<extra></extra>",
         "legendgroup": "Madagascar",
         "line": {
          "color": "#FFA15A",
          "dash": "solid"
         },
         "marker": {
          "symbol": "circle"
         },
         "mode": "lines",
         "name": "Madagascar",
         "showlegend": true,
         "type": "scattergl",
         "x": [
          "2015",
          "2016",
          "2017",
          "2018",
          "2019",
          "2020",
          "2021",
          "2022",
          "2023"
         ],
         "xaxis": "x",
         "y": [
          120,
          180,
          185,
          170,
          210,
          190,
          335,
          425,
          560
         ],
         "yaxis": "y"
        },
        {
         "hovertemplate": "Country of Citizenship=Malawi<br>Ano=%{x}<br>Imigrantes=%{y}<extra></extra>",
         "legendgroup": "Malawi",
         "line": {
          "color": "#19d3f3",
          "dash": "solid"
         },
         "marker": {
          "symbol": "circle"
         },
         "mode": "lines",
         "name": "Malawi",
         "showlegend": true,
         "type": "scattergl",
         "x": [
          "2015",
          "2016",
          "2017",
          "2018",
          "2019",
          "2020",
          "2021",
          "2022",
          "2023"
         ],
         "xaxis": "x",
         "y": [
          10,
          20,
          20,
          25,
          20,
          15,
          25,
          45,
          45
         ],
         "yaxis": "y"
        },
        {
         "hovertemplate": "Country of Citizenship=Malaysia<br>Ano=%{x}<br>Imigrantes=%{y}<extra></extra>",
         "legendgroup": "Malaysia",
         "line": {
          "color": "#FF6692",
          "dash": "solid"
         },
         "marker": {
          "symbol": "circle"
         },
         "mode": "lines",
         "name": "Malaysia",
         "showlegend": true,
         "type": "scattergl",
         "x": [
          "2015",
          "2016",
          "2017",
          "2018",
          "2019",
          "2020",
          "2021",
          "2022",
          "2023"
         ],
         "xaxis": "x",
         "y": [
          625,
          655,
          670,
          690,
          655,
          425,
          590,
          645,
          560
         ],
         "yaxis": "y"
        },
        {
         "hovertemplate": "Country of Citizenship=Maldives, Republic of<br>Ano=%{x}<br>Imigrantes=%{y}<extra></extra>",
         "legendgroup": "Maldives, Republic of",
         "line": {
          "color": "#B6E880",
          "dash": "solid"
         },
         "marker": {
          "symbol": "circle"
         },
         "mode": "lines",
         "name": "Maldives, Republic of",
         "showlegend": true,
         "type": "scattergl",
         "x": [
          "2015",
          "2016",
          "2017",
          "2018",
          "2019",
          "2020",
          "2021",
          "2022",
          "2023"
         ],
         "xaxis": "x",
         "y": [
          0,
          0,
          0,
          0,
          0,
          0,
          0,
          0,
          0
         ],
         "yaxis": "y"
        },
        {
         "hovertemplate": "Country of Citizenship=Mali, Republic of<br>Ano=%{x}<br>Imigrantes=%{y}<extra></extra>",
         "legendgroup": "Mali, Republic of",
         "line": {
          "color": "#FF97FF",
          "dash": "solid"
         },
         "marker": {
          "symbol": "circle"
         },
         "mode": "lines",
         "name": "Mali, Republic of",
         "showlegend": true,
         "type": "scattergl",
         "x": [
          "2015",
          "2016",
          "2017",
          "2018",
          "2019",
          "2020",
          "2021",
          "2022",
          "2023"
         ],
         "xaxis": "x",
         "y": [
          380,
          440,
          425,
          475,
          515,
          470,
          570,
          665,
          960
         ],
         "yaxis": "y"
        },
        {
         "hovertemplate": "Country of Citizenship=Malta<br>Ano=%{x}<br>Imigrantes=%{y}<extra></extra>",
         "legendgroup": "Malta",
         "line": {
          "color": "#FECB52",
          "dash": "solid"
         },
         "marker": {
          "symbol": "circle"
         },
         "mode": "lines",
         "name": "Malta",
         "showlegend": true,
         "type": "scattergl",
         "x": [
          "2015",
          "2016",
          "2017",
          "2018",
          "2019",
          "2020",
          "2021",
          "2022",
          "2023"
         ],
         "xaxis": "x",
         "y": [
          0,
          0,
          0,
          0,
          5,
          0,
          5,
          0,
          5
         ],
         "yaxis": "y"
        },
        {
         "hovertemplate": "Country of Citizenship=Marshall Islands, Republic of the<br>Ano=%{x}<br>Imigrantes=%{y}<extra></extra>",
         "legendgroup": "Marshall Islands, Republic of the",
         "line": {
          "color": "#636efa",
          "dash": "solid"
         },
         "marker": {
          "symbol": "circle"
         },
         "mode": "lines",
         "name": "Marshall Islands, Republic of the",
         "showlegend": true,
         "type": "scattergl",
         "x": [
          "2015",
          "2016",
          "2017",
          "2018",
          "2019",
          "2020",
          "2021",
          "2022",
          "2023"
         ],
         "xaxis": "x",
         "y": [
          0,
          0,
          0,
          0,
          0,
          0,
          0,
          0,
          0
         ],
         "yaxis": "y"
        },
        {
         "hovertemplate": "Country of Citizenship=Martinique<br>Ano=%{x}<br>Imigrantes=%{y}<extra></extra>",
         "legendgroup": "Martinique",
         "line": {
          "color": "#EF553B",
          "dash": "solid"
         },
         "marker": {
          "symbol": "circle"
         },
         "mode": "lines",
         "name": "Martinique",
         "showlegend": true,
         "type": "scattergl",
         "x": [
          "2015",
          "2016",
          "2017",
          "2018",
          "2019",
          "2020",
          "2021",
          "2022",
          "2023"
         ],
         "xaxis": "x",
         "y": [
          0,
          0,
          0,
          0,
          0,
          0,
          0,
          0,
          0
         ],
         "yaxis": "y"
        },
        {
         "hovertemplate": "Country of Citizenship=Mauritania<br>Ano=%{x}<br>Imigrantes=%{y}<extra></extra>",
         "legendgroup": "Mauritania",
         "line": {
          "color": "#00cc96",
          "dash": "solid"
         },
         "marker": {
          "symbol": "circle"
         },
         "mode": "lines",
         "name": "Mauritania",
         "showlegend": true,
         "type": "scattergl",
         "x": [
          "2015",
          "2016",
          "2017",
          "2018",
          "2019",
          "2020",
          "2021",
          "2022",
          "2023"
         ],
         "xaxis": "x",
         "y": [
          35,
          30,
          60,
          65,
          65,
          55,
          80,
          80,
          145
         ],
         "yaxis": "y"
        },
        {
         "hovertemplate": "Country of Citizenship=Mauritius<br>Ano=%{x}<br>Imigrantes=%{y}<extra></extra>",
         "legendgroup": "Mauritius",
         "line": {
          "color": "#ab63fa",
          "dash": "solid"
         },
         "marker": {
          "symbol": "circle"
         },
         "mode": "lines",
         "name": "Mauritius",
         "showlegend": true,
         "type": "scattergl",
         "x": [
          "2015",
          "2016",
          "2017",
          "2018",
          "2019",
          "2020",
          "2021",
          "2022",
          "2023"
         ],
         "xaxis": "x",
         "y": [
          390,
          520,
          625,
          620,
          645,
          290,
          640,
          810,
          780
         ],
         "yaxis": "y"
        },
        {
         "hovertemplate": "Country of Citizenship=Mexico<br>Ano=%{x}<br>Imigrantes=%{y}<extra></extra>",
         "legendgroup": "Mexico",
         "line": {
          "color": "#FFA15A",
          "dash": "solid"
         },
         "marker": {
          "symbol": "circle"
         },
         "mode": "lines",
         "name": "Mexico",
         "showlegend": true,
         "type": "scattergl",
         "x": [
          "2015",
          "2016",
          "2017",
          "2018",
          "2019",
          "2020",
          "2021",
          "2022",
          "2023"
         ],
         "xaxis": "x",
         "y": [
          4325,
          5040,
          5620,
          5905,
          6415,
          3920,
          10055,
          10670,
          10820
         ],
         "yaxis": "y"
        },
        {
         "hovertemplate": "Country of Citizenship=Micronesia, Federated States of<br>Ano=%{x}<br>Imigrantes=%{y}<extra></extra>",
         "legendgroup": "Micronesia, Federated States of",
         "line": {
          "color": "#19d3f3",
          "dash": "solid"
         },
         "marker": {
          "symbol": "circle"
         },
         "mode": "lines",
         "name": "Micronesia, Federated States of",
         "showlegend": true,
         "type": "scattergl",
         "x": [
          "2015",
          "2016",
          "2017",
          "2018",
          "2019",
          "2020",
          "2021",
          "2022",
          "2023"
         ],
         "xaxis": "x",
         "y": [
          0,
          0,
          0,
          0,
          0,
          0,
          0,
          0,
          0
         ],
         "yaxis": "y"
        },
        {
         "hovertemplate": "Country of Citizenship=Moldova<br>Ano=%{x}<br>Imigrantes=%{y}<extra></extra>",
         "legendgroup": "Moldova",
         "line": {
          "color": "#FF6692",
          "dash": "solid"
         },
         "marker": {
          "symbol": "circle"
         },
         "mode": "lines",
         "name": "Moldova",
         "showlegend": true,
         "type": "scattergl",
         "x": [
          "2015",
          "2016",
          "2017",
          "2018",
          "2019",
          "2020",
          "2021",
          "2022",
          "2023"
         ],
         "xaxis": "x",
         "y": [
          50,
          45,
          50,
          55,
          45,
          20,
          40,
          55,
          65
         ],
         "yaxis": "y"
        },
        {
         "hovertemplate": "Country of Citizenship=Monaco<br>Ano=%{x}<br>Imigrantes=%{y}<extra></extra>",
         "legendgroup": "Monaco",
         "line": {
          "color": "#B6E880",
          "dash": "solid"
         },
         "marker": {
          "symbol": "circle"
         },
         "mode": "lines",
         "name": "Monaco",
         "showlegend": true,
         "type": "scattergl",
         "x": [
          "2015",
          "2016",
          "2017",
          "2018",
          "2019",
          "2020",
          "2021",
          "2022",
          "2023"
         ],
         "xaxis": "x",
         "y": [
          5,
          0,
          0,
          0,
          0,
          0,
          0,
          0,
          0
         ],
         "yaxis": "y"
        },
        {
         "hovertemplate": "Country of Citizenship=Mongolia, People's Republic of<br>Ano=%{x}<br>Imigrantes=%{y}<extra></extra>",
         "legendgroup": "Mongolia, People's Republic of",
         "line": {
          "color": "#FF97FF",
          "dash": "solid"
         },
         "marker": {
          "symbol": "circle"
         },
         "mode": "lines",
         "name": "Mongolia, People's Republic of",
         "showlegend": true,
         "type": "scattergl",
         "x": [
          "2015",
          "2016",
          "2017",
          "2018",
          "2019",
          "2020",
          "2021",
          "2022",
          "2023"
         ],
         "xaxis": "x",
         "y": [
          120,
          165,
          140,
          145,
          150,
          90,
          200,
          260,
          360
         ],
         "yaxis": "y"
        },
        {
         "hovertemplate": "Country of Citizenship=Montenegro, Republic of<br>Ano=%{x}<br>Imigrantes=%{y}<extra></extra>",
         "legendgroup": "Montenegro, Republic of",
         "line": {
          "color": "#FECB52",
          "dash": "solid"
         },
         "marker": {
          "symbol": "circle"
         },
         "mode": "lines",
         "name": "Montenegro, Republic of",
         "showlegend": true,
         "type": "scattergl",
         "x": [
          "2015",
          "2016",
          "2017",
          "2018",
          "2019",
          "2020",
          "2021",
          "2022",
          "2023"
         ],
         "xaxis": "x",
         "y": [
          5,
          0,
          0,
          0,
          0,
          0,
          50,
          45,
          70
         ],
         "yaxis": "y"
        },
        {
         "hovertemplate": "Country of Citizenship=Morocco<br>Ano=%{x}<br>Imigrantes=%{y}<extra></extra>",
         "legendgroup": "Morocco",
         "line": {
          "color": "#636efa",
          "dash": "solid"
         },
         "marker": {
          "symbol": "circle"
         },
         "mode": "lines",
         "name": "Morocco",
         "showlegend": true,
         "type": "scattergl",
         "x": [
          "2015",
          "2016",
          "2017",
          "2018",
          "2019",
          "2020",
          "2021",
          "2022",
          "2023"
         ],
         "xaxis": "x",
         "y": [
          1510,
          1560,
          1815,
          2200,
          3150,
          2595,
          4415,
          4710,
          6210
         ],
         "yaxis": "y"
        },
        {
         "hovertemplate": "Country of Citizenship=Mozambique<br>Ano=%{x}<br>Imigrantes=%{y}<extra></extra>",
         "legendgroup": "Mozambique",
         "line": {
          "color": "#EF553B",
          "dash": "solid"
         },
         "marker": {
          "symbol": "circle"
         },
         "mode": "lines",
         "name": "Mozambique",
         "showlegend": true,
         "type": "scattergl",
         "x": [
          "2015",
          "2016",
          "2017",
          "2018",
          "2019",
          "2020",
          "2021",
          "2022",
          "2023"
         ],
         "xaxis": "x",
         "y": [
          5,
          0,
          5,
          5,
          10,
          0,
          30,
          30,
          40
         ],
         "yaxis": "y"
        },
        {
         "hovertemplate": "Country of Citizenship=Myanmar (Burma)<br>Ano=%{x}<br>Imigrantes=%{y}<extra></extra>",
         "legendgroup": "Myanmar (Burma)",
         "line": {
          "color": "#00cc96",
          "dash": "solid"
         },
         "marker": {
          "symbol": "circle"
         },
         "mode": "lines",
         "name": "Myanmar (Burma)",
         "showlegend": true,
         "type": "scattergl",
         "x": [
          "2015",
          "2016",
          "2017",
          "2018",
          "2019",
          "2020",
          "2021",
          "2022",
          "2023"
         ],
         "xaxis": "x",
         "y": [
          25,
          25,
          30,
          40,
          120,
          65,
          225,
          430,
          550
         ],
         "yaxis": "y"
        },
        {
         "hovertemplate": "Country of Citizenship=Namibia<br>Ano=%{x}<br>Imigrantes=%{y}<extra></extra>",
         "legendgroup": "Namibia",
         "line": {
          "color": "#ab63fa",
          "dash": "solid"
         },
         "marker": {
          "symbol": "circle"
         },
         "mode": "lines",
         "name": "Namibia",
         "showlegend": true,
         "type": "scattergl",
         "x": [
          "2015",
          "2016",
          "2017",
          "2018",
          "2019",
          "2020",
          "2021",
          "2022",
          "2023"
         ],
         "xaxis": "x",
         "y": [
          10,
          10,
          10,
          10,
          5,
          10,
          0,
          10,
          15
         ],
         "yaxis": "y"
        },
        {
         "hovertemplate": "Country of Citizenship=Nepal<br>Ano=%{x}<br>Imigrantes=%{y}<extra></extra>",
         "legendgroup": "Nepal",
         "line": {
          "color": "#FFA15A",
          "dash": "solid"
         },
         "marker": {
          "symbol": "circle"
         },
         "mode": "lines",
         "name": "Nepal",
         "showlegend": true,
         "type": "scattergl",
         "x": [
          "2015",
          "2016",
          "2017",
          "2018",
          "2019",
          "2020",
          "2021",
          "2022",
          "2023"
         ],
         "xaxis": "x",
         "y": [
          150,
          220,
          340,
          540,
          770,
          560,
          1825,
          6920,
          12295
         ],
         "yaxis": "y"
        },
        {
         "hovertemplate": "Country of Citizenship=Netherlands Antilles, The<br>Ano=%{x}<br>Imigrantes=%{y}<extra></extra>",
         "legendgroup": "Netherlands Antilles, The",
         "line": {
          "color": "#19d3f3",
          "dash": "solid"
         },
         "marker": {
          "symbol": "circle"
         },
         "mode": "lines",
         "name": "Netherlands Antilles, The",
         "showlegend": true,
         "type": "scattergl",
         "x": [
          "2015",
          "2016",
          "2017",
          "2018",
          "2019",
          "2020",
          "2021",
          "2022",
          "2023"
         ],
         "xaxis": "x",
         "y": [
          0,
          0,
          0,
          0,
          0,
          0,
          0,
          0,
          0
         ],
         "yaxis": "y"
        },
        {
         "hovertemplate": "Country of Citizenship=Netherlands, The<br>Ano=%{x}<br>Imigrantes=%{y}<extra></extra>",
         "legendgroup": "Netherlands, The",
         "line": {
          "color": "#FF6692",
          "dash": "solid"
         },
         "marker": {
          "symbol": "circle"
         },
         "mode": "lines",
         "name": "Netherlands, The",
         "showlegend": true,
         "type": "scattergl",
         "x": [
          "2015",
          "2016",
          "2017",
          "2018",
          "2019",
          "2020",
          "2021",
          "2022",
          "2023"
         ],
         "xaxis": "x",
         "y": [
          280,
          335,
          355,
          385,
          340,
          160,
          525,
          380,
          325
         ],
         "yaxis": "y"
        },
        {
         "hovertemplate": "Country of Citizenship=New Caledonia<br>Ano=%{x}<br>Imigrantes=%{y}<extra></extra>",
         "legendgroup": "New Caledonia",
         "line": {
          "color": "#B6E880",
          "dash": "solid"
         },
         "marker": {
          "symbol": "circle"
         },
         "mode": "lines",
         "name": "New Caledonia",
         "showlegend": true,
         "type": "scattergl",
         "x": [
          "2015",
          "2016",
          "2017",
          "2018",
          "2019",
          "2020",
          "2021",
          "2022",
          "2023"
         ],
         "xaxis": "x",
         "y": [
          5,
          0,
          5,
          0,
          0,
          0,
          0,
          0,
          0
         ],
         "yaxis": "y"
        },
        {
         "hovertemplate": "Country of Citizenship=New Zealand<br>Ano=%{x}<br>Imigrantes=%{y}<extra></extra>",
         "legendgroup": "New Zealand",
         "line": {
          "color": "#FF97FF",
          "dash": "solid"
         },
         "marker": {
          "symbol": "circle"
         },
         "mode": "lines",
         "name": "New Zealand",
         "showlegend": true,
         "type": "scattergl",
         "x": [
          "2015",
          "2016",
          "2017",
          "2018",
          "2019",
          "2020",
          "2021",
          "2022",
          "2023"
         ],
         "xaxis": "x",
         "y": [
          110,
          135,
          110,
          115,
          135,
          75,
          85,
          110,
          105
         ],
         "yaxis": "y"
        },
        {
         "hovertemplate": "Country of Citizenship=Nicaragua<br>Ano=%{x}<br>Imigrantes=%{y}<extra></extra>",
         "legendgroup": "Nicaragua",
         "line": {
          "color": "#FECB52",
          "dash": "solid"
         },
         "marker": {
          "symbol": "circle"
         },
         "mode": "lines",
         "name": "Nicaragua",
         "showlegend": true,
         "type": "scattergl",
         "x": [
          "2015",
          "2016",
          "2017",
          "2018",
          "2019",
          "2020",
          "2021",
          "2022",
          "2023"
         ],
         "xaxis": "x",
         "y": [
          10,
          10,
          25,
          25,
          60,
          10,
          85,
          115,
          115
         ],
         "yaxis": "y"
        },
        {
         "hovertemplate": "Country of Citizenship=Niger, Republic of the<br>Ano=%{x}<br>Imigrantes=%{y}<extra></extra>",
         "legendgroup": "Niger, Republic of the",
         "line": {
          "color": "#636efa",
          "dash": "solid"
         },
         "marker": {
          "symbol": "circle"
         },
         "mode": "lines",
         "name": "Niger, Republic of the",
         "showlegend": true,
         "type": "scattergl",
         "x": [
          "2015",
          "2016",
          "2017",
          "2018",
          "2019",
          "2020",
          "2021",
          "2022",
          "2023"
         ],
         "xaxis": "x",
         "y": [
          110,
          120,
          85,
          115,
          140,
          115,
          155,
          165,
          255
         ],
         "yaxis": "y"
        },
        {
         "hovertemplate": "Country of Citizenship=Nigeria<br>Ano=%{x}<br>Imigrantes=%{y}<extra></extra>",
         "legendgroup": "Nigeria",
         "line": {
          "color": "#EF553B",
          "dash": "solid"
         },
         "marker": {
          "symbol": "circle"
         },
         "mode": "lines",
         "name": "Nigeria",
         "showlegend": true,
         "type": "scattergl",
         "x": [
          "2015",
          "2016",
          "2017",
          "2018",
          "2019",
          "2020",
          "2021",
          "2022",
          "2023"
         ],
         "xaxis": "x",
         "y": [
          6610,
          6545,
          6300,
          6865,
          7820,
          6275,
          10105,
          16985,
          33600
         ],
         "yaxis": "y"
        },
        {
         "hovertemplate": "Country of Citizenship=Norway<br>Ano=%{x}<br>Imigrantes=%{y}<extra></extra>",
         "legendgroup": "Norway",
         "line": {
          "color": "#00cc96",
          "dash": "solid"
         },
         "marker": {
          "symbol": "circle"
         },
         "mode": "lines",
         "name": "Norway",
         "showlegend": true,
         "type": "scattergl",
         "x": [
          "2015",
          "2016",
          "2017",
          "2018",
          "2019",
          "2020",
          "2021",
          "2022",
          "2023"
         ],
         "xaxis": "x",
         "y": [
          165,
          155,
          170,
          140,
          140,
          40,
          120,
          100,
          90
         ],
         "yaxis": "y"
        },
        {
         "hovertemplate": "Country of Citizenship=Oman<br>Ano=%{x}<br>Imigrantes=%{y}<extra></extra>",
         "legendgroup": "Oman",
         "line": {
          "color": "#ab63fa",
          "dash": "solid"
         },
         "marker": {
          "symbol": "circle"
         },
         "mode": "lines",
         "name": "Oman",
         "showlegend": true,
         "type": "scattergl",
         "x": [
          "2015",
          "2016",
          "2017",
          "2018",
          "2019",
          "2020",
          "2021",
          "2022",
          "2023"
         ],
         "xaxis": "x",
         "y": [
          85,
          75,
          65,
          80,
          90,
          40,
          135,
          90,
          55
         ],
         "yaxis": "y"
        },
        {
         "hovertemplate": "Country of Citizenship=Other<br>Ano=%{x}<br>Imigrantes=%{y}<extra></extra>",
         "legendgroup": "Other",
         "line": {
          "color": "#FFA15A",
          "dash": "solid"
         },
         "marker": {
          "symbol": "circle"
         },
         "mode": "lines",
         "name": "Other",
         "showlegend": true,
         "type": "scattergl",
         "x": [
          "2015",
          "2016",
          "2017",
          "2018",
          "2019",
          "2020",
          "2021",
          "2022",
          "2023"
         ],
         "xaxis": "x",
         "y": [
          25,
          30,
          40,
          10,
          0,
          0,
          0,
          0,
          0
         ],
         "yaxis": "y"
        },
        {
         "hovertemplate": "Country of Citizenship=Pakistan<br>Ano=%{x}<br>Imigrantes=%{y}<extra></extra>",
         "legendgroup": "Pakistan",
         "line": {
          "color": "#19d3f3",
          "dash": "solid"
         },
         "marker": {
          "symbol": "circle"
         },
         "mode": "lines",
         "name": "Pakistan",
         "showlegend": true,
         "type": "scattergl",
         "x": [
          "2015",
          "2016",
          "2017",
          "2018",
          "2019",
          "2020",
          "2021",
          "2022",
          "2023"
         ],
         "xaxis": "x",
         "y": [
          2420,
          2715,
          2145,
          2145,
          2240,
          1685,
          3435,
          4050,
          4430
         ],
         "yaxis": "y"
        },
        {
         "hovertemplate": "Country of Citizenship=Palau, Republic of<br>Ano=%{x}<br>Imigrantes=%{y}<extra></extra>",
         "legendgroup": "Palau, Republic of",
         "line": {
          "color": "#FF6692",
          "dash": "solid"
         },
         "marker": {
          "symbol": "circle"
         },
         "mode": "lines",
         "name": "Palau, Republic of",
         "showlegend": true,
         "type": "scattergl",
         "x": [
          "2015",
          "2016",
          "2017",
          "2018",
          "2019",
          "2020",
          "2021",
          "2022",
          "2023"
         ],
         "xaxis": "x",
         "y": [
          0,
          0,
          0,
          0,
          0,
          0,
          0,
          0,
          0
         ],
         "yaxis": "y"
        },
        {
         "hovertemplate": "Country of Citizenship=Palestinian Authority (Gaza/West Bank)<br>Ano=%{x}<br>Imigrantes=%{y}<extra></extra>",
         "legendgroup": "Palestinian Authority (Gaza/West Bank)",
         "line": {
          "color": "#B6E880",
          "dash": "solid"
         },
         "marker": {
          "symbol": "circle"
         },
         "mode": "lines",
         "name": "Palestinian Authority (Gaza/West Bank)",
         "showlegend": true,
         "type": "scattergl",
         "x": [
          "2015",
          "2016",
          "2017",
          "2018",
          "2019",
          "2020",
          "2021",
          "2022",
          "2023"
         ],
         "xaxis": "x",
         "y": [
          85,
          120,
          130,
          150,
          175,
          140,
          210,
          210,
          185
         ],
         "yaxis": "y"
        },
        {
         "hovertemplate": "Country of Citizenship=Panama, Republic of<br>Ano=%{x}<br>Imigrantes=%{y}<extra></extra>",
         "legendgroup": "Panama, Republic of",
         "line": {
          "color": "#FF97FF",
          "dash": "solid"
         },
         "marker": {
          "symbol": "circle"
         },
         "mode": "lines",
         "name": "Panama, Republic of",
         "showlegend": true,
         "type": "scattergl",
         "x": [
          "2015",
          "2016",
          "2017",
          "2018",
          "2019",
          "2020",
          "2021",
          "2022",
          "2023"
         ],
         "xaxis": "x",
         "y": [
          110,
          115,
          150,
          415,
          210,
          165,
          330,
          480,
          350
         ],
         "yaxis": "y"
        },
        {
         "hovertemplate": "Country of Citizenship=Papua New Guinea<br>Ano=%{x}<br>Imigrantes=%{y}<extra></extra>",
         "legendgroup": "Papua New Guinea",
         "line": {
          "color": "#FECB52",
          "dash": "solid"
         },
         "marker": {
          "symbol": "circle"
         },
         "mode": "lines",
         "name": "Papua New Guinea",
         "showlegend": true,
         "type": "scattergl",
         "x": [
          "2015",
          "2016",
          "2017",
          "2018",
          "2019",
          "2020",
          "2021",
          "2022",
          "2023"
         ],
         "xaxis": "x",
         "y": [
          0,
          0,
          0,
          0,
          0,
          0,
          0,
          0,
          0
         ],
         "yaxis": "y"
        },
        {
         "hovertemplate": "Country of Citizenship=Paraguay<br>Ano=%{x}<br>Imigrantes=%{y}<extra></extra>",
         "legendgroup": "Paraguay",
         "line": {
          "color": "#636efa",
          "dash": "solid"
         },
         "marker": {
          "symbol": "circle"
         },
         "mode": "lines",
         "name": "Paraguay",
         "showlegend": true,
         "type": "scattergl",
         "x": [
          "2015",
          "2016",
          "2017",
          "2018",
          "2019",
          "2020",
          "2021",
          "2022",
          "2023"
         ],
         "xaxis": "x",
         "y": [
          5,
          40,
          25,
          20,
          15,
          5,
          10,
          35,
          30
         ],
         "yaxis": "y"
        },
        {
         "hovertemplate": "Country of Citizenship=Peru<br>Ano=%{x}<br>Imigrantes=%{y}<extra></extra>",
         "legendgroup": "Peru",
         "line": {
          "color": "#EF553B",
          "dash": "solid"
         },
         "marker": {
          "symbol": "circle"
         },
         "mode": "lines",
         "name": "Peru",
         "showlegend": true,
         "type": "scattergl",
         "x": [
          "2015",
          "2016",
          "2017",
          "2018",
          "2019",
          "2020",
          "2021",
          "2022",
          "2023"
         ],
         "xaxis": "x",
         "y": [
          295,
          415,
          520,
          585,
          710,
          490,
          1735,
          3320,
          2955
         ],
         "yaxis": "y"
        },
        {
         "hovertemplate": "Country of Citizenship=Philippines<br>Ano=%{x}<br>Imigrantes=%{y}<extra></extra>",
         "legendgroup": "Philippines",
         "line": {
          "color": "#00cc96",
          "dash": "solid"
         },
         "marker": {
          "symbol": "circle"
         },
         "mode": "lines",
         "name": "Philippines",
         "showlegend": true,
         "type": "scattergl",
         "x": [
          "2015",
          "2016",
          "2017",
          "2018",
          "2019",
          "2020",
          "2021",
          "2022",
          "2023"
         ],
         "xaxis": "x",
         "y": [
          1950,
          3035,
          2910,
          4250,
          6480,
          4620,
          14800,
          25770,
          29690
         ],
         "yaxis": "y"
        },
        {
         "hovertemplate": "Country of Citizenship=Poland<br>Ano=%{x}<br>Imigrantes=%{y}<extra></extra>",
         "legendgroup": "Poland",
         "line": {
          "color": "#ab63fa",
          "dash": "solid"
         },
         "marker": {
          "symbol": "circle"
         },
         "mode": "lines",
         "name": "Poland",
         "showlegend": true,
         "type": "scattergl",
         "x": [
          "2015",
          "2016",
          "2017",
          "2018",
          "2019",
          "2020",
          "2021",
          "2022",
          "2023"
         ],
         "xaxis": "x",
         "y": [
          185,
          190,
          175,
          180,
          185,
          95,
          190,
          175,
          150
         ],
         "yaxis": "y"
        },
        {
         "hovertemplate": "Country of Citizenship=Portugal<br>Ano=%{x}<br>Imigrantes=%{y}<extra></extra>",
         "legendgroup": "Portugal",
         "line": {
          "color": "#FFA15A",
          "dash": "solid"
         },
         "marker": {
          "symbol": "circle"
         },
         "mode": "lines",
         "name": "Portugal",
         "showlegend": true,
         "type": "scattergl",
         "x": [
          "2015",
          "2016",
          "2017",
          "2018",
          "2019",
          "2020",
          "2021",
          "2022",
          "2023"
         ],
         "xaxis": "x",
         "y": [
          270,
          270,
          320,
          260,
          225,
          185,
          330,
          285,
          250
         ],
         "yaxis": "y"
        },
        {
         "hovertemplate": "Country of Citizenship=Qatar<br>Ano=%{x}<br>Imigrantes=%{y}<extra></extra>",
         "legendgroup": "Qatar",
         "line": {
          "color": "#19d3f3",
          "dash": "solid"
         },
         "marker": {
          "symbol": "circle"
         },
         "mode": "lines",
         "name": "Qatar",
         "showlegend": true,
         "type": "scattergl",
         "x": [
          "2015",
          "2016",
          "2017",
          "2018",
          "2019",
          "2020",
          "2021",
          "2022",
          "2023"
         ],
         "xaxis": "x",
         "y": [
          15,
          20,
          10,
          10,
          15,
          5,
          15,
          30,
          10
         ],
         "yaxis": "y"
        },
        {
         "hovertemplate": "Country of Citizenship=Reunion<br>Ano=%{x}<br>Imigrantes=%{y}<extra></extra>",
         "legendgroup": "Reunion",
         "line": {
          "color": "#FF6692",
          "dash": "solid"
         },
         "marker": {
          "symbol": "circle"
         },
         "mode": "lines",
         "name": "Reunion",
         "showlegend": true,
         "type": "scattergl",
         "x": [
          "2015",
          "2016",
          "2017",
          "2018",
          "2019",
          "2020",
          "2021",
          "2022",
          "2023"
         ],
         "xaxis": "x",
         "y": [
          0,
          0,
          0,
          0,
          0,
          0,
          0,
          0,
          0
         ],
         "yaxis": "y"
        },
        {
         "hovertemplate": "Country of Citizenship=Romania<br>Ano=%{x}<br>Imigrantes=%{y}<extra></extra>",
         "legendgroup": "Romania",
         "line": {
          "color": "#B6E880",
          "dash": "solid"
         },
         "marker": {
          "symbol": "circle"
         },
         "mode": "lines",
         "name": "Romania",
         "showlegend": true,
         "type": "scattergl",
         "x": [
          "2015",
          "2016",
          "2017",
          "2018",
          "2019",
          "2020",
          "2021",
          "2022",
          "2023"
         ],
         "xaxis": "x",
         "y": [
          125,
          120,
          140,
          155,
          155,
          95,
          125,
          145,
          125
         ],
         "yaxis": "y"
        },
        {
         "hovertemplate": "Country of Citizenship=Russia<br>Ano=%{x}<br>Imigrantes=%{y}<extra></extra>",
         "legendgroup": "Russia",
         "line": {
          "color": "#FF97FF",
          "dash": "solid"
         },
         "marker": {
          "symbol": "circle"
         },
         "mode": "lines",
         "name": "Russia",
         "showlegend": true,
         "type": "scattergl",
         "x": [
          "2015",
          "2016",
          "2017",
          "2018",
          "2019",
          "2020",
          "2021",
          "2022",
          "2023"
         ],
         "xaxis": "x",
         "y": [
          1605,
          1565,
          1520,
          1500,
          1590,
          1080,
          1745,
          1310,
          1860
         ],
         "yaxis": "y"
        },
        {
         "hovertemplate": "Country of Citizenship=Rwanda<br>Ano=%{x}<br>Imigrantes=%{y}<extra></extra>",
         "legendgroup": "Rwanda",
         "line": {
          "color": "#FECB52",
          "dash": "solid"
         },
         "marker": {
          "symbol": "circle"
         },
         "mode": "lines",
         "name": "Rwanda",
         "showlegend": true,
         "type": "scattergl",
         "x": [
          "2015",
          "2016",
          "2017",
          "2018",
          "2019",
          "2020",
          "2021",
          "2022",
          "2023"
         ],
         "xaxis": "x",
         "y": [
          230,
          350,
          460,
          560,
          705,
          455,
          660,
          960,
          1840
         ],
         "yaxis": "y"
        },
        {
         "hovertemplate": "Country of Citizenship=Saint-Martin<br>Ano=%{x}<br>Imigrantes=%{y}<extra></extra>",
         "legendgroup": "Saint-Martin",
         "line": {
          "color": "#636efa",
          "dash": "solid"
         },
         "marker": {
          "symbol": "circle"
         },
         "mode": "lines",
         "name": "Saint-Martin",
         "showlegend": true,
         "type": "scattergl",
         "x": [
          "2015",
          "2016",
          "2017",
          "2018",
          "2019",
          "2020",
          "2021",
          "2022",
          "2023"
         ],
         "xaxis": "x",
         "y": [
          0,
          0,
          0,
          0,
          0,
          0,
          0,
          0,
          0
         ],
         "yaxis": "y"
        },
        {
         "hovertemplate": "Country of Citizenship=Samoa, Independent State of<br>Ano=%{x}<br>Imigrantes=%{y}<extra></extra>",
         "legendgroup": "Samoa, Independent State of",
         "line": {
          "color": "#EF553B",
          "dash": "solid"
         },
         "marker": {
          "symbol": "circle"
         },
         "mode": "lines",
         "name": "Samoa, Independent State of",
         "showlegend": true,
         "type": "scattergl",
         "x": [
          "2015",
          "2016",
          "2017",
          "2018",
          "2019",
          "2020",
          "2021",
          "2022",
          "2023"
         ],
         "xaxis": "x",
         "y": [
          0,
          0,
          0,
          0,
          0,
          0,
          0,
          0,
          0
         ],
         "yaxis": "y"
        },
        {
         "hovertemplate": "Country of Citizenship=San Marino<br>Ano=%{x}<br>Imigrantes=%{y}<extra></extra>",
         "legendgroup": "San Marino",
         "line": {
          "color": "#00cc96",
          "dash": "solid"
         },
         "marker": {
          "symbol": "circle"
         },
         "mode": "lines",
         "name": "San Marino",
         "showlegend": true,
         "type": "scattergl",
         "x": [
          "2015",
          "2016",
          "2017",
          "2018",
          "2019",
          "2020",
          "2021",
          "2022",
          "2023"
         ],
         "xaxis": "x",
         "y": [
          0,
          0,
          0,
          0,
          0,
          0,
          0,
          0,
          0
         ],
         "yaxis": "y"
        },
        {
         "hovertemplate": "Country of Citizenship=Sao Tome and Principe<br>Ano=%{x}<br>Imigrantes=%{y}<extra></extra>",
         "legendgroup": "Sao Tome and Principe",
         "line": {
          "color": "#ab63fa",
          "dash": "solid"
         },
         "marker": {
          "symbol": "circle"
         },
         "mode": "lines",
         "name": "Sao Tome and Principe",
         "showlegend": true,
         "type": "scattergl",
         "x": [
          "2015",
          "2016",
          "2017",
          "2018",
          "2019",
          "2020",
          "2021",
          "2022",
          "2023"
         ],
         "xaxis": "x",
         "y": [
          0,
          0,
          0,
          0,
          0,
          0,
          0,
          0,
          0
         ],
         "yaxis": "y"
        },
        {
         "hovertemplate": "Country of Citizenship=Saudi Arabia<br>Ano=%{x}<br>Imigrantes=%{y}<extra></extra>",
         "legendgroup": "Saudi Arabia",
         "line": {
          "color": "#FFA15A",
          "dash": "solid"
         },
         "marker": {
          "symbol": "circle"
         },
         "mode": "lines",
         "name": "Saudi Arabia",
         "showlegend": true,
         "type": "scattergl",
         "x": [
          "2015",
          "2016",
          "2017",
          "2018",
          "2019",
          "2020",
          "2021",
          "2022",
          "2023"
         ],
         "xaxis": "x",
         "y": [
          8165,
          5815,
          5325,
          2960,
          1265,
          770,
          580,
          495,
          495
         ],
         "yaxis": "y"
        },
        {
         "hovertemplate": "Country of Citizenship=Senegal<br>Ano=%{x}<br>Imigrantes=%{y}<extra></extra>",
         "legendgroup": "Senegal",
         "line": {
          "color": "#19d3f3",
          "dash": "solid"
         },
         "marker": {
          "symbol": "circle"
         },
         "mode": "lines",
         "name": "Senegal",
         "showlegend": true,
         "type": "scattergl",
         "x": [
          "2015",
          "2016",
          "2017",
          "2018",
          "2019",
          "2020",
          "2021",
          "2022",
          "2023"
         ],
         "xaxis": "x",
         "y": [
          775,
          735,
          735,
          830,
          1140,
          880,
          1625,
          2130,
          3565
         ],
         "yaxis": "y"
        },
        {
         "hovertemplate": "Country of Citizenship=Serbia, Republic of<br>Ano=%{x}<br>Imigrantes=%{y}<extra></extra>",
         "legendgroup": "Serbia, Republic of",
         "line": {
          "color": "#FF6692",
          "dash": "solid"
         },
         "marker": {
          "symbol": "circle"
         },
         "mode": "lines",
         "name": "Serbia, Republic of",
         "showlegend": true,
         "type": "scattergl",
         "x": [
          "2015",
          "2016",
          "2017",
          "2018",
          "2019",
          "2020",
          "2021",
          "2022",
          "2023"
         ],
         "xaxis": "x",
         "y": [
          95,
          100,
          120,
          105,
          130,
          125,
          185,
          165,
          165
         ],
         "yaxis": "y"
        },
        {
         "hovertemplate": "Country of Citizenship=Seychelles<br>Ano=%{x}<br>Imigrantes=%{y}<extra></extra>",
         "legendgroup": "Seychelles",
         "line": {
          "color": "#B6E880",
          "dash": "solid"
         },
         "marker": {
          "symbol": "circle"
         },
         "mode": "lines",
         "name": "Seychelles",
         "showlegend": true,
         "type": "scattergl",
         "x": [
          "2015",
          "2016",
          "2017",
          "2018",
          "2019",
          "2020",
          "2021",
          "2022",
          "2023"
         ],
         "xaxis": "x",
         "y": [
          0,
          0,
          0,
          0,
          0,
          0,
          0,
          0,
          0
         ],
         "yaxis": "y"
        },
        {
         "hovertemplate": "Country of Citizenship=Sierra Leone<br>Ano=%{x}<br>Imigrantes=%{y}<extra></extra>",
         "legendgroup": "Sierra Leone",
         "line": {
          "color": "#FF97FF",
          "dash": "solid"
         },
         "marker": {
          "symbol": "circle"
         },
         "mode": "lines",
         "name": "Sierra Leone",
         "showlegend": true,
         "type": "scattergl",
         "x": [
          "2015",
          "2016",
          "2017",
          "2018",
          "2019",
          "2020",
          "2021",
          "2022",
          "2023"
         ],
         "xaxis": "x",
         "y": [
          15,
          20,
          25,
          45,
          30,
          20,
          35,
          55,
          65
         ],
         "yaxis": "y"
        },
        {
         "hovertemplate": "Country of Citizenship=Singapore<br>Ano=%{x}<br>Imigrantes=%{y}<extra></extra>",
         "legendgroup": "Singapore",
         "line": {
          "color": "#FECB52",
          "dash": "solid"
         },
         "marker": {
          "symbol": "circle"
         },
         "mode": "lines",
         "name": "Singapore",
         "showlegend": true,
         "type": "scattergl",
         "x": [
          "2015",
          "2016",
          "2017",
          "2018",
          "2019",
          "2020",
          "2021",
          "2022",
          "2023"
         ],
         "xaxis": "x",
         "y": [
          320,
          290,
          320,
          330,
          360,
          230,
          395,
          445,
          415
         ],
         "yaxis": "y"
        },
        {
         "hovertemplate": "Country of Citizenship=Sint-Maarten<br>Ano=%{x}<br>Imigrantes=%{y}<extra></extra>",
         "legendgroup": "Sint-Maarten",
         "line": {
          "color": "#636efa",
          "dash": "solid"
         },
         "marker": {
          "symbol": "circle"
         },
         "mode": "lines",
         "name": "Sint-Maarten",
         "showlegend": true,
         "type": "scattergl",
         "x": [
          "2015",
          "2016",
          "2017",
          "2018",
          "2019",
          "2020",
          "2021",
          "2022",
          "2023"
         ],
         "xaxis": "x",
         "y": [
          0,
          0,
          0,
          0,
          0,
          0,
          10,
          0,
          0
         ],
         "yaxis": "y"
        },
        {
         "hovertemplate": "Country of Citizenship=Slovak Republic<br>Ano=%{x}<br>Imigrantes=%{y}<extra></extra>",
         "legendgroup": "Slovak Republic",
         "line": {
          "color": "#EF553B",
          "dash": "solid"
         },
         "marker": {
          "symbol": "circle"
         },
         "mode": "lines",
         "name": "Slovak Republic",
         "showlegend": true,
         "type": "scattergl",
         "x": [
          "2015",
          "2016",
          "2017",
          "2018",
          "2019",
          "2020",
          "2021",
          "2022",
          "2023"
         ],
         "xaxis": "x",
         "y": [
          130,
          160,
          140,
          120,
          135,
          70,
          160,
          135,
          90
         ],
         "yaxis": "y"
        },
        {
         "hovertemplate": "Country of Citizenship=Slovenia<br>Ano=%{x}<br>Imigrantes=%{y}<extra></extra>",
         "legendgroup": "Slovenia",
         "line": {
          "color": "#00cc96",
          "dash": "solid"
         },
         "marker": {
          "symbol": "circle"
         },
         "mode": "lines",
         "name": "Slovenia",
         "showlegend": true,
         "type": "scattergl",
         "x": [
          "2015",
          "2016",
          "2017",
          "2018",
          "2019",
          "2020",
          "2021",
          "2022",
          "2023"
         ],
         "xaxis": "x",
         "y": [
          20,
          10,
          15,
          20,
          10,
          10,
          20,
          10,
          5
         ],
         "yaxis": "y"
        },
        {
         "hovertemplate": "Country of Citizenship=Solomon Islands<br>Ano=%{x}<br>Imigrantes=%{y}<extra></extra>",
         "legendgroup": "Solomon Islands",
         "line": {
          "color": "#ab63fa",
          "dash": "solid"
         },
         "marker": {
          "symbol": "circle"
         },
         "mode": "lines",
         "name": "Solomon Islands",
         "showlegend": true,
         "type": "scattergl",
         "x": [
          "2015",
          "2016",
          "2017",
          "2018",
          "2019",
          "2020",
          "2021",
          "2022",
          "2023"
         ],
         "xaxis": "x",
         "y": [
          0,
          5,
          0,
          5,
          0,
          0,
          0,
          0,
          0
         ],
         "yaxis": "y"
        },
        {
         "hovertemplate": "Country of Citizenship=Somalia, Democratic Republic of<br>Ano=%{x}<br>Imigrantes=%{y}<extra></extra>",
         "legendgroup": "Somalia, Democratic Republic of",
         "line": {
          "color": "#FFA15A",
          "dash": "solid"
         },
         "marker": {
          "symbol": "circle"
         },
         "mode": "lines",
         "name": "Somalia, Democratic Republic of",
         "showlegend": true,
         "type": "scattergl",
         "x": [
          "2015",
          "2016",
          "2017",
          "2018",
          "2019",
          "2020",
          "2021",
          "2022",
          "2023"
         ],
         "xaxis": "x",
         "y": [
          20,
          80,
          85,
          70,
          60,
          40,
          20,
          10,
          0
         ],
         "yaxis": "y"
        },
        {
         "hovertemplate": "Country of Citizenship=South Africa, Republic of<br>Ano=%{x}<br>Imigrantes=%{y}<extra></extra>",
         "legendgroup": "South Africa, Republic of",
         "line": {
          "color": "#19d3f3",
          "dash": "solid"
         },
         "marker": {
          "symbol": "circle"
         },
         "mode": "lines",
         "name": "South Africa, Republic of",
         "showlegend": true,
         "type": "scattergl",
         "x": [
          "2015",
          "2016",
          "2017",
          "2018",
          "2019",
          "2020",
          "2021",
          "2022",
          "2023"
         ],
         "xaxis": "x",
         "y": [
          300,
          345,
          375,
          370,
          500,
          415,
          835,
          905,
          870
         ],
         "yaxis": "y"
        },
        {
         "hovertemplate": "Country of Citizenship=South Sudan, Republic of<br>Ano=%{x}<br>Imigrantes=%{y}<extra></extra>",
         "legendgroup": "South Sudan, Republic of",
         "line": {
          "color": "#FF6692",
          "dash": "solid"
         },
         "marker": {
          "symbol": "circle"
         },
         "mode": "lines",
         "name": "South Sudan, Republic of",
         "showlegend": true,
         "type": "scattergl",
         "x": [
          "2015",
          "2016",
          "2017",
          "2018",
          "2019",
          "2020",
          "2021",
          "2022",
          "2023"
         ],
         "xaxis": "x",
         "y": [
          0,
          5,
          0,
          0,
          0,
          5,
          5,
          5,
          15
         ],
         "yaxis": "y"
        },
        {
         "hovertemplate": "Country of Citizenship=Spain<br>Ano=%{x}<br>Imigrantes=%{y}<extra></extra>",
         "legendgroup": "Spain",
         "line": {
          "color": "#B6E880",
          "dash": "solid"
         },
         "marker": {
          "symbol": "circle"
         },
         "mode": "lines",
         "name": "Spain",
         "showlegend": true,
         "type": "scattergl",
         "x": [
          "2015",
          "2016",
          "2017",
          "2018",
          "2019",
          "2020",
          "2021",
          "2022",
          "2023"
         ],
         "xaxis": "x",
         "y": [
          1110,
          1435,
          1615,
          1810,
          1925,
          605,
          2670,
          2770,
          2220
         ],
         "yaxis": "y"
        },
        {
         "hovertemplate": "Country of Citizenship=Sri Lanka<br>Ano=%{x}<br>Imigrantes=%{y}<extra></extra>",
         "legendgroup": "Sri Lanka",
         "line": {
          "color": "#FF97FF",
          "dash": "solid"
         },
         "marker": {
          "symbol": "circle"
         },
         "mode": "lines",
         "name": "Sri Lanka",
         "showlegend": true,
         "type": "scattergl",
         "x": [
          "2015",
          "2016",
          "2017",
          "2018",
          "2019",
          "2020",
          "2021",
          "2022",
          "2023"
         ],
         "xaxis": "x",
         "y": [
          300,
          420,
          455,
          585,
          985,
          835,
          1915,
          3660,
          4525
         ],
         "yaxis": "y"
        },
        {
         "hovertemplate": "Country of Citizenship=St. Kitts-Nevis<br>Ano=%{x}<br>Imigrantes=%{y}<extra></extra>",
         "legendgroup": "St. Kitts-Nevis",
         "line": {
          "color": "#FECB52",
          "dash": "solid"
         },
         "marker": {
          "symbol": "circle"
         },
         "mode": "lines",
         "name": "St. Kitts-Nevis",
         "showlegend": true,
         "type": "scattergl",
         "x": [
          "2015",
          "2016",
          "2017",
          "2018",
          "2019",
          "2020",
          "2021",
          "2022",
          "2023"
         ],
         "xaxis": "x",
         "y": [
          35,
          35,
          45,
          50,
          40,
          40,
          45,
          60,
          45
         ],
         "yaxis": "y"
        },
        {
         "hovertemplate": "Country of Citizenship=St. Lucia<br>Ano=%{x}<br>Imigrantes=%{y}<extra></extra>",
         "legendgroup": "St. Lucia",
         "line": {
          "color": "#636efa",
          "dash": "solid"
         },
         "marker": {
          "symbol": "circle"
         },
         "mode": "lines",
         "name": "St. Lucia",
         "showlegend": true,
         "type": "scattergl",
         "x": [
          "2015",
          "2016",
          "2017",
          "2018",
          "2019",
          "2020",
          "2021",
          "2022",
          "2023"
         ],
         "xaxis": "x",
         "y": [
          90,
          90,
          90,
          105,
          75,
          60,
          70,
          75,
          85
         ],
         "yaxis": "y"
        },
        {
         "hovertemplate": "Country of Citizenship=St. Vincent and the Grenadines<br>Ano=%{x}<br>Imigrantes=%{y}<extra></extra>",
         "legendgroup": "St. Vincent and the Grenadines",
         "line": {
          "color": "#EF553B",
          "dash": "solid"
         },
         "marker": {
          "symbol": "circle"
         },
         "mode": "lines",
         "name": "St. Vincent and the Grenadines",
         "showlegend": true,
         "type": "scattergl",
         "x": [
          "2015",
          "2016",
          "2017",
          "2018",
          "2019",
          "2020",
          "2021",
          "2022",
          "2023"
         ],
         "xaxis": "x",
         "y": [
          30,
          40,
          55,
          20,
          25,
          25,
          30,
          40,
          25
         ],
         "yaxis": "y"
        },
        {
         "hovertemplate": "Country of Citizenship=Stateless<br>Ano=%{x}<br>Imigrantes=%{y}<extra></extra>",
         "legendgroup": "Stateless",
         "line": {
          "color": "#00cc96",
          "dash": "solid"
         },
         "marker": {
          "symbol": "circle"
         },
         "mode": "lines",
         "name": "Stateless",
         "showlegend": true,
         "type": "scattergl",
         "x": [
          "2015",
          "2016",
          "2017",
          "2018",
          "2019",
          "2020",
          "2021",
          "2022",
          "2023"
         ],
         "xaxis": "x",
         "y": [
          75,
          80,
          110,
          110,
          120,
          90,
          110,
          125,
          145
         ],
         "yaxis": "y"
        },
        {
         "hovertemplate": "Country of Citizenship=Sudan, Democratic Republic of<br>Ano=%{x}<br>Imigrantes=%{y}<extra></extra>",
         "legendgroup": "Sudan, Democratic Republic of",
         "line": {
          "color": "#ab63fa",
          "dash": "solid"
         },
         "marker": {
          "symbol": "circle"
         },
         "mode": "lines",
         "name": "Sudan, Democratic Republic of",
         "showlegend": true,
         "type": "scattergl",
         "x": [
          "2015",
          "2016",
          "2017",
          "2018",
          "2019",
          "2020",
          "2021",
          "2022",
          "2023"
         ],
         "xaxis": "x",
         "y": [
          75,
          95,
          150,
          150,
          190,
          170,
          190,
          175,
          180
         ],
         "yaxis": "y"
        },
        {
         "hovertemplate": "Country of Citizenship=Surinam<br>Ano=%{x}<br>Imigrantes=%{y}<extra></extra>",
         "legendgroup": "Surinam",
         "line": {
          "color": "#FFA15A",
          "dash": "solid"
         },
         "marker": {
          "symbol": "circle"
         },
         "mode": "lines",
         "name": "Surinam",
         "showlegend": true,
         "type": "scattergl",
         "x": [
          "2015",
          "2016",
          "2017",
          "2018",
          "2019",
          "2020",
          "2021",
          "2022",
          "2023"
         ],
         "xaxis": "x",
         "y": [
          10,
          10,
          15,
          0,
          10,
          5,
          0,
          15,
          10
         ],
         "yaxis": "y"
        },
        {
         "hovertemplate": "Country of Citizenship=Swaziland<br>Ano=%{x}<br>Imigrantes=%{y}<extra></extra>",
         "legendgroup": "Swaziland",
         "line": {
          "color": "#19d3f3",
          "dash": "solid"
         },
         "marker": {
          "symbol": "circle"
         },
         "mode": "lines",
         "name": "Swaziland",
         "showlegend": true,
         "type": "scattergl",
         "x": [
          "2015",
          "2016",
          "2017",
          "2018",
          "2019",
          "2020",
          "2021",
          "2022",
          "2023"
         ],
         "xaxis": "x",
         "y": [
          0,
          5,
          5,
          0,
          0,
          0,
          15,
          5,
          0
         ],
         "yaxis": "y"
        },
        {
         "hovertemplate": "Country of Citizenship=Sweden<br>Ano=%{x}<br>Imigrantes=%{y}<extra></extra>",
         "legendgroup": "Sweden",
         "line": {
          "color": "#FF6692",
          "dash": "solid"
         },
         "marker": {
          "symbol": "circle"
         },
         "mode": "lines",
         "name": "Sweden",
         "showlegend": true,
         "type": "scattergl",
         "x": [
          "2015",
          "2016",
          "2017",
          "2018",
          "2019",
          "2020",
          "2021",
          "2022",
          "2023"
         ],
         "xaxis": "x",
         "y": [
          205,
          205,
          225,
          210,
          185,
          115,
          320,
          185,
          120
         ],
         "yaxis": "y"
        },
        {
         "hovertemplate": "Country of Citizenship=Switzerland<br>Ano=%{x}<br>Imigrantes=%{y}<extra></extra>",
         "legendgroup": "Switzerland",
         "line": {
          "color": "#B6E880",
          "dash": "solid"
         },
         "marker": {
          "symbol": "circle"
         },
         "mode": "lines",
         "name": "Switzerland",
         "showlegend": true,
         "type": "scattergl",
         "x": [
          "2015",
          "2016",
          "2017",
          "2018",
          "2019",
          "2020",
          "2021",
          "2022",
          "2023"
         ],
         "xaxis": "x",
         "y": [
          460,
          450,
          545,
          505,
          440,
          215,
          695,
          535,
          405
         ],
         "yaxis": "y"
        },
        {
         "hovertemplate": "Country of Citizenship=Syria<br>Ano=%{x}<br>Imigrantes=%{y}<extra></extra>",
         "legendgroup": "Syria",
         "line": {
          "color": "#FF97FF",
          "dash": "solid"
         },
         "marker": {
          "symbol": "circle"
         },
         "mode": "lines",
         "name": "Syria",
         "showlegend": true,
         "type": "scattergl",
         "x": [
          "2015",
          "2016",
          "2017",
          "2018",
          "2019",
          "2020",
          "2021",
          "2022",
          "2023"
         ],
         "xaxis": "x",
         "y": [
          220,
          190,
          245,
          270,
          280,
          200,
          210,
          250,
          295
         ],
         "yaxis": "y"
        },
        {
         "hovertemplate": "Country of Citizenship=Taiwan<br>Ano=%{x}<br>Imigrantes=%{y}<extra></extra>",
         "legendgroup": "Taiwan",
         "line": {
          "color": "#FECB52",
          "dash": "solid"
         },
         "marker": {
          "symbol": "circle"
         },
         "mode": "lines",
         "name": "Taiwan",
         "showlegend": true,
         "type": "scattergl",
         "x": [
          "2015",
          "2016",
          "2017",
          "2018",
          "2019",
          "2020",
          "2021",
          "2022",
          "2023"
         ],
         "xaxis": "x",
         "y": [
          2410,
          2875,
          3145,
          3475,
          3670,
          2325,
          2350,
          2760,
          3285
         ],
         "yaxis": "y"
        },
        {
         "hovertemplate": "Country of Citizenship=Tajikistan<br>Ano=%{x}<br>Imigrantes=%{y}<extra></extra>",
         "legendgroup": "Tajikistan",
         "line": {
          "color": "#636efa",
          "dash": "solid"
         },
         "marker": {
          "symbol": "circle"
         },
         "mode": "lines",
         "name": "Tajikistan",
         "showlegend": true,
         "type": "scattergl",
         "x": [
          "2015",
          "2016",
          "2017",
          "2018",
          "2019",
          "2020",
          "2021",
          "2022",
          "2023"
         ],
         "xaxis": "x",
         "y": [
          0,
          10,
          15,
          10,
          10,
          10,
          20,
          35,
          70
         ],
         "yaxis": "y"
        },
        {
         "hovertemplate": "Country of Citizenship=Tanzania, United Republic of<br>Ano=%{x}<br>Imigrantes=%{y}<extra></extra>",
         "legendgroup": "Tanzania, United Republic of",
         "line": {
          "color": "#EF553B",
          "dash": "solid"
         },
         "marker": {
          "symbol": "circle"
         },
         "mode": "lines",
         "name": "Tanzania, United Republic of",
         "showlegend": true,
         "type": "scattergl",
         "x": [
          "2015",
          "2016",
          "2017",
          "2018",
          "2019",
          "2020",
          "2021",
          "2022",
          "2023"
         ],
         "xaxis": "x",
         "y": [
          315,
          375,
          390,
          380,
          440,
          335,
          465,
          475,
          555
         ],
         "yaxis": "y"
        },
        {
         "hovertemplate": "Country of Citizenship=Thailand<br>Ano=%{x}<br>Imigrantes=%{y}<extra></extra>",
         "legendgroup": "Thailand",
         "line": {
          "color": "#00cc96",
          "dash": "solid"
         },
         "marker": {
          "symbol": "circle"
         },
         "mode": "lines",
         "name": "Thailand",
         "showlegend": true,
         "type": "scattergl",
         "x": [
          "2015",
          "2016",
          "2017",
          "2018",
          "2019",
          "2020",
          "2021",
          "2022",
          "2023"
         ],
         "xaxis": "x",
         "y": [
          835,
          860,
          890,
          995,
          990,
          590,
          1330,
          2385,
          2250
         ],
         "yaxis": "y"
        },
        {
         "hovertemplate": "Country of Citizenship=Togo, Republic of<br>Ano=%{x}<br>Imigrantes=%{y}<extra></extra>",
         "legendgroup": "Togo, Republic of",
         "line": {
          "color": "#ab63fa",
          "dash": "solid"
         },
         "marker": {
          "symbol": "circle"
         },
         "mode": "lines",
         "name": "Togo, Republic of",
         "showlegend": true,
         "type": "scattergl",
         "x": [
          "2015",
          "2016",
          "2017",
          "2018",
          "2019",
          "2020",
          "2021",
          "2022",
          "2023"
         ],
         "xaxis": "x",
         "y": [
          295,
          265,
          285,
          295,
          465,
          285,
          350,
          535,
          1250
         ],
         "yaxis": "y"
        },
        {
         "hovertemplate": "Country of Citizenship=Tonga<br>Ano=%{x}<br>Imigrantes=%{y}<extra></extra>",
         "legendgroup": "Tonga",
         "line": {
          "color": "#FFA15A",
          "dash": "solid"
         },
         "marker": {
          "symbol": "circle"
         },
         "mode": "lines",
         "name": "Tonga",
         "showlegend": true,
         "type": "scattergl",
         "x": [
          "2015",
          "2016",
          "2017",
          "2018",
          "2019",
          "2020",
          "2021",
          "2022",
          "2023"
         ],
         "xaxis": "x",
         "y": [
          0,
          0,
          0,
          0,
          0,
          0,
          0,
          0,
          0
         ],
         "yaxis": "y"
        },
        {
         "hovertemplate": "Country of Citizenship=Trinidad and Tobago, Republic of<br>Ano=%{x}<br>Imigrantes=%{y}<extra></extra>",
         "legendgroup": "Trinidad and Tobago, Republic of",
         "line": {
          "color": "#19d3f3",
          "dash": "solid"
         },
         "marker": {
          "symbol": "circle"
         },
         "mode": "lines",
         "name": "Trinidad and Tobago, Republic of",
         "showlegend": true,
         "type": "scattergl",
         "x": [
          "2015",
          "2016",
          "2017",
          "2018",
          "2019",
          "2020",
          "2021",
          "2022",
          "2023"
         ],
         "xaxis": "x",
         "y": [
          220,
          230,
          325,
          395,
          460,
          205,
          445,
          620,
          625
         ],
         "yaxis": "y"
        },
        {
         "hovertemplate": "Country of Citizenship=Tunisia<br>Ano=%{x}<br>Imigrantes=%{y}<extra></extra>",
         "legendgroup": "Tunisia",
         "line": {
          "color": "#FF6692",
          "dash": "solid"
         },
         "marker": {
          "symbol": "circle"
         },
         "mode": "lines",
         "name": "Tunisia",
         "showlegend": true,
         "type": "scattergl",
         "x": [
          "2015",
          "2016",
          "2017",
          "2018",
          "2019",
          "2020",
          "2021",
          "2022",
          "2023"
         ],
         "xaxis": "x",
         "y": [
          1075,
          1200,
          1230,
          1305,
          1530,
          1390,
          1935,
          2590,
          3195
         ],
         "yaxis": "y"
        },
        {
         "hovertemplate": "Country of Citizenship=Turkey<br>Ano=%{x}<br>Imigrantes=%{y}<extra></extra>",
         "legendgroup": "Turkey",
         "line": {
          "color": "#B6E880",
          "dash": "solid"
         },
         "marker": {
          "symbol": "circle"
         },
         "mode": "lines",
         "name": "Turkey",
         "showlegend": true,
         "type": "scattergl",
         "x": [
          "2015",
          "2016",
          "2017",
          "2018",
          "2019",
          "2020",
          "2021",
          "2022",
          "2023"
         ],
         "xaxis": "x",
         "y": [
          1665,
          2335,
          3095,
          3280,
          3405,
          2025,
          4075,
          3350,
          3920
         ],
         "yaxis": "y"
        },
        {
         "hovertemplate": "Country of Citizenship=Turkmenistan<br>Ano=%{x}<br>Imigrantes=%{y}<extra></extra>",
         "legendgroup": "Turkmenistan",
         "line": {
          "color": "#FF97FF",
          "dash": "solid"
         },
         "marker": {
          "symbol": "circle"
         },
         "mode": "lines",
         "name": "Turkmenistan",
         "showlegend": true,
         "type": "scattergl",
         "x": [
          "2015",
          "2016",
          "2017",
          "2018",
          "2019",
          "2020",
          "2021",
          "2022",
          "2023"
         ],
         "xaxis": "x",
         "y": [
          5,
          5,
          5,
          15,
          10,
          10,
          5,
          0,
          20
         ],
         "yaxis": "y"
        },
        {
         "hovertemplate": "Country of Citizenship=Turks and Caicos Islands<br>Ano=%{x}<br>Imigrantes=%{y}<extra></extra>",
         "legendgroup": "Turks and Caicos Islands",
         "line": {
          "color": "#FECB52",
          "dash": "solid"
         },
         "marker": {
          "symbol": "circle"
         },
         "mode": "lines",
         "name": "Turks and Caicos Islands",
         "showlegend": true,
         "type": "scattergl",
         "x": [
          "2015",
          "2016",
          "2017",
          "2018",
          "2019",
          "2020",
          "2021",
          "2022",
          "2023"
         ],
         "xaxis": "x",
         "y": [
          0,
          0,
          0,
          0,
          0,
          0,
          0,
          0,
          0
         ],
         "yaxis": "y"
        },
        {
         "hovertemplate": "Country of Citizenship=Tuvalu<br>Ano=%{x}<br>Imigrantes=%{y}<extra></extra>",
         "legendgroup": "Tuvalu",
         "line": {
          "color": "#636efa",
          "dash": "solid"
         },
         "marker": {
          "symbol": "circle"
         },
         "mode": "lines",
         "name": "Tuvalu",
         "showlegend": true,
         "type": "scattergl",
         "x": [
          "2015",
          "2016",
          "2017",
          "2018",
          "2019",
          "2020",
          "2021",
          "2022",
          "2023"
         ],
         "xaxis": "x",
         "y": [
          0,
          0,
          0,
          0,
          0,
          0,
          0,
          0,
          0
         ],
         "yaxis": "y"
        },
        {
         "hovertemplate": "Country of Citizenship=Uganda<br>Ano=%{x}<br>Imigrantes=%{y}<extra></extra>",
         "legendgroup": "Uganda",
         "line": {
          "color": "#EF553B",
          "dash": "solid"
         },
         "marker": {
          "symbol": "circle"
         },
         "mode": "lines",
         "name": "Uganda",
         "showlegend": true,
         "type": "scattergl",
         "x": [
          "2015",
          "2016",
          "2017",
          "2018",
          "2019",
          "2020",
          "2021",
          "2022",
          "2023"
         ],
         "xaxis": "x",
         "y": [
          170,
          270,
          275,
          390,
          455,
          295,
          385,
          495,
          700
         ],
         "yaxis": "y"
        },
        {
         "hovertemplate": "Country of Citizenship=Ukraine<br>Ano=%{x}<br>Imigrantes=%{y}<extra></extra>",
         "legendgroup": "Ukraine",
         "line": {
          "color": "#00cc96",
          "dash": "solid"
         },
         "marker": {
          "symbol": "circle"
         },
         "mode": "lines",
         "name": "Ukraine",
         "showlegend": true,
         "type": "scattergl",
         "x": [
          "2015",
          "2016",
          "2017",
          "2018",
          "2019",
          "2020",
          "2021",
          "2022",
          "2023"
         ],
         "xaxis": "x",
         "y": [
          1555,
          2050,
          1960,
          1765,
          1585,
          1030,
          1475,
          6965,
          5955
         ],
         "yaxis": "y"
        },
        {
         "hovertemplate": "Country of Citizenship=United Arab Emirates<br>Ano=%{x}<br>Imigrantes=%{y}<extra></extra>",
         "legendgroup": "United Arab Emirates",
         "line": {
          "color": "#ab63fa",
          "dash": "solid"
         },
         "marker": {
          "symbol": "circle"
         },
         "mode": "lines",
         "name": "United Arab Emirates",
         "showlegend": true,
         "type": "scattergl",
         "x": [
          "2015",
          "2016",
          "2017",
          "2018",
          "2019",
          "2020",
          "2021",
          "2022",
          "2023"
         ],
         "xaxis": "x",
         "y": [
          55,
          35,
          30,
          45,
          35,
          25,
          50,
          65,
          190
         ],
         "yaxis": "y"
        },
        {
         "hovertemplate": "Country of Citizenship=United Kingdom and Overseas Territories<br>Ano=%{x}<br>Imigrantes=%{y}<extra></extra>",
         "legendgroup": "United Kingdom and Overseas Territories",
         "line": {
          "color": "#FFA15A",
          "dash": "solid"
         },
         "marker": {
          "symbol": "circle"
         },
         "mode": "lines",
         "name": "United Kingdom and Overseas Territories",
         "showlegend": true,
         "type": "scattergl",
         "x": [
          "2015",
          "2016",
          "2017",
          "2018",
          "2019",
          "2020",
          "2021",
          "2022",
          "2023"
         ],
         "xaxis": "x",
         "y": [
          2060,
          2270,
          2320,
          2055,
          1975,
          1065,
          2500,
          2325,
          2080
         ],
         "yaxis": "y"
        },
        {
         "hovertemplate": "Country of Citizenship=United States Minor Outlying Islands<br>Ano=%{x}<br>Imigrantes=%{y}<extra></extra>",
         "legendgroup": "United States Minor Outlying Islands",
         "line": {
          "color": "#19d3f3",
          "dash": "solid"
         },
         "marker": {
          "symbol": "circle"
         },
         "mode": "lines",
         "name": "United States Minor Outlying Islands",
         "showlegend": true,
         "type": "scattergl",
         "x": [
          "2015",
          "2016",
          "2017",
          "2018",
          "2019",
          "2020",
          "2021",
          "2022",
          "2023"
         ],
         "xaxis": "x",
         "y": [
          0,
          0,
          0,
          0,
          0,
          0,
          0,
          0,
          0
         ],
         "yaxis": "y"
        },
        {
         "hovertemplate": "Country of Citizenship=United States of America<br>Ano=%{x}<br>Imigrantes=%{y}<extra></extra>",
         "legendgroup": "United States of America",
         "line": {
          "color": "#FF6692",
          "dash": "solid"
         },
         "marker": {
          "symbol": "circle"
         },
         "mode": "lines",
         "name": "United States of America",
         "showlegend": true,
         "type": "scattergl",
         "x": [
          "2015",
          "2016",
          "2017",
          "2018",
          "2019",
          "2020",
          "2021",
          "2022",
          "2023"
         ],
         "xaxis": "x",
         "y": [
          5815,
          6405,
          7105,
          6675,
          6820,
          4405,
          8445,
          7180,
          7735
         ],
         "yaxis": "y"
        },
        {
         "hovertemplate": "Country of Citizenship=Uruguay<br>Ano=%{x}<br>Imigrantes=%{y}<extra></extra>",
         "legendgroup": "Uruguay",
         "line": {
          "color": "#B6E880",
          "dash": "solid"
         },
         "marker": {
          "symbol": "circle"
         },
         "mode": "lines",
         "name": "Uruguay",
         "showlegend": true,
         "type": "scattergl",
         "x": [
          "2015",
          "2016",
          "2017",
          "2018",
          "2019",
          "2020",
          "2021",
          "2022",
          "2023"
         ],
         "xaxis": "x",
         "y": [
          10,
          15,
          30,
          35,
          50,
          35,
          50,
          30,
          35
         ],
         "yaxis": "y"
        },
        {
         "hovertemplate": "Country of Citizenship=Uzbekistan<br>Ano=%{x}<br>Imigrantes=%{y}<extra></extra>",
         "legendgroup": "Uzbekistan",
         "line": {
          "color": "#FF97FF",
          "dash": "solid"
         },
         "marker": {
          "symbol": "circle"
         },
         "mode": "lines",
         "name": "Uzbekistan",
         "showlegend": true,
         "type": "scattergl",
         "x": [
          "2015",
          "2016",
          "2017",
          "2018",
          "2019",
          "2020",
          "2021",
          "2022",
          "2023"
         ],
         "xaxis": "x",
         "y": [
          25,
          35,
          25,
          20,
          30,
          25,
          50,
          75,
          175
         ],
         "yaxis": "y"
        },
        {
         "hovertemplate": "Country of Citizenship=Vanuatu<br>Ano=%{x}<br>Imigrantes=%{y}<extra></extra>",
         "legendgroup": "Vanuatu",
         "line": {
          "color": "#FECB52",
          "dash": "solid"
         },
         "marker": {
          "symbol": "circle"
         },
         "mode": "lines",
         "name": "Vanuatu",
         "showlegend": true,
         "type": "scattergl",
         "x": [
          "2015",
          "2016",
          "2017",
          "2018",
          "2019",
          "2020",
          "2021",
          "2022",
          "2023"
         ],
         "xaxis": "x",
         "y": [
          0,
          0,
          0,
          0,
          0,
          0,
          0,
          0,
          0
         ],
         "yaxis": "y"
        },
        {
         "hovertemplate": "Country of Citizenship=Venezuela<br>Ano=%{x}<br>Imigrantes=%{y}<extra></extra>",
         "legendgroup": "Venezuela",
         "line": {
          "color": "#636efa",
          "dash": "solid"
         },
         "marker": {
          "symbol": "circle"
         },
         "mode": "lines",
         "name": "Venezuela",
         "showlegend": true,
         "type": "scattergl",
         "x": [
          "2015",
          "2016",
          "2017",
          "2018",
          "2019",
          "2020",
          "2021",
          "2022",
          "2023"
         ],
         "xaxis": "x",
         "y": [
          1695,
          1545,
          1300,
          865,
          660,
          605,
          570,
          660,
          590
         ],
         "yaxis": "y"
        },
        {
         "hovertemplate": "Country of Citizenship=Vietnam<br>Ano=%{x}<br>Imigrantes=%{y}<extra></extra>",
         "legendgroup": "Vietnam",
         "line": {
          "color": "#EF553B",
          "dash": "solid"
         },
         "marker": {
          "symbol": "circle"
         },
         "mode": "lines",
         "name": "Vietnam",
         "showlegend": true,
         "type": "scattergl",
         "x": [
          "2015",
          "2016",
          "2017",
          "2018",
          "2019",
          "2020",
          "2021",
          "2022",
          "2023"
         ],
         "xaxis": "x",
         "y": [
          2980,
          5495,
          10130,
          12700,
          12130,
          9990,
          9670,
          10365,
          10280
         ],
         "yaxis": "y"
        },
        {
         "hovertemplate": "Country of Citizenship=Virgin Islands, British<br>Ano=%{x}<br>Imigrantes=%{y}<extra></extra>",
         "legendgroup": "Virgin Islands, British",
         "line": {
          "color": "#00cc96",
          "dash": "solid"
         },
         "marker": {
          "symbol": "circle"
         },
         "mode": "lines",
         "name": "Virgin Islands, British",
         "showlegend": true,
         "type": "scattergl",
         "x": [
          "2015",
          "2016",
          "2017",
          "2018",
          "2019",
          "2020",
          "2021",
          "2022",
          "2023"
         ],
         "xaxis": "x",
         "y": [
          0,
          0,
          0,
          0,
          0,
          0,
          0,
          0,
          0
         ],
         "yaxis": "y"
        },
        {
         "hovertemplate": "Country of Citizenship=Western Sahara<br>Ano=%{x}<br>Imigrantes=%{y}<extra></extra>",
         "legendgroup": "Western Sahara",
         "line": {
          "color": "#ab63fa",
          "dash": "solid"
         },
         "marker": {
          "symbol": "circle"
         },
         "mode": "lines",
         "name": "Western Sahara",
         "showlegend": true,
         "type": "scattergl",
         "x": [
          "2015",
          "2016",
          "2017",
          "2018",
          "2019",
          "2020",
          "2021",
          "2022",
          "2023"
         ],
         "xaxis": "x",
         "y": [
          0,
          0,
          0,
          0,
          0,
          0,
          0,
          0,
          0
         ],
         "yaxis": "y"
        },
        {
         "hovertemplate": "Country of Citizenship=Yemen<br>Ano=%{x}<br>Imigrantes=%{y}<extra></extra>",
         "legendgroup": "Yemen",
         "line": {
          "color": "#FFA15A",
          "dash": "solid"
         },
         "marker": {
          "symbol": "circle"
         },
         "mode": "lines",
         "name": "Yemen",
         "showlegend": true,
         "type": "scattergl",
         "x": [
          "2015",
          "2016",
          "2017",
          "2018",
          "2019",
          "2020",
          "2021",
          "2022",
          "2023"
         ],
         "xaxis": "x",
         "y": [
          175,
          210,
          265,
          275,
          275,
          260,
          210,
          170,
          155
         ],
         "yaxis": "y"
        },
        {
         "hovertemplate": "Country of Citizenship=Zambia<br>Ano=%{x}<br>Imigrantes=%{y}<extra></extra>",
         "legendgroup": "Zambia",
         "line": {
          "color": "#19d3f3",
          "dash": "solid"
         },
         "marker": {
          "symbol": "circle"
         },
         "mode": "lines",
         "name": "Zambia",
         "showlegend": true,
         "type": "scattergl",
         "x": [
          "2015",
          "2016",
          "2017",
          "2018",
          "2019",
          "2020",
          "2021",
          "2022",
          "2023"
         ],
         "xaxis": "x",
         "y": [
          120,
          125,
          120,
          125,
          135,
          105,
          130,
          170,
          195
         ],
         "yaxis": "y"
        },
        {
         "hovertemplate": "Country of Citizenship=Zimbabwe<br>Ano=%{x}<br>Imigrantes=%{y}<extra></extra>",
         "legendgroup": "Zimbabwe",
         "line": {
          "color": "#FF6692",
          "dash": "solid"
         },
         "marker": {
          "symbol": "circle"
         },
         "mode": "lines",
         "name": "Zimbabwe",
         "showlegend": true,
         "type": "scattergl",
         "x": [
          "2015",
          "2016",
          "2017",
          "2018",
          "2019",
          "2020",
          "2021",
          "2022",
          "2023"
         ],
         "xaxis": "x",
         "y": [
          335,
          500,
          445,
          440,
          375,
          345,
          525,
          700,
          730
         ],
         "yaxis": "y"
        }
       ],
       "layout": {
        "legend": {
         "title": {
          "text": "Country of Citizenship"
         },
         "tracegroupgap": 0
        },
        "margin": {
         "t": 60
        },
        "template": {
         "data": {
          "bar": [
           {
            "error_x": {
             "color": "#2a3f5f"
            },
            "error_y": {
             "color": "#2a3f5f"
            },
            "marker": {
             "line": {
              "color": "#E5ECF6",
              "width": 0.5
             },
             "pattern": {
              "fillmode": "overlay",
              "size": 10,
              "solidity": 0.2
             }
            },
            "type": "bar"
           }
          ],
          "barpolar": [
           {
            "marker": {
             "line": {
              "color": "#E5ECF6",
              "width": 0.5
             },
             "pattern": {
              "fillmode": "overlay",
              "size": 10,
              "solidity": 0.2
             }
            },
            "type": "barpolar"
           }
          ],
          "carpet": [
           {
            "aaxis": {
             "endlinecolor": "#2a3f5f",
             "gridcolor": "white",
             "linecolor": "white",
             "minorgridcolor": "white",
             "startlinecolor": "#2a3f5f"
            },
            "baxis": {
             "endlinecolor": "#2a3f5f",
             "gridcolor": "white",
             "linecolor": "white",
             "minorgridcolor": "white",
             "startlinecolor": "#2a3f5f"
            },
            "type": "carpet"
           }
          ],
          "choropleth": [
           {
            "colorbar": {
             "outlinewidth": 0,
             "ticks": ""
            },
            "type": "choropleth"
           }
          ],
          "contour": [
           {
            "colorbar": {
             "outlinewidth": 0,
             "ticks": ""
            },
            "colorscale": [
             [
              0,
              "#0d0887"
             ],
             [
              0.1111111111111111,
              "#46039f"
             ],
             [
              0.2222222222222222,
              "#7201a8"
             ],
             [
              0.3333333333333333,
              "#9c179e"
             ],
             [
              0.4444444444444444,
              "#bd3786"
             ],
             [
              0.5555555555555556,
              "#d8576b"
             ],
             [
              0.6666666666666666,
              "#ed7953"
             ],
             [
              0.7777777777777778,
              "#fb9f3a"
             ],
             [
              0.8888888888888888,
              "#fdca26"
             ],
             [
              1,
              "#f0f921"
             ]
            ],
            "type": "contour"
           }
          ],
          "contourcarpet": [
           {
            "colorbar": {
             "outlinewidth": 0,
             "ticks": ""
            },
            "type": "contourcarpet"
           }
          ],
          "heatmap": [
           {
            "colorbar": {
             "outlinewidth": 0,
             "ticks": ""
            },
            "colorscale": [
             [
              0,
              "#0d0887"
             ],
             [
              0.1111111111111111,
              "#46039f"
             ],
             [
              0.2222222222222222,
              "#7201a8"
             ],
             [
              0.3333333333333333,
              "#9c179e"
             ],
             [
              0.4444444444444444,
              "#bd3786"
             ],
             [
              0.5555555555555556,
              "#d8576b"
             ],
             [
              0.6666666666666666,
              "#ed7953"
             ],
             [
              0.7777777777777778,
              "#fb9f3a"
             ],
             [
              0.8888888888888888,
              "#fdca26"
             ],
             [
              1,
              "#f0f921"
             ]
            ],
            "type": "heatmap"
           }
          ],
          "heatmapgl": [
           {
            "colorbar": {
             "outlinewidth": 0,
             "ticks": ""
            },
            "colorscale": [
             [
              0,
              "#0d0887"
             ],
             [
              0.1111111111111111,
              "#46039f"
             ],
             [
              0.2222222222222222,
              "#7201a8"
             ],
             [
              0.3333333333333333,
              "#9c179e"
             ],
             [
              0.4444444444444444,
              "#bd3786"
             ],
             [
              0.5555555555555556,
              "#d8576b"
             ],
             [
              0.6666666666666666,
              "#ed7953"
             ],
             [
              0.7777777777777778,
              "#fb9f3a"
             ],
             [
              0.8888888888888888,
              "#fdca26"
             ],
             [
              1,
              "#f0f921"
             ]
            ],
            "type": "heatmapgl"
           }
          ],
          "histogram": [
           {
            "marker": {
             "pattern": {
              "fillmode": "overlay",
              "size": 10,
              "solidity": 0.2
             }
            },
            "type": "histogram"
           }
          ],
          "histogram2d": [
           {
            "colorbar": {
             "outlinewidth": 0,
             "ticks": ""
            },
            "colorscale": [
             [
              0,
              "#0d0887"
             ],
             [
              0.1111111111111111,
              "#46039f"
             ],
             [
              0.2222222222222222,
              "#7201a8"
             ],
             [
              0.3333333333333333,
              "#9c179e"
             ],
             [
              0.4444444444444444,
              "#bd3786"
             ],
             [
              0.5555555555555556,
              "#d8576b"
             ],
             [
              0.6666666666666666,
              "#ed7953"
             ],
             [
              0.7777777777777778,
              "#fb9f3a"
             ],
             [
              0.8888888888888888,
              "#fdca26"
             ],
             [
              1,
              "#f0f921"
             ]
            ],
            "type": "histogram2d"
           }
          ],
          "histogram2dcontour": [
           {
            "colorbar": {
             "outlinewidth": 0,
             "ticks": ""
            },
            "colorscale": [
             [
              0,
              "#0d0887"
             ],
             [
              0.1111111111111111,
              "#46039f"
             ],
             [
              0.2222222222222222,
              "#7201a8"
             ],
             [
              0.3333333333333333,
              "#9c179e"
             ],
             [
              0.4444444444444444,
              "#bd3786"
             ],
             [
              0.5555555555555556,
              "#d8576b"
             ],
             [
              0.6666666666666666,
              "#ed7953"
             ],
             [
              0.7777777777777778,
              "#fb9f3a"
             ],
             [
              0.8888888888888888,
              "#fdca26"
             ],
             [
              1,
              "#f0f921"
             ]
            ],
            "type": "histogram2dcontour"
           }
          ],
          "mesh3d": [
           {
            "colorbar": {
             "outlinewidth": 0,
             "ticks": ""
            },
            "type": "mesh3d"
           }
          ],
          "parcoords": [
           {
            "line": {
             "colorbar": {
              "outlinewidth": 0,
              "ticks": ""
             }
            },
            "type": "parcoords"
           }
          ],
          "pie": [
           {
            "automargin": true,
            "type": "pie"
           }
          ],
          "scatter": [
           {
            "fillpattern": {
             "fillmode": "overlay",
             "size": 10,
             "solidity": 0.2
            },
            "type": "scatter"
           }
          ],
          "scatter3d": [
           {
            "line": {
             "colorbar": {
              "outlinewidth": 0,
              "ticks": ""
             }
            },
            "marker": {
             "colorbar": {
              "outlinewidth": 0,
              "ticks": ""
             }
            },
            "type": "scatter3d"
           }
          ],
          "scattercarpet": [
           {
            "marker": {
             "colorbar": {
              "outlinewidth": 0,
              "ticks": ""
             }
            },
            "type": "scattercarpet"
           }
          ],
          "scattergeo": [
           {
            "marker": {
             "colorbar": {
              "outlinewidth": 0,
              "ticks": ""
             }
            },
            "type": "scattergeo"
           }
          ],
          "scattergl": [
           {
            "marker": {
             "colorbar": {
              "outlinewidth": 0,
              "ticks": ""
             }
            },
            "type": "scattergl"
           }
          ],
          "scattermapbox": [
           {
            "marker": {
             "colorbar": {
              "outlinewidth": 0,
              "ticks": ""
             }
            },
            "type": "scattermapbox"
           }
          ],
          "scatterpolar": [
           {
            "marker": {
             "colorbar": {
              "outlinewidth": 0,
              "ticks": ""
             }
            },
            "type": "scatterpolar"
           }
          ],
          "scatterpolargl": [
           {
            "marker": {
             "colorbar": {
              "outlinewidth": 0,
              "ticks": ""
             }
            },
            "type": "scatterpolargl"
           }
          ],
          "scatterternary": [
           {
            "marker": {
             "colorbar": {
              "outlinewidth": 0,
              "ticks": ""
             }
            },
            "type": "scatterternary"
           }
          ],
          "surface": [
           {
            "colorbar": {
             "outlinewidth": 0,
             "ticks": ""
            },
            "colorscale": [
             [
              0,
              "#0d0887"
             ],
             [
              0.1111111111111111,
              "#46039f"
             ],
             [
              0.2222222222222222,
              "#7201a8"
             ],
             [
              0.3333333333333333,
              "#9c179e"
             ],
             [
              0.4444444444444444,
              "#bd3786"
             ],
             [
              0.5555555555555556,
              "#d8576b"
             ],
             [
              0.6666666666666666,
              "#ed7953"
             ],
             [
              0.7777777777777778,
              "#fb9f3a"
             ],
             [
              0.8888888888888888,
              "#fdca26"
             ],
             [
              1,
              "#f0f921"
             ]
            ],
            "type": "surface"
           }
          ],
          "table": [
           {
            "cells": {
             "fill": {
              "color": "#EBF0F8"
             },
             "line": {
              "color": "white"
             }
            },
            "header": {
             "fill": {
              "color": "#C8D4E3"
             },
             "line": {
              "color": "white"
             }
            },
            "type": "table"
           }
          ]
         },
         "layout": {
          "annotationdefaults": {
           "arrowcolor": "#2a3f5f",
           "arrowhead": 0,
           "arrowwidth": 1
          },
          "autotypenumbers": "strict",
          "coloraxis": {
           "colorbar": {
            "outlinewidth": 0,
            "ticks": ""
           }
          },
          "colorscale": {
           "diverging": [
            [
             0,
             "#8e0152"
            ],
            [
             0.1,
             "#c51b7d"
            ],
            [
             0.2,
             "#de77ae"
            ],
            [
             0.3,
             "#f1b6da"
            ],
            [
             0.4,
             "#fde0ef"
            ],
            [
             0.5,
             "#f7f7f7"
            ],
            [
             0.6,
             "#e6f5d0"
            ],
            [
             0.7,
             "#b8e186"
            ],
            [
             0.8,
             "#7fbc41"
            ],
            [
             0.9,
             "#4d9221"
            ],
            [
             1,
             "#276419"
            ]
           ],
           "sequential": [
            [
             0,
             "#0d0887"
            ],
            [
             0.1111111111111111,
             "#46039f"
            ],
            [
             0.2222222222222222,
             "#7201a8"
            ],
            [
             0.3333333333333333,
             "#9c179e"
            ],
            [
             0.4444444444444444,
             "#bd3786"
            ],
            [
             0.5555555555555556,
             "#d8576b"
            ],
            [
             0.6666666666666666,
             "#ed7953"
            ],
            [
             0.7777777777777778,
             "#fb9f3a"
            ],
            [
             0.8888888888888888,
             "#fdca26"
            ],
            [
             1,
             "#f0f921"
            ]
           ],
           "sequentialminus": [
            [
             0,
             "#0d0887"
            ],
            [
             0.1111111111111111,
             "#46039f"
            ],
            [
             0.2222222222222222,
             "#7201a8"
            ],
            [
             0.3333333333333333,
             "#9c179e"
            ],
            [
             0.4444444444444444,
             "#bd3786"
            ],
            [
             0.5555555555555556,
             "#d8576b"
            ],
            [
             0.6666666666666666,
             "#ed7953"
            ],
            [
             0.7777777777777778,
             "#fb9f3a"
            ],
            [
             0.8888888888888888,
             "#fdca26"
            ],
            [
             1,
             "#f0f921"
            ]
           ]
          },
          "colorway": [
           "#636efa",
           "#EF553B",
           "#00cc96",
           "#ab63fa",
           "#FFA15A",
           "#19d3f3",
           "#FF6692",
           "#B6E880",
           "#FF97FF",
           "#FECB52"
          ],
          "font": {
           "color": "#2a3f5f"
          },
          "geo": {
           "bgcolor": "white",
           "lakecolor": "white",
           "landcolor": "#E5ECF6",
           "showlakes": true,
           "showland": true,
           "subunitcolor": "white"
          },
          "hoverlabel": {
           "align": "left"
          },
          "hovermode": "closest",
          "mapbox": {
           "style": "light"
          },
          "paper_bgcolor": "white",
          "plot_bgcolor": "#E5ECF6",
          "polar": {
           "angularaxis": {
            "gridcolor": "white",
            "linecolor": "white",
            "ticks": ""
           },
           "bgcolor": "#E5ECF6",
           "radialaxis": {
            "gridcolor": "white",
            "linecolor": "white",
            "ticks": ""
           }
          },
          "scene": {
           "xaxis": {
            "backgroundcolor": "#E5ECF6",
            "gridcolor": "white",
            "gridwidth": 2,
            "linecolor": "white",
            "showbackground": true,
            "ticks": "",
            "zerolinecolor": "white"
           },
           "yaxis": {
            "backgroundcolor": "#E5ECF6",
            "gridcolor": "white",
            "gridwidth": 2,
            "linecolor": "white",
            "showbackground": true,
            "ticks": "",
            "zerolinecolor": "white"
           },
           "zaxis": {
            "backgroundcolor": "#E5ECF6",
            "gridcolor": "white",
            "gridwidth": 2,
            "linecolor": "white",
            "showbackground": true,
            "ticks": "",
            "zerolinecolor": "white"
           }
          },
          "shapedefaults": {
           "line": {
            "color": "#2a3f5f"
           }
          },
          "ternary": {
           "aaxis": {
            "gridcolor": "white",
            "linecolor": "white",
            "ticks": ""
           },
           "baxis": {
            "gridcolor": "white",
            "linecolor": "white",
            "ticks": ""
           },
           "bgcolor": "#E5ECF6",
           "caxis": {
            "gridcolor": "white",
            "linecolor": "white",
            "ticks": ""
           }
          },
          "title": {
           "x": 0.05
          },
          "xaxis": {
           "automargin": true,
           "gridcolor": "white",
           "linecolor": "white",
           "ticks": "",
           "title": {
            "standoff": 15
           },
           "zerolinecolor": "white",
           "zerolinewidth": 2
          },
          "yaxis": {
           "automargin": true,
           "gridcolor": "white",
           "linecolor": "white",
           "ticks": "",
           "title": {
            "standoff": 15
           },
           "zerolinecolor": "white",
           "zerolinewidth": 2
          }
         }
        },
        "xaxis": {
         "anchor": "y",
         "domain": [
          0,
          1
         ],
         "title": {
          "text": "Ano"
         }
        },
        "yaxis": {
         "anchor": "x",
         "domain": [
          0,
          1
         ],
         "title": {
          "text": "Imigrantes"
         }
        }
       }
      }
     },
     "metadata": {},
     "output_type": "display_data"
    }
   ],
   "source": [
    "fig = px.line(\n",
    "    df,\n",
    "    x='Ano',\n",
    "    y='Imigrantes',\n",
    "    color='Country of Citizenship'\n",
    ")\n",
    "fig.show()"
   ]
  },
  {
   "cell_type": "code",
   "execution_count": 12,
   "metadata": {},
   "outputs": [
    {
     "data": {
      "text/plain": [
       "<Axes: xlabel='Ano', ylabel='Imigrantes'>"
      ]
     },
     "execution_count": 12,
     "metadata": {},
     "output_type": "execute_result"
    },
    {
     "data": {
      "image/png": "[encoded data removed]",
      "text/plain": [
       "<Figure size 640x480 with 1 Axes>"
      ]
     },
     "metadata": {},
     "output_type": "display_data"
    }
   ],
   "source": [
    "# Eu preciso consertar o dataset. Ele possui muitos países com dado 0 e que inflam a legenda\n",
    "sns.lineplot(\n",
    "    df,\n",
    "    x='Ano',\n",
    "    y='Imigrantes',\n",
    ")"
   ]
  }
 ],
 "metadata": {
  "kernelspec": {
   "display_name": "base",
   "language": "python",
   "name": "python3"
  },
  "language_info": {
   "codemirror_mode": {
    "name": "ipython",
    "version": 3
   },
   "file_extension": ".py",
   "mimetype": "text/x-python",
   "name": "python",
   "nbconvert_exporter": "python",
   "pygments_lexer": "ipython3",
   "version": "3.11.4"
  }
 },
 "nbformat": 4,
 "nbformat_minor": 2
}
